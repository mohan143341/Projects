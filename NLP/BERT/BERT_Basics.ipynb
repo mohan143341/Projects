{
  "nbformat": 4,
  "nbformat_minor": 0,
  "metadata": {
    "colab": {
      "provenance": [],
      "toc_visible": true,
      "gpuType": "T4"
    },
    "kernelspec": {
      "name": "python3",
      "display_name": "Python 3"
    },
    "language_info": {
      "name": "python"
    },
    "accelerator": "GPU",
    "widgets": {
      "application/vnd.jupyter.widget-state+json": {
        "eb1f8003219e4c839dac6e21f59b38a3": {
          "model_module": "@jupyter-widgets/controls",
          "model_name": "HBoxModel",
          "model_module_version": "1.5.0",
          "state": {
            "_dom_classes": [],
            "_model_module": "@jupyter-widgets/controls",
            "_model_module_version": "1.5.0",
            "_model_name": "HBoxModel",
            "_view_count": null,
            "_view_module": "@jupyter-widgets/controls",
            "_view_module_version": "1.5.0",
            "_view_name": "HBoxView",
            "box_style": "",
            "children": [
              "IPY_MODEL_34bc26a139ff417cab5c4af6a5eb14f1",
              "IPY_MODEL_14eb056ff496410aaae5f2b924493a08",
              "IPY_MODEL_6853b5bc850143eba09d1b6f252d9442"
            ],
            "layout": "IPY_MODEL_8eef857956af4804a9efe47fc8673735"
          }
        },
        "34bc26a139ff417cab5c4af6a5eb14f1": {
          "model_module": "@jupyter-widgets/controls",
          "model_name": "HTMLModel",
          "model_module_version": "1.5.0",
          "state": {
            "_dom_classes": [],
            "_model_module": "@jupyter-widgets/controls",
            "_model_module_version": "1.5.0",
            "_model_name": "HTMLModel",
            "_view_count": null,
            "_view_module": "@jupyter-widgets/controls",
            "_view_module_version": "1.5.0",
            "_view_name": "HTMLView",
            "description": "",
            "description_tooltip": null,
            "layout": "IPY_MODEL_eac0450812c84c7a83fa5801d01458e2",
            "placeholder": "​",
            "style": "IPY_MODEL_90da044ec73341e18aaf7ba77cf6b770",
            "value": "tokenizer_config.json: 100%"
          }
        },
        "14eb056ff496410aaae5f2b924493a08": {
          "model_module": "@jupyter-widgets/controls",
          "model_name": "FloatProgressModel",
          "model_module_version": "1.5.0",
          "state": {
            "_dom_classes": [],
            "_model_module": "@jupyter-widgets/controls",
            "_model_module_version": "1.5.0",
            "_model_name": "FloatProgressModel",
            "_view_count": null,
            "_view_module": "@jupyter-widgets/controls",
            "_view_module_version": "1.5.0",
            "_view_name": "ProgressView",
            "bar_style": "success",
            "description": "",
            "description_tooltip": null,
            "layout": "IPY_MODEL_51ccbfc349004ae89cda2f7fee5436a8",
            "max": 48,
            "min": 0,
            "orientation": "horizontal",
            "style": "IPY_MODEL_5e070ac79254443d98c7274a6ddf8564",
            "value": 48
          }
        },
        "6853b5bc850143eba09d1b6f252d9442": {
          "model_module": "@jupyter-widgets/controls",
          "model_name": "HTMLModel",
          "model_module_version": "1.5.0",
          "state": {
            "_dom_classes": [],
            "_model_module": "@jupyter-widgets/controls",
            "_model_module_version": "1.5.0",
            "_model_name": "HTMLModel",
            "_view_count": null,
            "_view_module": "@jupyter-widgets/controls",
            "_view_module_version": "1.5.0",
            "_view_name": "HTMLView",
            "description": "",
            "description_tooltip": null,
            "layout": "IPY_MODEL_538cc58d5fd044e29ab437c2f3357fba",
            "placeholder": "​",
            "style": "IPY_MODEL_2ef5996792ae4ab89a0e1d6fbbe27add",
            "value": " 48.0/48.0 [00:00&lt;00:00, 622B/s]"
          }
        },
        "8eef857956af4804a9efe47fc8673735": {
          "model_module": "@jupyter-widgets/base",
          "model_name": "LayoutModel",
          "model_module_version": "1.2.0",
          "state": {
            "_model_module": "@jupyter-widgets/base",
            "_model_module_version": "1.2.0",
            "_model_name": "LayoutModel",
            "_view_count": null,
            "_view_module": "@jupyter-widgets/base",
            "_view_module_version": "1.2.0",
            "_view_name": "LayoutView",
            "align_content": null,
            "align_items": null,
            "align_self": null,
            "border": null,
            "bottom": null,
            "display": null,
            "flex": null,
            "flex_flow": null,
            "grid_area": null,
            "grid_auto_columns": null,
            "grid_auto_flow": null,
            "grid_auto_rows": null,
            "grid_column": null,
            "grid_gap": null,
            "grid_row": null,
            "grid_template_areas": null,
            "grid_template_columns": null,
            "grid_template_rows": null,
            "height": null,
            "justify_content": null,
            "justify_items": null,
            "left": null,
            "margin": null,
            "max_height": null,
            "max_width": null,
            "min_height": null,
            "min_width": null,
            "object_fit": null,
            "object_position": null,
            "order": null,
            "overflow": null,
            "overflow_x": null,
            "overflow_y": null,
            "padding": null,
            "right": null,
            "top": null,
            "visibility": null,
            "width": null
          }
        },
        "eac0450812c84c7a83fa5801d01458e2": {
          "model_module": "@jupyter-widgets/base",
          "model_name": "LayoutModel",
          "model_module_version": "1.2.0",
          "state": {
            "_model_module": "@jupyter-widgets/base",
            "_model_module_version": "1.2.0",
            "_model_name": "LayoutModel",
            "_view_count": null,
            "_view_module": "@jupyter-widgets/base",
            "_view_module_version": "1.2.0",
            "_view_name": "LayoutView",
            "align_content": null,
            "align_items": null,
            "align_self": null,
            "border": null,
            "bottom": null,
            "display": null,
            "flex": null,
            "flex_flow": null,
            "grid_area": null,
            "grid_auto_columns": null,
            "grid_auto_flow": null,
            "grid_auto_rows": null,
            "grid_column": null,
            "grid_gap": null,
            "grid_row": null,
            "grid_template_areas": null,
            "grid_template_columns": null,
            "grid_template_rows": null,
            "height": null,
            "justify_content": null,
            "justify_items": null,
            "left": null,
            "margin": null,
            "max_height": null,
            "max_width": null,
            "min_height": null,
            "min_width": null,
            "object_fit": null,
            "object_position": null,
            "order": null,
            "overflow": null,
            "overflow_x": null,
            "overflow_y": null,
            "padding": null,
            "right": null,
            "top": null,
            "visibility": null,
            "width": null
          }
        },
        "90da044ec73341e18aaf7ba77cf6b770": {
          "model_module": "@jupyter-widgets/controls",
          "model_name": "DescriptionStyleModel",
          "model_module_version": "1.5.0",
          "state": {
            "_model_module": "@jupyter-widgets/controls",
            "_model_module_version": "1.5.0",
            "_model_name": "DescriptionStyleModel",
            "_view_count": null,
            "_view_module": "@jupyter-widgets/base",
            "_view_module_version": "1.2.0",
            "_view_name": "StyleView",
            "description_width": ""
          }
        },
        "51ccbfc349004ae89cda2f7fee5436a8": {
          "model_module": "@jupyter-widgets/base",
          "model_name": "LayoutModel",
          "model_module_version": "1.2.0",
          "state": {
            "_model_module": "@jupyter-widgets/base",
            "_model_module_version": "1.2.0",
            "_model_name": "LayoutModel",
            "_view_count": null,
            "_view_module": "@jupyter-widgets/base",
            "_view_module_version": "1.2.0",
            "_view_name": "LayoutView",
            "align_content": null,
            "align_items": null,
            "align_self": null,
            "border": null,
            "bottom": null,
            "display": null,
            "flex": null,
            "flex_flow": null,
            "grid_area": null,
            "grid_auto_columns": null,
            "grid_auto_flow": null,
            "grid_auto_rows": null,
            "grid_column": null,
            "grid_gap": null,
            "grid_row": null,
            "grid_template_areas": null,
            "grid_template_columns": null,
            "grid_template_rows": null,
            "height": null,
            "justify_content": null,
            "justify_items": null,
            "left": null,
            "margin": null,
            "max_height": null,
            "max_width": null,
            "min_height": null,
            "min_width": null,
            "object_fit": null,
            "object_position": null,
            "order": null,
            "overflow": null,
            "overflow_x": null,
            "overflow_y": null,
            "padding": null,
            "right": null,
            "top": null,
            "visibility": null,
            "width": null
          }
        },
        "5e070ac79254443d98c7274a6ddf8564": {
          "model_module": "@jupyter-widgets/controls",
          "model_name": "ProgressStyleModel",
          "model_module_version": "1.5.0",
          "state": {
            "_model_module": "@jupyter-widgets/controls",
            "_model_module_version": "1.5.0",
            "_model_name": "ProgressStyleModel",
            "_view_count": null,
            "_view_module": "@jupyter-widgets/base",
            "_view_module_version": "1.2.0",
            "_view_name": "StyleView",
            "bar_color": null,
            "description_width": ""
          }
        },
        "538cc58d5fd044e29ab437c2f3357fba": {
          "model_module": "@jupyter-widgets/base",
          "model_name": "LayoutModel",
          "model_module_version": "1.2.0",
          "state": {
            "_model_module": "@jupyter-widgets/base",
            "_model_module_version": "1.2.0",
            "_model_name": "LayoutModel",
            "_view_count": null,
            "_view_module": "@jupyter-widgets/base",
            "_view_module_version": "1.2.0",
            "_view_name": "LayoutView",
            "align_content": null,
            "align_items": null,
            "align_self": null,
            "border": null,
            "bottom": null,
            "display": null,
            "flex": null,
            "flex_flow": null,
            "grid_area": null,
            "grid_auto_columns": null,
            "grid_auto_flow": null,
            "grid_auto_rows": null,
            "grid_column": null,
            "grid_gap": null,
            "grid_row": null,
            "grid_template_areas": null,
            "grid_template_columns": null,
            "grid_template_rows": null,
            "height": null,
            "justify_content": null,
            "justify_items": null,
            "left": null,
            "margin": null,
            "max_height": null,
            "max_width": null,
            "min_height": null,
            "min_width": null,
            "object_fit": null,
            "object_position": null,
            "order": null,
            "overflow": null,
            "overflow_x": null,
            "overflow_y": null,
            "padding": null,
            "right": null,
            "top": null,
            "visibility": null,
            "width": null
          }
        },
        "2ef5996792ae4ab89a0e1d6fbbe27add": {
          "model_module": "@jupyter-widgets/controls",
          "model_name": "DescriptionStyleModel",
          "model_module_version": "1.5.0",
          "state": {
            "_model_module": "@jupyter-widgets/controls",
            "_model_module_version": "1.5.0",
            "_model_name": "DescriptionStyleModel",
            "_view_count": null,
            "_view_module": "@jupyter-widgets/base",
            "_view_module_version": "1.2.0",
            "_view_name": "StyleView",
            "description_width": ""
          }
        },
        "297a1ce3568c47688277256cc2b86715": {
          "model_module": "@jupyter-widgets/controls",
          "model_name": "HBoxModel",
          "model_module_version": "1.5.0",
          "state": {
            "_dom_classes": [],
            "_model_module": "@jupyter-widgets/controls",
            "_model_module_version": "1.5.0",
            "_model_name": "HBoxModel",
            "_view_count": null,
            "_view_module": "@jupyter-widgets/controls",
            "_view_module_version": "1.5.0",
            "_view_name": "HBoxView",
            "box_style": "",
            "children": [
              "IPY_MODEL_4f448dbbd6ab4411b7e0c4a20fdfd4ab",
              "IPY_MODEL_0c58b0edda6e453b9ceeb4f0bfb1a00b",
              "IPY_MODEL_947ceb1a033f4c34a50d77710b3fae1c"
            ],
            "layout": "IPY_MODEL_f1913786d10947f3b3d393470682deca"
          }
        },
        "4f448dbbd6ab4411b7e0c4a20fdfd4ab": {
          "model_module": "@jupyter-widgets/controls",
          "model_name": "HTMLModel",
          "model_module_version": "1.5.0",
          "state": {
            "_dom_classes": [],
            "_model_module": "@jupyter-widgets/controls",
            "_model_module_version": "1.5.0",
            "_model_name": "HTMLModel",
            "_view_count": null,
            "_view_module": "@jupyter-widgets/controls",
            "_view_module_version": "1.5.0",
            "_view_name": "HTMLView",
            "description": "",
            "description_tooltip": null,
            "layout": "IPY_MODEL_3f0ccf9b5dba4ac186c48d2e50c4e382",
            "placeholder": "​",
            "style": "IPY_MODEL_5874b410ec27495390714eb64a66a2ac",
            "value": "vocab.txt: 100%"
          }
        },
        "0c58b0edda6e453b9ceeb4f0bfb1a00b": {
          "model_module": "@jupyter-widgets/controls",
          "model_name": "FloatProgressModel",
          "model_module_version": "1.5.0",
          "state": {
            "_dom_classes": [],
            "_model_module": "@jupyter-widgets/controls",
            "_model_module_version": "1.5.0",
            "_model_name": "FloatProgressModel",
            "_view_count": null,
            "_view_module": "@jupyter-widgets/controls",
            "_view_module_version": "1.5.0",
            "_view_name": "ProgressView",
            "bar_style": "success",
            "description": "",
            "description_tooltip": null,
            "layout": "IPY_MODEL_727686de4e9f4b90a9c1a020a37901a5",
            "max": 231508,
            "min": 0,
            "orientation": "horizontal",
            "style": "IPY_MODEL_160b1574188f4197abb13271196698f9",
            "value": 231508
          }
        },
        "947ceb1a033f4c34a50d77710b3fae1c": {
          "model_module": "@jupyter-widgets/controls",
          "model_name": "HTMLModel",
          "model_module_version": "1.5.0",
          "state": {
            "_dom_classes": [],
            "_model_module": "@jupyter-widgets/controls",
            "_model_module_version": "1.5.0",
            "_model_name": "HTMLModel",
            "_view_count": null,
            "_view_module": "@jupyter-widgets/controls",
            "_view_module_version": "1.5.0",
            "_view_name": "HTMLView",
            "description": "",
            "description_tooltip": null,
            "layout": "IPY_MODEL_ce9914b77778443d83224d39c51c842c",
            "placeholder": "​",
            "style": "IPY_MODEL_4ed2da5140c2434a9dac0b11a02e1516",
            "value": " 232k/232k [00:00&lt;00:00, 2.82MB/s]"
          }
        },
        "f1913786d10947f3b3d393470682deca": {
          "model_module": "@jupyter-widgets/base",
          "model_name": "LayoutModel",
          "model_module_version": "1.2.0",
          "state": {
            "_model_module": "@jupyter-widgets/base",
            "_model_module_version": "1.2.0",
            "_model_name": "LayoutModel",
            "_view_count": null,
            "_view_module": "@jupyter-widgets/base",
            "_view_module_version": "1.2.0",
            "_view_name": "LayoutView",
            "align_content": null,
            "align_items": null,
            "align_self": null,
            "border": null,
            "bottom": null,
            "display": null,
            "flex": null,
            "flex_flow": null,
            "grid_area": null,
            "grid_auto_columns": null,
            "grid_auto_flow": null,
            "grid_auto_rows": null,
            "grid_column": null,
            "grid_gap": null,
            "grid_row": null,
            "grid_template_areas": null,
            "grid_template_columns": null,
            "grid_template_rows": null,
            "height": null,
            "justify_content": null,
            "justify_items": null,
            "left": null,
            "margin": null,
            "max_height": null,
            "max_width": null,
            "min_height": null,
            "min_width": null,
            "object_fit": null,
            "object_position": null,
            "order": null,
            "overflow": null,
            "overflow_x": null,
            "overflow_y": null,
            "padding": null,
            "right": null,
            "top": null,
            "visibility": null,
            "width": null
          }
        },
        "3f0ccf9b5dba4ac186c48d2e50c4e382": {
          "model_module": "@jupyter-widgets/base",
          "model_name": "LayoutModel",
          "model_module_version": "1.2.0",
          "state": {
            "_model_module": "@jupyter-widgets/base",
            "_model_module_version": "1.2.0",
            "_model_name": "LayoutModel",
            "_view_count": null,
            "_view_module": "@jupyter-widgets/base",
            "_view_module_version": "1.2.0",
            "_view_name": "LayoutView",
            "align_content": null,
            "align_items": null,
            "align_self": null,
            "border": null,
            "bottom": null,
            "display": null,
            "flex": null,
            "flex_flow": null,
            "grid_area": null,
            "grid_auto_columns": null,
            "grid_auto_flow": null,
            "grid_auto_rows": null,
            "grid_column": null,
            "grid_gap": null,
            "grid_row": null,
            "grid_template_areas": null,
            "grid_template_columns": null,
            "grid_template_rows": null,
            "height": null,
            "justify_content": null,
            "justify_items": null,
            "left": null,
            "margin": null,
            "max_height": null,
            "max_width": null,
            "min_height": null,
            "min_width": null,
            "object_fit": null,
            "object_position": null,
            "order": null,
            "overflow": null,
            "overflow_x": null,
            "overflow_y": null,
            "padding": null,
            "right": null,
            "top": null,
            "visibility": null,
            "width": null
          }
        },
        "5874b410ec27495390714eb64a66a2ac": {
          "model_module": "@jupyter-widgets/controls",
          "model_name": "DescriptionStyleModel",
          "model_module_version": "1.5.0",
          "state": {
            "_model_module": "@jupyter-widgets/controls",
            "_model_module_version": "1.5.0",
            "_model_name": "DescriptionStyleModel",
            "_view_count": null,
            "_view_module": "@jupyter-widgets/base",
            "_view_module_version": "1.2.0",
            "_view_name": "StyleView",
            "description_width": ""
          }
        },
        "727686de4e9f4b90a9c1a020a37901a5": {
          "model_module": "@jupyter-widgets/base",
          "model_name": "LayoutModel",
          "model_module_version": "1.2.0",
          "state": {
            "_model_module": "@jupyter-widgets/base",
            "_model_module_version": "1.2.0",
            "_model_name": "LayoutModel",
            "_view_count": null,
            "_view_module": "@jupyter-widgets/base",
            "_view_module_version": "1.2.0",
            "_view_name": "LayoutView",
            "align_content": null,
            "align_items": null,
            "align_self": null,
            "border": null,
            "bottom": null,
            "display": null,
            "flex": null,
            "flex_flow": null,
            "grid_area": null,
            "grid_auto_columns": null,
            "grid_auto_flow": null,
            "grid_auto_rows": null,
            "grid_column": null,
            "grid_gap": null,
            "grid_row": null,
            "grid_template_areas": null,
            "grid_template_columns": null,
            "grid_template_rows": null,
            "height": null,
            "justify_content": null,
            "justify_items": null,
            "left": null,
            "margin": null,
            "max_height": null,
            "max_width": null,
            "min_height": null,
            "min_width": null,
            "object_fit": null,
            "object_position": null,
            "order": null,
            "overflow": null,
            "overflow_x": null,
            "overflow_y": null,
            "padding": null,
            "right": null,
            "top": null,
            "visibility": null,
            "width": null
          }
        },
        "160b1574188f4197abb13271196698f9": {
          "model_module": "@jupyter-widgets/controls",
          "model_name": "ProgressStyleModel",
          "model_module_version": "1.5.0",
          "state": {
            "_model_module": "@jupyter-widgets/controls",
            "_model_module_version": "1.5.0",
            "_model_name": "ProgressStyleModel",
            "_view_count": null,
            "_view_module": "@jupyter-widgets/base",
            "_view_module_version": "1.2.0",
            "_view_name": "StyleView",
            "bar_color": null,
            "description_width": ""
          }
        },
        "ce9914b77778443d83224d39c51c842c": {
          "model_module": "@jupyter-widgets/base",
          "model_name": "LayoutModel",
          "model_module_version": "1.2.0",
          "state": {
            "_model_module": "@jupyter-widgets/base",
            "_model_module_version": "1.2.0",
            "_model_name": "LayoutModel",
            "_view_count": null,
            "_view_module": "@jupyter-widgets/base",
            "_view_module_version": "1.2.0",
            "_view_name": "LayoutView",
            "align_content": null,
            "align_items": null,
            "align_self": null,
            "border": null,
            "bottom": null,
            "display": null,
            "flex": null,
            "flex_flow": null,
            "grid_area": null,
            "grid_auto_columns": null,
            "grid_auto_flow": null,
            "grid_auto_rows": null,
            "grid_column": null,
            "grid_gap": null,
            "grid_row": null,
            "grid_template_areas": null,
            "grid_template_columns": null,
            "grid_template_rows": null,
            "height": null,
            "justify_content": null,
            "justify_items": null,
            "left": null,
            "margin": null,
            "max_height": null,
            "max_width": null,
            "min_height": null,
            "min_width": null,
            "object_fit": null,
            "object_position": null,
            "order": null,
            "overflow": null,
            "overflow_x": null,
            "overflow_y": null,
            "padding": null,
            "right": null,
            "top": null,
            "visibility": null,
            "width": null
          }
        },
        "4ed2da5140c2434a9dac0b11a02e1516": {
          "model_module": "@jupyter-widgets/controls",
          "model_name": "DescriptionStyleModel",
          "model_module_version": "1.5.0",
          "state": {
            "_model_module": "@jupyter-widgets/controls",
            "_model_module_version": "1.5.0",
            "_model_name": "DescriptionStyleModel",
            "_view_count": null,
            "_view_module": "@jupyter-widgets/base",
            "_view_module_version": "1.2.0",
            "_view_name": "StyleView",
            "description_width": ""
          }
        },
        "7524008868cd48b5a43a0c78fb426ede": {
          "model_module": "@jupyter-widgets/controls",
          "model_name": "HBoxModel",
          "model_module_version": "1.5.0",
          "state": {
            "_dom_classes": [],
            "_model_module": "@jupyter-widgets/controls",
            "_model_module_version": "1.5.0",
            "_model_name": "HBoxModel",
            "_view_count": null,
            "_view_module": "@jupyter-widgets/controls",
            "_view_module_version": "1.5.0",
            "_view_name": "HBoxView",
            "box_style": "",
            "children": [
              "IPY_MODEL_5df882f35fdc4a8785a6da8f333a5c8f",
              "IPY_MODEL_6dbfb167ed534d68bce0ee5f25904cfd",
              "IPY_MODEL_835073e0277f4cdab05a58b1e633d287"
            ],
            "layout": "IPY_MODEL_e2c6eccae1784c94a641ae1a94d9fa49"
          }
        },
        "5df882f35fdc4a8785a6da8f333a5c8f": {
          "model_module": "@jupyter-widgets/controls",
          "model_name": "HTMLModel",
          "model_module_version": "1.5.0",
          "state": {
            "_dom_classes": [],
            "_model_module": "@jupyter-widgets/controls",
            "_model_module_version": "1.5.0",
            "_model_name": "HTMLModel",
            "_view_count": null,
            "_view_module": "@jupyter-widgets/controls",
            "_view_module_version": "1.5.0",
            "_view_name": "HTMLView",
            "description": "",
            "description_tooltip": null,
            "layout": "IPY_MODEL_252239d7f1094b548e2eda381b246645",
            "placeholder": "​",
            "style": "IPY_MODEL_ed61b575fd7d4ed08aef028a29cc670f",
            "value": "tokenizer.json: 100%"
          }
        },
        "6dbfb167ed534d68bce0ee5f25904cfd": {
          "model_module": "@jupyter-widgets/controls",
          "model_name": "FloatProgressModel",
          "model_module_version": "1.5.0",
          "state": {
            "_dom_classes": [],
            "_model_module": "@jupyter-widgets/controls",
            "_model_module_version": "1.5.0",
            "_model_name": "FloatProgressModel",
            "_view_count": null,
            "_view_module": "@jupyter-widgets/controls",
            "_view_module_version": "1.5.0",
            "_view_name": "ProgressView",
            "bar_style": "success",
            "description": "",
            "description_tooltip": null,
            "layout": "IPY_MODEL_492d61f6eebe4575b4f608869848be55",
            "max": 466062,
            "min": 0,
            "orientation": "horizontal",
            "style": "IPY_MODEL_bba9c703fbf84e879b6c8822184fa4e4",
            "value": 466062
          }
        },
        "835073e0277f4cdab05a58b1e633d287": {
          "model_module": "@jupyter-widgets/controls",
          "model_name": "HTMLModel",
          "model_module_version": "1.5.0",
          "state": {
            "_dom_classes": [],
            "_model_module": "@jupyter-widgets/controls",
            "_model_module_version": "1.5.0",
            "_model_name": "HTMLModel",
            "_view_count": null,
            "_view_module": "@jupyter-widgets/controls",
            "_view_module_version": "1.5.0",
            "_view_name": "HTMLView",
            "description": "",
            "description_tooltip": null,
            "layout": "IPY_MODEL_6d6500ce35274ad58383857b56cc6e9a",
            "placeholder": "​",
            "style": "IPY_MODEL_f2b755f31cc640a6954c3b1e46258d91",
            "value": " 466k/466k [00:00&lt;00:00, 4.92MB/s]"
          }
        },
        "e2c6eccae1784c94a641ae1a94d9fa49": {
          "model_module": "@jupyter-widgets/base",
          "model_name": "LayoutModel",
          "model_module_version": "1.2.0",
          "state": {
            "_model_module": "@jupyter-widgets/base",
            "_model_module_version": "1.2.0",
            "_model_name": "LayoutModel",
            "_view_count": null,
            "_view_module": "@jupyter-widgets/base",
            "_view_module_version": "1.2.0",
            "_view_name": "LayoutView",
            "align_content": null,
            "align_items": null,
            "align_self": null,
            "border": null,
            "bottom": null,
            "display": null,
            "flex": null,
            "flex_flow": null,
            "grid_area": null,
            "grid_auto_columns": null,
            "grid_auto_flow": null,
            "grid_auto_rows": null,
            "grid_column": null,
            "grid_gap": null,
            "grid_row": null,
            "grid_template_areas": null,
            "grid_template_columns": null,
            "grid_template_rows": null,
            "height": null,
            "justify_content": null,
            "justify_items": null,
            "left": null,
            "margin": null,
            "max_height": null,
            "max_width": null,
            "min_height": null,
            "min_width": null,
            "object_fit": null,
            "object_position": null,
            "order": null,
            "overflow": null,
            "overflow_x": null,
            "overflow_y": null,
            "padding": null,
            "right": null,
            "top": null,
            "visibility": null,
            "width": null
          }
        },
        "252239d7f1094b548e2eda381b246645": {
          "model_module": "@jupyter-widgets/base",
          "model_name": "LayoutModel",
          "model_module_version": "1.2.0",
          "state": {
            "_model_module": "@jupyter-widgets/base",
            "_model_module_version": "1.2.0",
            "_model_name": "LayoutModel",
            "_view_count": null,
            "_view_module": "@jupyter-widgets/base",
            "_view_module_version": "1.2.0",
            "_view_name": "LayoutView",
            "align_content": null,
            "align_items": null,
            "align_self": null,
            "border": null,
            "bottom": null,
            "display": null,
            "flex": null,
            "flex_flow": null,
            "grid_area": null,
            "grid_auto_columns": null,
            "grid_auto_flow": null,
            "grid_auto_rows": null,
            "grid_column": null,
            "grid_gap": null,
            "grid_row": null,
            "grid_template_areas": null,
            "grid_template_columns": null,
            "grid_template_rows": null,
            "height": null,
            "justify_content": null,
            "justify_items": null,
            "left": null,
            "margin": null,
            "max_height": null,
            "max_width": null,
            "min_height": null,
            "min_width": null,
            "object_fit": null,
            "object_position": null,
            "order": null,
            "overflow": null,
            "overflow_x": null,
            "overflow_y": null,
            "padding": null,
            "right": null,
            "top": null,
            "visibility": null,
            "width": null
          }
        },
        "ed61b575fd7d4ed08aef028a29cc670f": {
          "model_module": "@jupyter-widgets/controls",
          "model_name": "DescriptionStyleModel",
          "model_module_version": "1.5.0",
          "state": {
            "_model_module": "@jupyter-widgets/controls",
            "_model_module_version": "1.5.0",
            "_model_name": "DescriptionStyleModel",
            "_view_count": null,
            "_view_module": "@jupyter-widgets/base",
            "_view_module_version": "1.2.0",
            "_view_name": "StyleView",
            "description_width": ""
          }
        },
        "492d61f6eebe4575b4f608869848be55": {
          "model_module": "@jupyter-widgets/base",
          "model_name": "LayoutModel",
          "model_module_version": "1.2.0",
          "state": {
            "_model_module": "@jupyter-widgets/base",
            "_model_module_version": "1.2.0",
            "_model_name": "LayoutModel",
            "_view_count": null,
            "_view_module": "@jupyter-widgets/base",
            "_view_module_version": "1.2.0",
            "_view_name": "LayoutView",
            "align_content": null,
            "align_items": null,
            "align_self": null,
            "border": null,
            "bottom": null,
            "display": null,
            "flex": null,
            "flex_flow": null,
            "grid_area": null,
            "grid_auto_columns": null,
            "grid_auto_flow": null,
            "grid_auto_rows": null,
            "grid_column": null,
            "grid_gap": null,
            "grid_row": null,
            "grid_template_areas": null,
            "grid_template_columns": null,
            "grid_template_rows": null,
            "height": null,
            "justify_content": null,
            "justify_items": null,
            "left": null,
            "margin": null,
            "max_height": null,
            "max_width": null,
            "min_height": null,
            "min_width": null,
            "object_fit": null,
            "object_position": null,
            "order": null,
            "overflow": null,
            "overflow_x": null,
            "overflow_y": null,
            "padding": null,
            "right": null,
            "top": null,
            "visibility": null,
            "width": null
          }
        },
        "bba9c703fbf84e879b6c8822184fa4e4": {
          "model_module": "@jupyter-widgets/controls",
          "model_name": "ProgressStyleModel",
          "model_module_version": "1.5.0",
          "state": {
            "_model_module": "@jupyter-widgets/controls",
            "_model_module_version": "1.5.0",
            "_model_name": "ProgressStyleModel",
            "_view_count": null,
            "_view_module": "@jupyter-widgets/base",
            "_view_module_version": "1.2.0",
            "_view_name": "StyleView",
            "bar_color": null,
            "description_width": ""
          }
        },
        "6d6500ce35274ad58383857b56cc6e9a": {
          "model_module": "@jupyter-widgets/base",
          "model_name": "LayoutModel",
          "model_module_version": "1.2.0",
          "state": {
            "_model_module": "@jupyter-widgets/base",
            "_model_module_version": "1.2.0",
            "_model_name": "LayoutModel",
            "_view_count": null,
            "_view_module": "@jupyter-widgets/base",
            "_view_module_version": "1.2.0",
            "_view_name": "LayoutView",
            "align_content": null,
            "align_items": null,
            "align_self": null,
            "border": null,
            "bottom": null,
            "display": null,
            "flex": null,
            "flex_flow": null,
            "grid_area": null,
            "grid_auto_columns": null,
            "grid_auto_flow": null,
            "grid_auto_rows": null,
            "grid_column": null,
            "grid_gap": null,
            "grid_row": null,
            "grid_template_areas": null,
            "grid_template_columns": null,
            "grid_template_rows": null,
            "height": null,
            "justify_content": null,
            "justify_items": null,
            "left": null,
            "margin": null,
            "max_height": null,
            "max_width": null,
            "min_height": null,
            "min_width": null,
            "object_fit": null,
            "object_position": null,
            "order": null,
            "overflow": null,
            "overflow_x": null,
            "overflow_y": null,
            "padding": null,
            "right": null,
            "top": null,
            "visibility": null,
            "width": null
          }
        },
        "f2b755f31cc640a6954c3b1e46258d91": {
          "model_module": "@jupyter-widgets/controls",
          "model_name": "DescriptionStyleModel",
          "model_module_version": "1.5.0",
          "state": {
            "_model_module": "@jupyter-widgets/controls",
            "_model_module_version": "1.5.0",
            "_model_name": "DescriptionStyleModel",
            "_view_count": null,
            "_view_module": "@jupyter-widgets/base",
            "_view_module_version": "1.2.0",
            "_view_name": "StyleView",
            "description_width": ""
          }
        },
        "6b3e2f2e722f4b23b36cf05acb31c2da": {
          "model_module": "@jupyter-widgets/controls",
          "model_name": "HBoxModel",
          "model_module_version": "1.5.0",
          "state": {
            "_dom_classes": [],
            "_model_module": "@jupyter-widgets/controls",
            "_model_module_version": "1.5.0",
            "_model_name": "HBoxModel",
            "_view_count": null,
            "_view_module": "@jupyter-widgets/controls",
            "_view_module_version": "1.5.0",
            "_view_name": "HBoxView",
            "box_style": "",
            "children": [
              "IPY_MODEL_39944b41cb6b4be387eb250581101aca",
              "IPY_MODEL_98c32db4d9104cd3a458b7c26e29d4ae",
              "IPY_MODEL_fd1f43371f974dfc9d4111ffc51597b4"
            ],
            "layout": "IPY_MODEL_ac76421390e74885845516e4a2eed2e2"
          }
        },
        "39944b41cb6b4be387eb250581101aca": {
          "model_module": "@jupyter-widgets/controls",
          "model_name": "HTMLModel",
          "model_module_version": "1.5.0",
          "state": {
            "_dom_classes": [],
            "_model_module": "@jupyter-widgets/controls",
            "_model_module_version": "1.5.0",
            "_model_name": "HTMLModel",
            "_view_count": null,
            "_view_module": "@jupyter-widgets/controls",
            "_view_module_version": "1.5.0",
            "_view_name": "HTMLView",
            "description": "",
            "description_tooltip": null,
            "layout": "IPY_MODEL_e01e6173957a48409b54daf26dde6bdb",
            "placeholder": "​",
            "style": "IPY_MODEL_86f3862a5a9e4b51b61a2faf18d7f8af",
            "value": "config.json: 100%"
          }
        },
        "98c32db4d9104cd3a458b7c26e29d4ae": {
          "model_module": "@jupyter-widgets/controls",
          "model_name": "FloatProgressModel",
          "model_module_version": "1.5.0",
          "state": {
            "_dom_classes": [],
            "_model_module": "@jupyter-widgets/controls",
            "_model_module_version": "1.5.0",
            "_model_name": "FloatProgressModel",
            "_view_count": null,
            "_view_module": "@jupyter-widgets/controls",
            "_view_module_version": "1.5.0",
            "_view_name": "ProgressView",
            "bar_style": "success",
            "description": "",
            "description_tooltip": null,
            "layout": "IPY_MODEL_03c553e5f65342c38f3e88411dcd5874",
            "max": 570,
            "min": 0,
            "orientation": "horizontal",
            "style": "IPY_MODEL_ae64255bf64648efb923985db622a749",
            "value": 570
          }
        },
        "fd1f43371f974dfc9d4111ffc51597b4": {
          "model_module": "@jupyter-widgets/controls",
          "model_name": "HTMLModel",
          "model_module_version": "1.5.0",
          "state": {
            "_dom_classes": [],
            "_model_module": "@jupyter-widgets/controls",
            "_model_module_version": "1.5.0",
            "_model_name": "HTMLModel",
            "_view_count": null,
            "_view_module": "@jupyter-widgets/controls",
            "_view_module_version": "1.5.0",
            "_view_name": "HTMLView",
            "description": "",
            "description_tooltip": null,
            "layout": "IPY_MODEL_95b9f0f6eeb24f9f91c338b19829aae6",
            "placeholder": "​",
            "style": "IPY_MODEL_4d4b7d3763ba49c9a6b9a0ecb231f5d9",
            "value": " 570/570 [00:00&lt;00:00, 16.1kB/s]"
          }
        },
        "ac76421390e74885845516e4a2eed2e2": {
          "model_module": "@jupyter-widgets/base",
          "model_name": "LayoutModel",
          "model_module_version": "1.2.0",
          "state": {
            "_model_module": "@jupyter-widgets/base",
            "_model_module_version": "1.2.0",
            "_model_name": "LayoutModel",
            "_view_count": null,
            "_view_module": "@jupyter-widgets/base",
            "_view_module_version": "1.2.0",
            "_view_name": "LayoutView",
            "align_content": null,
            "align_items": null,
            "align_self": null,
            "border": null,
            "bottom": null,
            "display": null,
            "flex": null,
            "flex_flow": null,
            "grid_area": null,
            "grid_auto_columns": null,
            "grid_auto_flow": null,
            "grid_auto_rows": null,
            "grid_column": null,
            "grid_gap": null,
            "grid_row": null,
            "grid_template_areas": null,
            "grid_template_columns": null,
            "grid_template_rows": null,
            "height": null,
            "justify_content": null,
            "justify_items": null,
            "left": null,
            "margin": null,
            "max_height": null,
            "max_width": null,
            "min_height": null,
            "min_width": null,
            "object_fit": null,
            "object_position": null,
            "order": null,
            "overflow": null,
            "overflow_x": null,
            "overflow_y": null,
            "padding": null,
            "right": null,
            "top": null,
            "visibility": null,
            "width": null
          }
        },
        "e01e6173957a48409b54daf26dde6bdb": {
          "model_module": "@jupyter-widgets/base",
          "model_name": "LayoutModel",
          "model_module_version": "1.2.0",
          "state": {
            "_model_module": "@jupyter-widgets/base",
            "_model_module_version": "1.2.0",
            "_model_name": "LayoutModel",
            "_view_count": null,
            "_view_module": "@jupyter-widgets/base",
            "_view_module_version": "1.2.0",
            "_view_name": "LayoutView",
            "align_content": null,
            "align_items": null,
            "align_self": null,
            "border": null,
            "bottom": null,
            "display": null,
            "flex": null,
            "flex_flow": null,
            "grid_area": null,
            "grid_auto_columns": null,
            "grid_auto_flow": null,
            "grid_auto_rows": null,
            "grid_column": null,
            "grid_gap": null,
            "grid_row": null,
            "grid_template_areas": null,
            "grid_template_columns": null,
            "grid_template_rows": null,
            "height": null,
            "justify_content": null,
            "justify_items": null,
            "left": null,
            "margin": null,
            "max_height": null,
            "max_width": null,
            "min_height": null,
            "min_width": null,
            "object_fit": null,
            "object_position": null,
            "order": null,
            "overflow": null,
            "overflow_x": null,
            "overflow_y": null,
            "padding": null,
            "right": null,
            "top": null,
            "visibility": null,
            "width": null
          }
        },
        "86f3862a5a9e4b51b61a2faf18d7f8af": {
          "model_module": "@jupyter-widgets/controls",
          "model_name": "DescriptionStyleModel",
          "model_module_version": "1.5.0",
          "state": {
            "_model_module": "@jupyter-widgets/controls",
            "_model_module_version": "1.5.0",
            "_model_name": "DescriptionStyleModel",
            "_view_count": null,
            "_view_module": "@jupyter-widgets/base",
            "_view_module_version": "1.2.0",
            "_view_name": "StyleView",
            "description_width": ""
          }
        },
        "03c553e5f65342c38f3e88411dcd5874": {
          "model_module": "@jupyter-widgets/base",
          "model_name": "LayoutModel",
          "model_module_version": "1.2.0",
          "state": {
            "_model_module": "@jupyter-widgets/base",
            "_model_module_version": "1.2.0",
            "_model_name": "LayoutModel",
            "_view_count": null,
            "_view_module": "@jupyter-widgets/base",
            "_view_module_version": "1.2.0",
            "_view_name": "LayoutView",
            "align_content": null,
            "align_items": null,
            "align_self": null,
            "border": null,
            "bottom": null,
            "display": null,
            "flex": null,
            "flex_flow": null,
            "grid_area": null,
            "grid_auto_columns": null,
            "grid_auto_flow": null,
            "grid_auto_rows": null,
            "grid_column": null,
            "grid_gap": null,
            "grid_row": null,
            "grid_template_areas": null,
            "grid_template_columns": null,
            "grid_template_rows": null,
            "height": null,
            "justify_content": null,
            "justify_items": null,
            "left": null,
            "margin": null,
            "max_height": null,
            "max_width": null,
            "min_height": null,
            "min_width": null,
            "object_fit": null,
            "object_position": null,
            "order": null,
            "overflow": null,
            "overflow_x": null,
            "overflow_y": null,
            "padding": null,
            "right": null,
            "top": null,
            "visibility": null,
            "width": null
          }
        },
        "ae64255bf64648efb923985db622a749": {
          "model_module": "@jupyter-widgets/controls",
          "model_name": "ProgressStyleModel",
          "model_module_version": "1.5.0",
          "state": {
            "_model_module": "@jupyter-widgets/controls",
            "_model_module_version": "1.5.0",
            "_model_name": "ProgressStyleModel",
            "_view_count": null,
            "_view_module": "@jupyter-widgets/base",
            "_view_module_version": "1.2.0",
            "_view_name": "StyleView",
            "bar_color": null,
            "description_width": ""
          }
        },
        "95b9f0f6eeb24f9f91c338b19829aae6": {
          "model_module": "@jupyter-widgets/base",
          "model_name": "LayoutModel",
          "model_module_version": "1.2.0",
          "state": {
            "_model_module": "@jupyter-widgets/base",
            "_model_module_version": "1.2.0",
            "_model_name": "LayoutModel",
            "_view_count": null,
            "_view_module": "@jupyter-widgets/base",
            "_view_module_version": "1.2.0",
            "_view_name": "LayoutView",
            "align_content": null,
            "align_items": null,
            "align_self": null,
            "border": null,
            "bottom": null,
            "display": null,
            "flex": null,
            "flex_flow": null,
            "grid_area": null,
            "grid_auto_columns": null,
            "grid_auto_flow": null,
            "grid_auto_rows": null,
            "grid_column": null,
            "grid_gap": null,
            "grid_row": null,
            "grid_template_areas": null,
            "grid_template_columns": null,
            "grid_template_rows": null,
            "height": null,
            "justify_content": null,
            "justify_items": null,
            "left": null,
            "margin": null,
            "max_height": null,
            "max_width": null,
            "min_height": null,
            "min_width": null,
            "object_fit": null,
            "object_position": null,
            "order": null,
            "overflow": null,
            "overflow_x": null,
            "overflow_y": null,
            "padding": null,
            "right": null,
            "top": null,
            "visibility": null,
            "width": null
          }
        },
        "4d4b7d3763ba49c9a6b9a0ecb231f5d9": {
          "model_module": "@jupyter-widgets/controls",
          "model_name": "DescriptionStyleModel",
          "model_module_version": "1.5.0",
          "state": {
            "_model_module": "@jupyter-widgets/controls",
            "_model_module_version": "1.5.0",
            "_model_name": "DescriptionStyleModel",
            "_view_count": null,
            "_view_module": "@jupyter-widgets/base",
            "_view_module_version": "1.2.0",
            "_view_name": "StyleView",
            "description_width": ""
          }
        },
        "a94d94e533564ae0b812eae93c243f79": {
          "model_module": "@jupyter-widgets/controls",
          "model_name": "HBoxModel",
          "model_module_version": "1.5.0",
          "state": {
            "_dom_classes": [],
            "_model_module": "@jupyter-widgets/controls",
            "_model_module_version": "1.5.0",
            "_model_name": "HBoxModel",
            "_view_count": null,
            "_view_module": "@jupyter-widgets/controls",
            "_view_module_version": "1.5.0",
            "_view_name": "HBoxView",
            "box_style": "",
            "children": [
              "IPY_MODEL_485a7cf17e364cb4b357629584cdb459",
              "IPY_MODEL_9550f7e7ed454eb8ac22f10880b5a921",
              "IPY_MODEL_82a9658725364d6f9cbec3169ad13caa"
            ],
            "layout": "IPY_MODEL_849062dcce7e475a96360f336a293dea"
          }
        },
        "485a7cf17e364cb4b357629584cdb459": {
          "model_module": "@jupyter-widgets/controls",
          "model_name": "HTMLModel",
          "model_module_version": "1.5.0",
          "state": {
            "_dom_classes": [],
            "_model_module": "@jupyter-widgets/controls",
            "_model_module_version": "1.5.0",
            "_model_name": "HTMLModel",
            "_view_count": null,
            "_view_module": "@jupyter-widgets/controls",
            "_view_module_version": "1.5.0",
            "_view_name": "HTMLView",
            "description": "",
            "description_tooltip": null,
            "layout": "IPY_MODEL_e083a3ea60ee45d5abf3504695c9278b",
            "placeholder": "​",
            "style": "IPY_MODEL_c020819f0bac43cbb238e50cdd2ec70c",
            "value": "model.safetensors: 100%"
          }
        },
        "9550f7e7ed454eb8ac22f10880b5a921": {
          "model_module": "@jupyter-widgets/controls",
          "model_name": "FloatProgressModel",
          "model_module_version": "1.5.0",
          "state": {
            "_dom_classes": [],
            "_model_module": "@jupyter-widgets/controls",
            "_model_module_version": "1.5.0",
            "_model_name": "FloatProgressModel",
            "_view_count": null,
            "_view_module": "@jupyter-widgets/controls",
            "_view_module_version": "1.5.0",
            "_view_name": "ProgressView",
            "bar_style": "success",
            "description": "",
            "description_tooltip": null,
            "layout": "IPY_MODEL_c507d8a089d8409db8a74711789ff1e0",
            "max": 440449768,
            "min": 0,
            "orientation": "horizontal",
            "style": "IPY_MODEL_ca68b7b9916b4ef29b33e29697113866",
            "value": 440449768
          }
        },
        "82a9658725364d6f9cbec3169ad13caa": {
          "model_module": "@jupyter-widgets/controls",
          "model_name": "HTMLModel",
          "model_module_version": "1.5.0",
          "state": {
            "_dom_classes": [],
            "_model_module": "@jupyter-widgets/controls",
            "_model_module_version": "1.5.0",
            "_model_name": "HTMLModel",
            "_view_count": null,
            "_view_module": "@jupyter-widgets/controls",
            "_view_module_version": "1.5.0",
            "_view_name": "HTMLView",
            "description": "",
            "description_tooltip": null,
            "layout": "IPY_MODEL_0188f667d3984015b1e7df0f295db54a",
            "placeholder": "​",
            "style": "IPY_MODEL_ea897688130d49b38434c91e0c6e7568",
            "value": " 440M/440M [00:03&lt;00:00, 111MB/s]"
          }
        },
        "849062dcce7e475a96360f336a293dea": {
          "model_module": "@jupyter-widgets/base",
          "model_name": "LayoutModel",
          "model_module_version": "1.2.0",
          "state": {
            "_model_module": "@jupyter-widgets/base",
            "_model_module_version": "1.2.0",
            "_model_name": "LayoutModel",
            "_view_count": null,
            "_view_module": "@jupyter-widgets/base",
            "_view_module_version": "1.2.0",
            "_view_name": "LayoutView",
            "align_content": null,
            "align_items": null,
            "align_self": null,
            "border": null,
            "bottom": null,
            "display": null,
            "flex": null,
            "flex_flow": null,
            "grid_area": null,
            "grid_auto_columns": null,
            "grid_auto_flow": null,
            "grid_auto_rows": null,
            "grid_column": null,
            "grid_gap": null,
            "grid_row": null,
            "grid_template_areas": null,
            "grid_template_columns": null,
            "grid_template_rows": null,
            "height": null,
            "justify_content": null,
            "justify_items": null,
            "left": null,
            "margin": null,
            "max_height": null,
            "max_width": null,
            "min_height": null,
            "min_width": null,
            "object_fit": null,
            "object_position": null,
            "order": null,
            "overflow": null,
            "overflow_x": null,
            "overflow_y": null,
            "padding": null,
            "right": null,
            "top": null,
            "visibility": null,
            "width": null
          }
        },
        "e083a3ea60ee45d5abf3504695c9278b": {
          "model_module": "@jupyter-widgets/base",
          "model_name": "LayoutModel",
          "model_module_version": "1.2.0",
          "state": {
            "_model_module": "@jupyter-widgets/base",
            "_model_module_version": "1.2.0",
            "_model_name": "LayoutModel",
            "_view_count": null,
            "_view_module": "@jupyter-widgets/base",
            "_view_module_version": "1.2.0",
            "_view_name": "LayoutView",
            "align_content": null,
            "align_items": null,
            "align_self": null,
            "border": null,
            "bottom": null,
            "display": null,
            "flex": null,
            "flex_flow": null,
            "grid_area": null,
            "grid_auto_columns": null,
            "grid_auto_flow": null,
            "grid_auto_rows": null,
            "grid_column": null,
            "grid_gap": null,
            "grid_row": null,
            "grid_template_areas": null,
            "grid_template_columns": null,
            "grid_template_rows": null,
            "height": null,
            "justify_content": null,
            "justify_items": null,
            "left": null,
            "margin": null,
            "max_height": null,
            "max_width": null,
            "min_height": null,
            "min_width": null,
            "object_fit": null,
            "object_position": null,
            "order": null,
            "overflow": null,
            "overflow_x": null,
            "overflow_y": null,
            "padding": null,
            "right": null,
            "top": null,
            "visibility": null,
            "width": null
          }
        },
        "c020819f0bac43cbb238e50cdd2ec70c": {
          "model_module": "@jupyter-widgets/controls",
          "model_name": "DescriptionStyleModel",
          "model_module_version": "1.5.0",
          "state": {
            "_model_module": "@jupyter-widgets/controls",
            "_model_module_version": "1.5.0",
            "_model_name": "DescriptionStyleModel",
            "_view_count": null,
            "_view_module": "@jupyter-widgets/base",
            "_view_module_version": "1.2.0",
            "_view_name": "StyleView",
            "description_width": ""
          }
        },
        "c507d8a089d8409db8a74711789ff1e0": {
          "model_module": "@jupyter-widgets/base",
          "model_name": "LayoutModel",
          "model_module_version": "1.2.0",
          "state": {
            "_model_module": "@jupyter-widgets/base",
            "_model_module_version": "1.2.0",
            "_model_name": "LayoutModel",
            "_view_count": null,
            "_view_module": "@jupyter-widgets/base",
            "_view_module_version": "1.2.0",
            "_view_name": "LayoutView",
            "align_content": null,
            "align_items": null,
            "align_self": null,
            "border": null,
            "bottom": null,
            "display": null,
            "flex": null,
            "flex_flow": null,
            "grid_area": null,
            "grid_auto_columns": null,
            "grid_auto_flow": null,
            "grid_auto_rows": null,
            "grid_column": null,
            "grid_gap": null,
            "grid_row": null,
            "grid_template_areas": null,
            "grid_template_columns": null,
            "grid_template_rows": null,
            "height": null,
            "justify_content": null,
            "justify_items": null,
            "left": null,
            "margin": null,
            "max_height": null,
            "max_width": null,
            "min_height": null,
            "min_width": null,
            "object_fit": null,
            "object_position": null,
            "order": null,
            "overflow": null,
            "overflow_x": null,
            "overflow_y": null,
            "padding": null,
            "right": null,
            "top": null,
            "visibility": null,
            "width": null
          }
        },
        "ca68b7b9916b4ef29b33e29697113866": {
          "model_module": "@jupyter-widgets/controls",
          "model_name": "ProgressStyleModel",
          "model_module_version": "1.5.0",
          "state": {
            "_model_module": "@jupyter-widgets/controls",
            "_model_module_version": "1.5.0",
            "_model_name": "ProgressStyleModel",
            "_view_count": null,
            "_view_module": "@jupyter-widgets/base",
            "_view_module_version": "1.2.0",
            "_view_name": "StyleView",
            "bar_color": null,
            "description_width": ""
          }
        },
        "0188f667d3984015b1e7df0f295db54a": {
          "model_module": "@jupyter-widgets/base",
          "model_name": "LayoutModel",
          "model_module_version": "1.2.0",
          "state": {
            "_model_module": "@jupyter-widgets/base",
            "_model_module_version": "1.2.0",
            "_model_name": "LayoutModel",
            "_view_count": null,
            "_view_module": "@jupyter-widgets/base",
            "_view_module_version": "1.2.0",
            "_view_name": "LayoutView",
            "align_content": null,
            "align_items": null,
            "align_self": null,
            "border": null,
            "bottom": null,
            "display": null,
            "flex": null,
            "flex_flow": null,
            "grid_area": null,
            "grid_auto_columns": null,
            "grid_auto_flow": null,
            "grid_auto_rows": null,
            "grid_column": null,
            "grid_gap": null,
            "grid_row": null,
            "grid_template_areas": null,
            "grid_template_columns": null,
            "grid_template_rows": null,
            "height": null,
            "justify_content": null,
            "justify_items": null,
            "left": null,
            "margin": null,
            "max_height": null,
            "max_width": null,
            "min_height": null,
            "min_width": null,
            "object_fit": null,
            "object_position": null,
            "order": null,
            "overflow": null,
            "overflow_x": null,
            "overflow_y": null,
            "padding": null,
            "right": null,
            "top": null,
            "visibility": null,
            "width": null
          }
        },
        "ea897688130d49b38434c91e0c6e7568": {
          "model_module": "@jupyter-widgets/controls",
          "model_name": "DescriptionStyleModel",
          "model_module_version": "1.5.0",
          "state": {
            "_model_module": "@jupyter-widgets/controls",
            "_model_module_version": "1.5.0",
            "_model_name": "DescriptionStyleModel",
            "_view_count": null,
            "_view_module": "@jupyter-widgets/base",
            "_view_module_version": "1.2.0",
            "_view_name": "StyleView",
            "description_width": ""
          }
        }
      }
    }
  },
  "cells": [
    {
      "cell_type": "markdown",
      "source": [
        "# Resources : https://medium.com/@vipra_singh"
      ],
      "metadata": {
        "id": "thV2aIB7H9t_"
      }
    },
    {
      "cell_type": "markdown",
      "source": [
        "# Finetuning Bert Basics"
      ],
      "metadata": {
        "id": "2d0P7dy8ZwoH"
      }
    },
    {
      "cell_type": "code",
      "source": [
        "import tensorflow as tf\n",
        "from transformers import BertTokenizer, TFBertForSequenceClassification\n",
        "\n",
        "# Load the pre-trained BERT tokenizer\n",
        "tokenizer = BertTokenizer.from_pretrained('bert-base-uncased')\n",
        "\n",
        "# Load the pre-trained BERT model for sequence classification\n",
        "model = TFBertForSequenceClassification.from_pretrained('bert-base-uncased')\n"
      ],
      "metadata": {
        "colab": {
          "base_uri": "https://localhost:8080/",
          "height": 405,
          "referenced_widgets": [
            "eb1f8003219e4c839dac6e21f59b38a3",
            "34bc26a139ff417cab5c4af6a5eb14f1",
            "14eb056ff496410aaae5f2b924493a08",
            "6853b5bc850143eba09d1b6f252d9442",
            "8eef857956af4804a9efe47fc8673735",
            "eac0450812c84c7a83fa5801d01458e2",
            "90da044ec73341e18aaf7ba77cf6b770",
            "51ccbfc349004ae89cda2f7fee5436a8",
            "5e070ac79254443d98c7274a6ddf8564",
            "538cc58d5fd044e29ab437c2f3357fba",
            "2ef5996792ae4ab89a0e1d6fbbe27add",
            "297a1ce3568c47688277256cc2b86715",
            "4f448dbbd6ab4411b7e0c4a20fdfd4ab",
            "0c58b0edda6e453b9ceeb4f0bfb1a00b",
            "947ceb1a033f4c34a50d77710b3fae1c",
            "f1913786d10947f3b3d393470682deca",
            "3f0ccf9b5dba4ac186c48d2e50c4e382",
            "5874b410ec27495390714eb64a66a2ac",
            "727686de4e9f4b90a9c1a020a37901a5",
            "160b1574188f4197abb13271196698f9",
            "ce9914b77778443d83224d39c51c842c",
            "4ed2da5140c2434a9dac0b11a02e1516",
            "7524008868cd48b5a43a0c78fb426ede",
            "5df882f35fdc4a8785a6da8f333a5c8f",
            "6dbfb167ed534d68bce0ee5f25904cfd",
            "835073e0277f4cdab05a58b1e633d287",
            "e2c6eccae1784c94a641ae1a94d9fa49",
            "252239d7f1094b548e2eda381b246645",
            "ed61b575fd7d4ed08aef028a29cc670f",
            "492d61f6eebe4575b4f608869848be55",
            "bba9c703fbf84e879b6c8822184fa4e4",
            "6d6500ce35274ad58383857b56cc6e9a",
            "f2b755f31cc640a6954c3b1e46258d91",
            "6b3e2f2e722f4b23b36cf05acb31c2da",
            "39944b41cb6b4be387eb250581101aca",
            "98c32db4d9104cd3a458b7c26e29d4ae",
            "fd1f43371f974dfc9d4111ffc51597b4",
            "ac76421390e74885845516e4a2eed2e2",
            "e01e6173957a48409b54daf26dde6bdb",
            "86f3862a5a9e4b51b61a2faf18d7f8af",
            "03c553e5f65342c38f3e88411dcd5874",
            "ae64255bf64648efb923985db622a749",
            "95b9f0f6eeb24f9f91c338b19829aae6",
            "4d4b7d3763ba49c9a6b9a0ecb231f5d9",
            "a94d94e533564ae0b812eae93c243f79",
            "485a7cf17e364cb4b357629584cdb459",
            "9550f7e7ed454eb8ac22f10880b5a921",
            "82a9658725364d6f9cbec3169ad13caa",
            "849062dcce7e475a96360f336a293dea",
            "e083a3ea60ee45d5abf3504695c9278b",
            "c020819f0bac43cbb238e50cdd2ec70c",
            "c507d8a089d8409db8a74711789ff1e0",
            "ca68b7b9916b4ef29b33e29697113866",
            "0188f667d3984015b1e7df0f295db54a",
            "ea897688130d49b38434c91e0c6e7568"
          ]
        },
        "id": "C7qnNsHpipjL",
        "outputId": "27f6a969-ec81-49e9-fe50-e0e60110140e"
      },
      "execution_count": null,
      "outputs": [
        {
          "output_type": "stream",
          "name": "stderr",
          "text": [
            "/usr/local/lib/python3.10/dist-packages/huggingface_hub/utils/_token.py:89: UserWarning: \n",
            "The secret `HF_TOKEN` does not exist in your Colab secrets.\n",
            "To authenticate with the Hugging Face Hub, create a token in your settings tab (https://huggingface.co/settings/tokens), set it as secret in your Google Colab and restart your session.\n",
            "You will be able to reuse this secret in all of your notebooks.\n",
            "Please note that authentication is recommended but still optional to access public models or datasets.\n",
            "  warnings.warn(\n"
          ]
        },
        {
          "output_type": "display_data",
          "data": {
            "text/plain": [
              "tokenizer_config.json:   0%|          | 0.00/48.0 [00:00<?, ?B/s]"
            ],
            "application/vnd.jupyter.widget-view+json": {
              "version_major": 2,
              "version_minor": 0,
              "model_id": "eb1f8003219e4c839dac6e21f59b38a3"
            }
          },
          "metadata": {}
        },
        {
          "output_type": "display_data",
          "data": {
            "text/plain": [
              "vocab.txt:   0%|          | 0.00/232k [00:00<?, ?B/s]"
            ],
            "application/vnd.jupyter.widget-view+json": {
              "version_major": 2,
              "version_minor": 0,
              "model_id": "297a1ce3568c47688277256cc2b86715"
            }
          },
          "metadata": {}
        },
        {
          "output_type": "display_data",
          "data": {
            "text/plain": [
              "tokenizer.json:   0%|          | 0.00/466k [00:00<?, ?B/s]"
            ],
            "application/vnd.jupyter.widget-view+json": {
              "version_major": 2,
              "version_minor": 0,
              "model_id": "7524008868cd48b5a43a0c78fb426ede"
            }
          },
          "metadata": {}
        },
        {
          "output_type": "stream",
          "name": "stderr",
          "text": [
            "/usr/local/lib/python3.10/dist-packages/huggingface_hub/file_download.py:1132: FutureWarning: `resume_download` is deprecated and will be removed in version 1.0.0. Downloads always resume when possible. If you want to force a new download, use `force_download=True`.\n",
            "  warnings.warn(\n"
          ]
        },
        {
          "output_type": "display_data",
          "data": {
            "text/plain": [
              "config.json:   0%|          | 0.00/570 [00:00<?, ?B/s]"
            ],
            "application/vnd.jupyter.widget-view+json": {
              "version_major": 2,
              "version_minor": 0,
              "model_id": "6b3e2f2e722f4b23b36cf05acb31c2da"
            }
          },
          "metadata": {}
        },
        {
          "output_type": "display_data",
          "data": {
            "text/plain": [
              "model.safetensors:   0%|          | 0.00/440M [00:00<?, ?B/s]"
            ],
            "application/vnd.jupyter.widget-view+json": {
              "version_major": 2,
              "version_minor": 0,
              "model_id": "a94d94e533564ae0b812eae93c243f79"
            }
          },
          "metadata": {}
        },
        {
          "output_type": "stream",
          "name": "stderr",
          "text": [
            "All PyTorch model weights were used when initializing TFBertForSequenceClassification.\n",
            "\n",
            "Some weights or buffers of the TF 2.0 model TFBertForSequenceClassification were not initialized from the PyTorch model and are newly initialized: ['classifier.weight', 'classifier.bias']\n",
            "You should probably TRAIN this model on a down-stream task to be able to use it for predictions and inference.\n"
          ]
        }
      ]
    },
    {
      "cell_type": "markdown",
      "source": [
        "## Encoding / Tokenization"
      ],
      "metadata": {
        "id": "tyINLVNS5GSY"
      }
    },
    {
      "cell_type": "markdown",
      "source": [
        "1. **input_ids:** provide the actual content of the input text.\n",
        "2. **attention_mask:** ensures that the model focuses on the actual content and not the padding.\n",
        "3. **token_type_ids:**  help the model distinguish between different segments of the input."
      ],
      "metadata": {
        "id": "UkAOczoF478L"
      }
    },
    {
      "cell_type": "code",
      "source": [
        "# Tokenize a single text for clarity\n",
        "text = [\"I love programming.\"]\n",
        "encoding = tokenizer(text, truncation=True, padding='max_length', max_length=10, return_tensors='tf')\n",
        "\n",
        "# Decode the token IDs back to tokens\n",
        "tokens = tokenizer.convert_ids_to_tokens(encoding['input_ids'][0].numpy())\n",
        "\n",
        "print(\"Text:\", text)\n",
        "print(\"Tokens:\", tokens)\n",
        "print(\"Token IDs:\", encoding['input_ids'][0].numpy())\n",
        "print(\"Token Type IDs:\", encoding['token_type_ids'][0].numpy())\n",
        "print(\"Attention Mask:\", encoding['attention_mask'][0].numpy())\n",
        "print(\"encoding:\",encoding['input_ids'][0].numpy().shape)"
      ],
      "metadata": {
        "colab": {
          "base_uri": "https://localhost:8080/"
        },
        "id": "DX2W_o_pmdfX",
        "outputId": "66585427-2c94-4c9e-a475-ae8bb3ed6b51"
      },
      "execution_count": null,
      "outputs": [
        {
          "output_type": "stream",
          "name": "stdout",
          "text": [
            "Text: ['I love programming.']\n",
            "Tokens: ['[CLS]', 'i', 'love', 'programming', '.', '[SEP]', '[PAD]', '[PAD]', '[PAD]', '[PAD]']\n",
            "Token IDs: [ 101 1045 2293 4730 1012  102    0    0    0    0]\n",
            "Token Type IDs: [0 0 0 0 0 0 0 0 0 0]\n",
            "Attention Mask: [1 1 1 1 1 1 0 0 0 0]\n",
            "encoding: (10,)\n"
          ]
        }
      ]
    },
    {
      "cell_type": "code",
      "source": [
        "# Example dataset\n",
        "texts = [\"I love programming.\", \"The weather is nice today.\", \"I'm feeling great!\"]\n",
        "labels = [1, 0, 1]  # Binary classification labels (e.g., 1 for positive, 0 for negative)\n",
        "\n",
        "# Tokenize the texts\n",
        "encodings = tokenizer(texts, truncation=True, padding=True, max_length=128, return_tensors='tf')\n",
        "\n",
        "# Convert labels to tensor\n",
        "labels = tf.convert_to_tensor(labels)\n",
        "\n",
        "# Create a dataset\n",
        "dataset = tf.data.Dataset.from_tensor_slices((dict(encodings), labels))\n",
        "dataset = dataset.shuffle(len(texts)).batch(2)\n"
      ],
      "metadata": {
        "id": "EsxjZDWpkkqM"
      },
      "execution_count": null,
      "outputs": []
    },
    {
      "cell_type": "code",
      "source": [
        "from transformers import TFBertForSequenceClassification\n",
        "\n",
        "# Load the pre-trained BERT model for sequence classification\n",
        "model = TFBertForSequenceClassification.from_pretrained('bert-base-uncased')\n",
        "\n",
        "# Compile the model\n",
        "model.compile(optimizer=tf.keras.optimizers.Adam(learning_rate=2e-5),\n",
        "              loss=tf.keras.losses.SparseCategoricalCrossentropy(from_logits=True),\n",
        "              metrics=['accuracy'])\n"
      ],
      "metadata": {
        "colab": {
          "base_uri": "https://localhost:8080/"
        },
        "id": "jm8DXIFElx9p",
        "outputId": "5d08189e-802b-4328-b64c-541bd7fecd01"
      },
      "execution_count": null,
      "outputs": [
        {
          "output_type": "stream",
          "name": "stderr",
          "text": [
            "All PyTorch model weights were used when initializing TFBertForSequenceClassification.\n",
            "\n",
            "Some weights or buffers of the TF 2.0 model TFBertForSequenceClassification were not initialized from the PyTorch model and are newly initialized: ['classifier.weight', 'classifier.bias']\n",
            "You should probably TRAIN this model on a down-stream task to be able to use it for predictions and inference.\n"
          ]
        }
      ]
    },
    {
      "cell_type": "code",
      "source": [
        "# Fine-tune the model\n",
        "model.fit(dataset, epochs=3)\n"
      ],
      "metadata": {
        "colab": {
          "base_uri": "https://localhost:8080/"
        },
        "id": "NzyOtqFdl0Zs",
        "outputId": "09ba5cc0-29e9-49cf-da28-ecbb2aaa2d42"
      },
      "execution_count": null,
      "outputs": [
        {
          "output_type": "stream",
          "name": "stdout",
          "text": [
            "Epoch 1/3\n"
          ]
        },
        {
          "output_type": "stream",
          "name": "stderr",
          "text": [
            "WARNING:tensorflow:AutoGraph could not transform <function infer_framework at 0x7fca7c4209d0> and will run it as-is.\n",
            "Cause: for/else statement not yet supported\n",
            "To silence this warning, decorate the function with @tf.autograph.experimental.do_not_convert\n"
          ]
        },
        {
          "output_type": "stream",
          "name": "stdout",
          "text": [
            "WARNING: AutoGraph could not transform <function infer_framework at 0x7fca7c4209d0> and will run it as-is.\n",
            "Cause: for/else statement not yet supported\n",
            "To silence this warning, decorate the function with @tf.autograph.experimental.do_not_convert\n",
            "2/2 [==============================] - 117s 1s/step - loss: 0.7091 - accuracy: 0.3333\n",
            "Epoch 2/3\n",
            "2/2 [==============================] - 3s 1s/step - loss: 0.6852 - accuracy: 0.3333\n",
            "Epoch 3/3\n",
            "2/2 [==============================] - 4s 2s/step - loss: 0.5177 - accuracy: 1.0000\n"
          ]
        },
        {
          "output_type": "execute_result",
          "data": {
            "text/plain": [
              "<tf_keras.src.callbacks.History at 0x7fca780f2770>"
            ]
          },
          "metadata": {},
          "execution_count": 17
        }
      ]
    },
    {
      "cell_type": "code",
      "source": [
        "# Example evaluation texts and labels\n",
        "eval_texts = [\"I hate bugs.\", \"Today is a good day.\"]\n",
        "eval_labels = [0, 1]\n",
        "\n",
        "# Tokenize the evaluation texts\n",
        "eval_encodings = tokenizer(eval_texts, truncation=True, padding=True, max_length=128, return_tensors='tf')\n",
        "\n",
        "# Convert labels to tensor\n",
        "eval_labels = tf.convert_to_tensor(eval_labels)\n",
        "\n",
        "# Create an evaluation dataset\n",
        "eval_dataset = tf.data.Dataset.from_tensor_slices((dict(eval_encodings), eval_labels))\n",
        "eval_dataset = eval_dataset.batch(2)\n",
        "\n",
        "# Evaluate the model\n",
        "loss, accuracy = model.evaluate(eval_dataset)\n",
        "print(f'Loss: {loss}, Accuracy: {accuracy}')\n"
      ],
      "metadata": {
        "colab": {
          "base_uri": "https://localhost:8080/"
        },
        "id": "fIKYT2Ismb6T",
        "outputId": "3a88e192-aa28-4476-8bf8-e81b5e397703"
      },
      "execution_count": null,
      "outputs": [
        {
          "output_type": "stream",
          "name": "stdout",
          "text": [
            "1/1 [==============================] - 17s 17s/step - loss: 0.8718 - accuracy: 0.0000e+00\n",
            "Loss: 0.8718075752258301, Accuracy: 0.0\n"
          ]
        }
      ]
    },
    {
      "cell_type": "markdown",
      "source": [
        "# Fintuning Model"
      ],
      "metadata": {
        "id": "DJOXyfswqRf0"
      }
    },
    {
      "cell_type": "code",
      "source": [],
      "metadata": {
        "id": "FMMEO1bTqQ3t"
      },
      "execution_count": null,
      "outputs": []
    },
    {
      "cell_type": "code",
      "source": [],
      "metadata": {
        "id": "-Dyzlor3qXh4"
      },
      "execution_count": null,
      "outputs": []
    },
    {
      "cell_type": "code",
      "source": [
        "import tensorflow as tf\n",
        "\n",
        "if tf.test.gpu_device_name():\n",
        "    print('GPU found')\n",
        "else:\n",
        "    print(\"No GPU found\")\n"
      ],
      "metadata": {
        "colab": {
          "base_uri": "https://localhost:8080/"
        },
        "id": "MIz2rxBnqpnz",
        "outputId": "0158c06d-b543-4783-fa95-7236a3640b3b"
      },
      "execution_count": null,
      "outputs": [
        {
          "output_type": "stream",
          "name": "stdout",
          "text": [
            "GPU found\n"
          ]
        }
      ]
    },
    {
      "cell_type": "code",
      "source": [],
      "metadata": {
        "id": "L3rNPZnCqrnQ"
      },
      "execution_count": null,
      "outputs": []
    },
    {
      "cell_type": "code",
      "source": [],
      "metadata": {
        "id": "7buSVYLbqwyu"
      },
      "execution_count": null,
      "outputs": []
    },
    {
      "cell_type": "code",
      "source": [],
      "metadata": {
        "id": "lhekmI4s8D6L"
      },
      "execution_count": null,
      "outputs": []
    },
    {
      "cell_type": "code",
      "source": [
        "# from transformers import (\n",
        "#     BertTokenizer, TFBertForSequenceClassification,\n",
        "#     DistilBertTokenizer, TFDistilBertForSequenceClassification,\n",
        "#     RobertaTokenizer, TFRobertaForSequenceClassification,\n",
        "#     XLMRobertaTokenizer, TFXLMRobertaForSequenceClassification,\n",
        "#     AlbertTokenizer, TFAlbertForSequenceClassification\n",
        "# )\n",
        "\n",
        "# # Dictionary mapping model names to their respective tokenizers and model classes\n",
        "# model_tokenizer_mapping = {\n",
        "#     'bert-base-uncased': (BertTokenizer, TFBertForSequenceClassification),\n",
        "#     'bert-large-uncased': (BertTokenizer, TFBertForSequenceClassification),\n",
        "#     'bert-base-cased': (BertTokenizer, TFBertForSequenceClassification),\n",
        "#     'bert-large-cased': (BertTokenizer, TFBertForSequenceClassification),\n",
        "#     'bert-base-multilingual-uncased': (BertTokenizer, TFBertForSequenceClassification),\n",
        "#     'bert-base-multilingual-cased': (BertTokenizer, TFBertForSequenceClassification),\n",
        "#     'bert-base-chinese': (BertTokenizer, TFBertForSequenceClassification),\n",
        "#     'bert-base-german-cased': (BertTokenizer, TFBertForSequenceClassification),\n",
        "#     'bert-large-uncased-whole-word-masking': (BertTokenizer, TFBertForSequenceClassification),\n",
        "#     'bert-large-cased-whole-word-masking': (BertTokenizer, TFBertForSequenceClassification),\n",
        "#     'bert-large-uncased-whole-word-masking-finetuned-squad': (BertTokenizer, TFBertForSequenceClassification),\n",
        "#     'bert-large-cased-whole-word-masking-finetuned-squad': (BertTokenizer, TFBertForSequenceClassification),\n",
        "#     'bert-base-cased-finetuned-mrpc': (BertTokenizer, TFBertForSequenceClassification),\n",
        "#     'bert-base-german-dbmdz-cased': (BertTokenizer, TFBertForSequenceClassification),\n",
        "#     'bert-base-german-dbmdz-uncased': (BertTokenizer, TFBertForSequenceClassification),\n",
        "#     'distilbert-base-uncased': (DistilBertTokenizer, TFDistilBertForSequenceClassification),\n",
        "#     'distilbert-base-cased': (DistilBertTokenizer, TFDistilBertForSequenceClassification),\n",
        "#     'roberta-base': (RobertaTokenizer, TFRobertaForSequenceClassification),\n",
        "#     'roberta-large': (RobertaTokenizer, TFRobertaForSequenceClassification),\n",
        "#     'xlm-roberta-base': (XLMRobertaTokenizer, TFXLMRobertaForSequenceClassification),\n",
        "#     'xlm-roberta-large': (XLMRobertaTokenizer, TFXLMRobertaForSequenceClassification),\n",
        "#     'albert-base-v2': (AlbertTokenizer, TFAlbertForSequenceClassification),\n",
        "#     'albert-large-v2': (AlbertTokenizer, TFAlbertForSequenceClassification),\n",
        "#     'albert-xlarge-v2': (AlbertTokenizer, TFAlbertForSequenceClassification),\n",
        "#     'albert-xxlarge-v2': (AlbertTokenizer, TFAlbertForSequenceClassification),\n",
        "# }\n",
        "\n",
        "# # Function to load model and tokenizer using the mapping\n",
        "# def load_model_and_tokenizer(model_name, num_labels=4):\n",
        "#     if model_name not in model_tokenizer_mapping:\n",
        "#         raise ValueError(f\"Model name {model_name} is not recognized. Please choose from the following: {list(model_tokenizer_mapping.keys())}\")\n",
        "\n",
        "#     tokenizer_class, model_class = model_tokenizer_mapping[model_name]\n",
        "#     tokenizer = tokenizer_class.from_pretrained(model_name)\n",
        "#     model = model_class.from_pretrained(model_name, num_labels=num_labels)\n",
        "#     return model, tokenizer\n",
        "\n"
      ],
      "metadata": {
        "id": "DmGQGhCYrLzX"
      },
      "execution_count": null,
      "outputs": []
    },
    {
      "cell_type": "code",
      "source": [
        "\n",
        "# # Example usage\n",
        "# model_name = 'distilbert-base-uncased'  # Change this to any other model if needed\n",
        "\n",
        "# # Load model and tokenizer\n",
        "# model, tokenizer = load_model_and_tokenizer(model_name)\n"
      ],
      "metadata": {
        "id": "7vqP8I2SxThh"
      },
      "execution_count": null,
      "outputs": []
    },
    {
      "cell_type": "code",
      "source": [
        "\n",
        "# # Prepare the dataset\n",
        "# train_dataset = prepare_dataset('ag_news', 'train', tokenizer, batch_size=16, max_length=128)\n",
        "# eval_dataset = prepare_dataset('ag_news', 'test', tokenizer, batch_size=16, max_length=128)\n"
      ],
      "metadata": {
        "id": "ZYmYMPasxUo1"
      },
      "execution_count": null,
      "outputs": []
    },
    {
      "cell_type": "code",
      "source": [
        "# # Train the model\n",
        "# train_model(model, train_dataset, epochs=3)\n"
      ],
      "metadata": {
        "id": "Wb5tPeltxWVs"
      },
      "execution_count": null,
      "outputs": []
    },
    {
      "cell_type": "code",
      "source": [
        "# # Evaluate the model\n",
        "# evaluate_model(model, eval_dataset)"
      ],
      "metadata": {
        "id": "2-kFdOYDxXbN"
      },
      "execution_count": null,
      "outputs": []
    },
    {
      "cell_type": "markdown",
      "source": [
        "## Finetune-bottle neck layers\n",
        " - Note : latest trasformers having some issues so please use !pip install transformers==4.37.2"
      ],
      "metadata": {
        "id": "SJ48nHR98Os0"
      }
    },
    {
      "cell_type": "code",
      "source": [
        "!pip install transformers==4.37.2"
      ],
      "metadata": {
        "id": "Ex-UYxuiHCxd"
      },
      "execution_count": null,
      "outputs": []
    },
    {
      "cell_type": "code",
      "source": [
        "# from transformers import BertTokenizer, TFBertModel\n",
        "# import tensorflow as tf\n",
        "\n",
        "# # Load pre-trained BERT tokenizer and model\n",
        "# model_name = 'bert-base-uncased'\n",
        "# tokenizer = BertTokenizer.from_pretrained(model_name)\n",
        "# bert_model = TFBertModel.from_pretrained(model_name)\n"
      ],
      "metadata": {
        "id": "1H-KgS7D8R-2"
      },
      "execution_count": null,
      "outputs": []
    },
    {
      "cell_type": "code",
      "source": [
        "# bert_model.summary()"
      ],
      "metadata": {
        "id": "KwrrwBx-8csW"
      },
      "execution_count": null,
      "outputs": []
    },
    {
      "cell_type": "code",
      "source": [
        "# !pip install transformers==4.37.2"
      ],
      "metadata": {
        "id": "hI6KAW-d9nyc"
      },
      "execution_count": null,
      "outputs": []
    },
    {
      "cell_type": "code",
      "source": [
        "# from transformers import AutoTokenizer, TFAutoModelForSequenceClassification\n",
        "# import tensorflow as tf\n",
        "# from tensorflow.keras.layers import Dense, Input, Dropout\n",
        "# from tensorflow.keras.models import Model\n",
        "\n",
        "# # Load pre-trained model and tokenizer\n",
        "# model_name = 'bert-base-uncased'\n",
        "# tokenizer = AutoTokenizer.from_pretrained(model_name)\n",
        "# auto_model = TFAutoModelForSequenceClassification.from_pretrained(model_name, num_labels=2)\n"
      ],
      "metadata": {
        "id": "v18UwrHyhwAm"
      },
      "execution_count": null,
      "outputs": []
    },
    {
      "cell_type": "code",
      "source": [
        "# bert_outputs.shape"
      ],
      "metadata": {
        "id": "LREixTPIlYuZ"
      },
      "execution_count": null,
      "outputs": []
    },
    {
      "cell_type": "code",
      "source": [
        "# bottleneck_dim=256\n",
        "# num_labels=2\n",
        "# input_ids = Input(shape=(128,), dtype=tf.int32, name='input_ids')\n",
        "# attention_mask = Input(shape=(128,), dtype=tf.int32, name='attention_mask')\n",
        "# token_type_ids = Input(shape=(128,), dtype=tf.int32, name='token_type_ids')\n",
        "\n",
        "# bert_outputs = auto_model.bert(input_ids, attention_mask=attention_mask, token_type_ids=token_type_ids)\n",
        "# cls_output = bert_outputs.pooler_output  # Use pooler_output for [CLS] token\n",
        "\n",
        "# bottleneck_output = Dense(bottleneck_dim, activation='relu')(cls_output)\n",
        "# dropout_output = Dropout(0.1)(bottleneck_output)\n",
        "# logits = Dense(num_labels, activation='softmax')(dropout_output)\n",
        "\n",
        "# model = Model(inputs=[input_ids, attention_mask, token_type_ids], outputs=logits)\n",
        "# model.summary()"
      ],
      "metadata": {
        "id": "pTmJpsrKk78k"
      },
      "execution_count": null,
      "outputs": []
    },
    {
      "cell_type": "code",
      "source": [
        "# # Create custom model with bottleneck architecture\n",
        "# def create_custom_model(auto_model, bottleneck_dim=256, num_labels=2):\n",
        "#     input_ids = Input(shape=(128,), dtype=tf.int32, name='input_ids')\n",
        "#     attention_mask = Input(shape=(128,), dtype=tf.int32, name='attention_mask')\n",
        "#     token_type_ids = Input(shape=(128,), dtype=tf.int32, name='token_type_ids')\n",
        "\n",
        "#     bert_outputs = auto_model.bert(input_ids, attention_mask=attention_mask, token_type_ids=token_type_ids)\n",
        "#     cls_output = bert_outputs.pooler_output  # Use pooler_output for [CLS] token\n",
        "\n",
        "#     bottleneck_output = Dense(bottleneck_dim, activation='relu')(cls_output)\n",
        "#     dropout_output = Dropout(0.1)(bottleneck_output)\n",
        "#     logits = Dense(num_labels, activation='softmax')(dropout_output)\n",
        "\n",
        "#     model = Model(inputs=[input_ids, attention_mask, token_type_ids], outputs=logits)\n",
        "#     return model\n",
        "\n",
        "# # Create the custom model\n",
        "# bottleneck_dim = 256\n",
        "# num_labels = 2\n",
        "# custom_model = create_custom_model(auto_model, bottleneck_dim, num_labels)\n",
        "\n",
        "# # Check for GPU availability\n",
        "# if tf.test.gpu_device_name():\n",
        "#     print('GPU found')\n",
        "# else:\n",
        "#     print(\"No GPU found\")\n"
      ],
      "metadata": {
        "id": "4yzvNwfwjPbm"
      },
      "execution_count": null,
      "outputs": []
    },
    {
      "cell_type": "code",
      "source": [
        "# custom_model.summary()"
      ],
      "metadata": {
        "id": "OQlxn6Coh7E7"
      },
      "execution_count": null,
      "outputs": []
    },
    {
      "cell_type": "code",
      "source": [
        "\n",
        "# # Check for GPU availability\n",
        "# if tf.test.gpu_device_name():\n",
        "#     print('GPU found')\n",
        "# else:\n",
        "#     print(\"No GPU found\")\n",
        "\n",
        "# # Dummy dataset\n",
        "# texts = [\"I love programming.\", \"The weather is nice today.\", \"I'm feeling great!\"]\n",
        "# labels = [1, 0, 1]\n",
        "\n",
        "# # Tokenize the texts\n",
        "# encodings = tokenizer(texts, truncation=True, padding=True, max_length=128, return_tensors='tf')\n",
        "# input_ids = encodings['input_ids']\n",
        "# attention_mask = encodings['attention_mask']\n",
        "# token_type_ids = encodings['token_type_ids']\n",
        "\n",
        "# # Create TensorFlow dataset\n",
        "# dataset = tf.data.Dataset.from_tensor_slices(({\n",
        "#     'input_ids': input_ids,\n",
        "#     'attention_mask': attention_mask,\n",
        "#     'token_type_ids': token_type_ids\n",
        "# }, labels)).shuffle(len(texts)).batch(2)\n",
        "\n",
        "# # Compile the model\n",
        "# custom_model.compile(optimizer=tf.keras.optimizers.Adam(learning_rate=2e-5),\n",
        "#                      loss=tf.keras.losses.SparseCategoricalCrossentropy(from_logits=True),\n",
        "#                      metrics=[tf.keras.metrics.SparseCategoricalAccuracy()])\n",
        "\n",
        "# # Train the model\n",
        "# custom_model.fit(dataset, epochs=3)\n"
      ],
      "metadata": {
        "id": "CvzM3Uz_8j0y"
      },
      "execution_count": null,
      "outputs": []
    },
    {
      "cell_type": "code",
      "source": [
        "from transformers import AutoTokenizer, TFAutoModel, AutoConfig\n",
        "import tensorflow as tf\n",
        "from tensorflow.keras.layers import Dense, Input, Dropout, Concatenate\n",
        "from tensorflow.keras.models import Model\n",
        "\n",
        "# Load pre-trained model and tokenizer\n",
        "model_name = 'bert-base-uncased'\n",
        "tokenizer = AutoTokenizer.from_pretrained(model_name)\n",
        "config = AutoConfig.from_pretrained(model_name, output_hidden_states=True)\n",
        "bert_model = TFAutoModel.from_pretrained(model_name, config=config)\n"
      ],
      "metadata": {
        "id": "CRE-tLfd8pUE"
      },
      "execution_count": null,
      "outputs": []
    },
    {
      "cell_type": "markdown",
      "source": [
        "### Last Hidden State Vector with Bottleneck"
      ],
      "metadata": {
        "id": "PdL6vOODqDyi"
      }
    },
    {
      "cell_type": "code",
      "source": [
        "def create_model_1(bert_model, bottleneck_dim=256, num_labels=2):\n",
        "    input_ids = Input(shape=(128,), dtype=tf.int32, name='input_ids')\n",
        "    attention_mask = Input(shape=(128,), dtype=tf.int32, name='attention_mask')\n",
        "    token_type_ids = Input(shape=(128,), dtype=tf.int32, name='token_type_ids')\n",
        "\n",
        "    # Get BERT outputs\n",
        "    bert_outputs = bert_model(input_ids, attention_mask=attention_mask, token_type_ids=token_type_ids)\n",
        "    last_hidden_state = bert_outputs.last_hidden_state  # Shape: (batch_size, sequence_length, hidden_size)\n",
        "    cls_output = last_hidden_state[:, 0, :]  # Extract [CLS] token. Shape: (batch_size, hidden_size)\n",
        "\n",
        "    print(f\"Shape of last_hidden_state: {last_hidden_state.shape}\")\n",
        "    print(f\"Shape of cls_output: {cls_output.shape}\")\n",
        "\n",
        "    bottleneck_output = Dense(bottleneck_dim, activation='relu')(cls_output)\n",
        "    dropout_output = Dropout(0.1)(bottleneck_output)\n",
        "    logits = Dense(num_labels, activation='softmax')(dropout_output)\n",
        "\n",
        "    model = Model(inputs=[input_ids, attention_mask, token_type_ids], outputs=logits)\n",
        "    return model\n"
      ],
      "metadata": {
        "id": "2GZ33iM0p_lE"
      },
      "execution_count": null,
      "outputs": []
    },
    {
      "cell_type": "code",
      "source": [
        "# Dummy dataset\n",
        "texts = [\"I love programming.\", \"The weather is nice today.\", \"I'm feeling great!\"]\n",
        "labels = [1, 0, 1]\n",
        "\n",
        "# Tokenize the texts\n",
        "encodings = tokenizer(texts, truncation=True, padding='max_length', max_length=128, return_tensors='tf')\n",
        "input_ids = encodings['input_ids']\n",
        "attention_mask = encodings['attention_mask']\n",
        "token_type_ids = encodings['token_type_ids']\n"
      ],
      "metadata": {
        "id": "LYUB16QgqFcb"
      },
      "execution_count": null,
      "outputs": []
    },
    {
      "cell_type": "code",
      "source": [
        "# Create TensorFlow dataset\n",
        "dataset = tf.data.Dataset.from_tensor_slices(({\n",
        "    'input_ids': input_ids,\n",
        "    'attention_mask': attention_mask,\n",
        "    'token_type_ids': token_type_ids\n",
        "}, labels)).shuffle(len(texts)).batch(2)\n"
      ],
      "metadata": {
        "id": "uwqgVFrGqr0g"
      },
      "execution_count": null,
      "outputs": []
    },
    {
      "cell_type": "code",
      "source": [
        "# Create and compile Model 1\n",
        "model_1 = create_model_1(bert_model)\n",
        "model_1.compile(optimizer=tf.keras.optimizers.Adam(learning_rate=2e-5),\n",
        "                loss=tf.keras.losses.SparseCategoricalCrossentropy(from_logits=False),\n",
        "                metrics=[tf.keras.metrics.SparseCategoricalAccuracy()])\n",
        "\n",
        "# Train Model 1\n",
        "model_1.fit(dataset, epochs=3)\n"
      ],
      "metadata": {
        "colab": {
          "base_uri": "https://localhost:8080/"
        },
        "id": "hPnSyn3xqttz",
        "outputId": "6736908d-574f-4bab-e2eb-5fa4749b7c9a"
      },
      "execution_count": null,
      "outputs": [
        {
          "output_type": "stream",
          "name": "stdout",
          "text": [
            "Shape of last_hidden_state: (None, 128, 768)\n",
            "Shape of cls_output: (None, 768)\n",
            "Epoch 1/3\n"
          ]
        },
        {
          "output_type": "stream",
          "name": "stderr",
          "text": [
            "WARNING:tensorflow:Gradients do not exist for variables ['tf_bert_model_1/bert/pooler/dense/kernel:0', 'tf_bert_model_1/bert/pooler/dense/bias:0'] when minimizing the loss. If you're using `model.compile()`, did you forget to provide a `loss` argument?\n",
            "WARNING:tensorflow:Gradients do not exist for variables ['tf_bert_model_1/bert/pooler/dense/kernel:0', 'tf_bert_model_1/bert/pooler/dense/bias:0'] when minimizing the loss. If you're using `model.compile()`, did you forget to provide a `loss` argument?\n",
            "WARNING:tensorflow:Gradients do not exist for variables ['tf_bert_model_1/bert/pooler/dense/kernel:0', 'tf_bert_model_1/bert/pooler/dense/bias:0'] when minimizing the loss. If you're using `model.compile()`, did you forget to provide a `loss` argument?\n",
            "WARNING:tensorflow:Gradients do not exist for variables ['tf_bert_model_1/bert/pooler/dense/kernel:0', 'tf_bert_model_1/bert/pooler/dense/bias:0'] when minimizing the loss. If you're using `model.compile()`, did you forget to provide a `loss` argument?\n"
          ]
        },
        {
          "output_type": "stream",
          "name": "stdout",
          "text": [
            "2/2 [==============================] - 47s 226ms/step - loss: 0.6463 - sparse_categorical_accuracy: 0.6667\n",
            "Epoch 2/3\n",
            "2/2 [==============================] - 0s 179ms/step - loss: 0.3800 - sparse_categorical_accuracy: 1.0000\n",
            "Epoch 3/3\n",
            "2/2 [==============================] - 0s 88ms/step - loss: 0.3756 - sparse_categorical_accuracy: 0.6667\n"
          ]
        },
        {
          "output_type": "execute_result",
          "data": {
            "text/plain": [
              "<keras.src.callbacks.History at 0x78b6ecde12a0>"
            ]
          },
          "metadata": {},
          "execution_count": 14
        }
      ]
    },
    {
      "cell_type": "markdown",
      "source": [
        "### Enabling the Last Three Layers and Training with Bottleneck"
      ],
      "metadata": {
        "id": "VS8bavEprV00"
      }
    },
    {
      "cell_type": "code",
      "source": [
        "def create_model_2(bert_model, bottleneck_dim=256, num_labels=2):\n",
        "    input_ids = Input(shape=(128,), dtype=tf.int32, name='input_ids')\n",
        "    attention_mask = Input(shape=(128,), dtype=tf.int32, name='attention_mask')\n",
        "    token_type_ids = Input(shape=(128,), dtype=tf.int32, name='token_type_ids')\n",
        "\n",
        "    # Get BERT outputs\n",
        "    bert_outputs = bert_model(input_ids, attention_mask=attention_mask, token_type_ids=token_type_ids)\n",
        "    last_hidden_state = bert_outputs.last_hidden_state  # Shape: (batch_size, sequence_length, hidden_size)\n",
        "    cls_output = last_hidden_state[:, 0, :]  # Extract [CLS] token. Shape: (batch_size, hidden_size)\n",
        "\n",
        "    print(f\"Shape of last_hidden_state: {last_hidden_state.shape}\")\n",
        "    print(f\"Shape of cls_output: {cls_output.shape}\")\n",
        "\n",
        "    bottleneck_output = Dense(bottleneck_dim, activation='relu')(cls_output)\n",
        "    dropout_output = Dropout(0.1)(bottleneck_output)\n",
        "    logits = Dense(num_labels, activation='softmax')(dropout_output)\n",
        "\n",
        "    model = Model(inputs=[input_ids, attention_mask, token_type_ids], outputs=logits)\n",
        "\n",
        "    # Freeze all layers except the last three\n",
        "    for layer in bert_model.layers[:-3]:\n",
        "        layer.trainable = False\n",
        "\n",
        "    return model\n"
      ],
      "metadata": {
        "id": "xLT2wXeWrHH2"
      },
      "execution_count": null,
      "outputs": []
    },
    {
      "cell_type": "markdown",
      "source": [
        "### Using the Last Three Hidden States with Bottleneck"
      ],
      "metadata": {
        "id": "po9dCfyRrbfP"
      }
    },
    {
      "cell_type": "code",
      "source": [
        "def create_model_3(bert_model, bottleneck_dim=256, num_labels=2):\n",
        "    input_ids = Input(shape=(128,), dtype=tf.int32, name='input_ids')\n",
        "    attention_mask = Input(shape=(128,), dtype=tf.int32, name='attention_mask')\n",
        "    token_type_ids = Input(shape=(128,), dtype=tf.int32, name='token_type_ids')\n",
        "\n",
        "    # Get BERT outputs\n",
        "    bert_outputs = bert_model(input_ids, attention_mask=attention_mask, token_type_ids=token_type_ids)\n",
        "    hidden_states = bert_outputs.hidden_states  # List of hidden states for each layer\n",
        "    last_hidden_state = hidden_states[-1] # Shape: (batch_size, sequence_length, hidden_size)\n",
        "    second_last_hidden_state = hidden_states[-2] # Shape: (batch_size, sequence_length, hidden_size)\n",
        "    third_last_hidden_state = hidden_states[-3] # Shape: (batch_size, sequence_length, hidden_size)\n",
        "\n",
        "    # Concatenate the last three hidden states\n",
        "    concatenated_hidden_states = Concatenate()([\n",
        "        last_hidden_state[:, 0, :],\n",
        "        second_last_hidden_state[:, 0, :],\n",
        "        third_last_hidden_state[:, 0, :]\n",
        "    ])  # Shape: (batch_size, 3 * hidden_size)\n",
        "    print(f\"Shape of hidden_states: {len(hidden_states)}\")\n",
        "    print(f\"Shape of last_hidden_state: {last_hidden_state.shape}\")\n",
        "    print(f\"Shape of second_last_hidden_state: {second_last_hidden_state.shape}\")\n",
        "    print(f\"Shape of third_last_hidden_state: {third_last_hidden_state.shape}\")\n",
        "    print(f\"Shape of concatenated_hidden_states: {concatenated_hidden_states.shape}\")\n",
        "\n",
        "    bottleneck_output = Dense(bottleneck_dim, activation='relu')(concatenated_hidden_states)\n",
        "    dropout_output = Dropout(0.1)(bottleneck_output)\n",
        "    logits = Dense(num_labels, activation='softmax')(dropout_output)\n",
        "\n",
        "    model = Model(inputs=[input_ids, attention_mask, token_type_ids], outputs=logits)\n",
        "    return model\n"
      ],
      "metadata": {
        "id": "MlICGYDmrY8P"
      },
      "execution_count": null,
      "outputs": []
    },
    {
      "cell_type": "markdown",
      "source": [
        "### Model training with simple data"
      ],
      "metadata": {
        "id": "MioV3gBt3uuM"
      }
    },
    {
      "cell_type": "code",
      "source": [
        "# Create and compile Model 1\n",
        "model_1 = create_model_1(bert_model)\n",
        "model_1.compile(optimizer=tf.keras.optimizers.Adam(learning_rate=2e-5),\n",
        "                loss=tf.keras.losses.SparseCategoricalCrossentropy(from_logits=False),\n",
        "                metrics=[tf.keras.metrics.SparseCategoricalAccuracy()])\n",
        "\n",
        "# Train Model 1\n",
        "model_1.fit(dataset, epochs=3)\n",
        "model_1.summary()"
      ],
      "metadata": {
        "colab": {
          "base_uri": "https://localhost:8080/"
        },
        "id": "UXMzrRlhremV",
        "outputId": "b2e80c00-748e-41c0-952f-2e67d118b51e"
      },
      "execution_count": null,
      "outputs": [
        {
          "output_type": "stream",
          "name": "stdout",
          "text": [
            "Shape of last_hidden_state: (None, 128, 768)\n",
            "Shape of cls_output: (None, 768)\n",
            "Epoch 1/3\n"
          ]
        },
        {
          "output_type": "stream",
          "name": "stderr",
          "text": [
            "WARNING:tensorflow:Gradients do not exist for variables ['tf_bert_model_1/bert/pooler/dense/kernel:0', 'tf_bert_model_1/bert/pooler/dense/bias:0'] when minimizing the loss. If you're using `model.compile()`, did you forget to provide a `loss` argument?\n",
            "WARNING:tensorflow:Gradients do not exist for variables ['tf_bert_model_1/bert/pooler/dense/kernel:0', 'tf_bert_model_1/bert/pooler/dense/bias:0'] when minimizing the loss. If you're using `model.compile()`, did you forget to provide a `loss` argument?\n",
            "WARNING:tensorflow:Gradients do not exist for variables ['tf_bert_model_1/bert/pooler/dense/kernel:0', 'tf_bert_model_1/bert/pooler/dense/bias:0'] when minimizing the loss. If you're using `model.compile()`, did you forget to provide a `loss` argument?\n",
            "WARNING:tensorflow:Gradients do not exist for variables ['tf_bert_model_1/bert/pooler/dense/kernel:0', 'tf_bert_model_1/bert/pooler/dense/bias:0'] when minimizing the loss. If you're using `model.compile()`, did you forget to provide a `loss` argument?\n"
          ]
        },
        {
          "output_type": "stream",
          "name": "stdout",
          "text": [
            "2/2 [==============================] - 46s 177ms/step - loss: 0.7869 - sparse_categorical_accuracy: 0.3333\n",
            "Epoch 2/3\n",
            "2/2 [==============================] - 0s 173ms/step - loss: 0.5167 - sparse_categorical_accuracy: 1.0000\n",
            "Epoch 3/3\n",
            "2/2 [==============================] - 0s 96ms/step - loss: 0.1743 - sparse_categorical_accuracy: 1.0000\n",
            "Model: \"model_12\"\n",
            "__________________________________________________________________________________________________\n",
            " Layer (type)                Output Shape                 Param #   Connected to                  \n",
            "==================================================================================================\n",
            " input_ids (InputLayer)      [(None, 128)]                0         []                            \n",
            "                                                                                                  \n",
            " attention_mask (InputLayer  [(None, 128)]                0         []                            \n",
            " )                                                                                                \n",
            "                                                                                                  \n",
            " token_type_ids (InputLayer  [(None, 128)]                0         []                            \n",
            " )                                                                                                \n",
            "                                                                                                  \n",
            " tf_bert_model_1 (TFBertMod  TFBaseModelOutputWithPooli   1094822   ['input_ids[0][0]',           \n",
            " el)                         ngAndCrossAttentions(last_   40         'attention_mask[0][0]',      \n",
            "                             hidden_state=(None, 128, 7              'token_type_ids[0][0]']      \n",
            "                             68),                                                                 \n",
            "                              pooler_output=(None, 768)                                           \n",
            "                             , past_key_values=None, hi                                           \n",
            "                             dden_states=((None, 128, 7                                           \n",
            "                             68),                                                                 \n",
            "                              (None, 128, 768),                                                   \n",
            "                              (None, 128, 768),                                                   \n",
            "                              (None, 128, 768),                                                   \n",
            "                              (None, 128, 768),                                                   \n",
            "                              (None, 128, 768),                                                   \n",
            "                              (None, 128, 768),                                                   \n",
            "                              (None, 128, 768),                                                   \n",
            "                              (None, 128, 768),                                                   \n",
            "                              (None, 128, 768),                                                   \n",
            "                              (None, 128, 768),                                                   \n",
            "                              (None, 128, 768),                                                   \n",
            "                              (None, 128, 768)),                                                  \n",
            "                              attentions=None, cross_at                                           \n",
            "                             tentions=None)                                                       \n",
            "                                                                                                  \n",
            " tf.__operators__.getitem_2  (None, 768)                  0         ['tf_bert_model_1[9][13]']    \n",
            " 2 (SlicingOpLambda)                                                                              \n",
            "                                                                                                  \n",
            " dense_24 (Dense)            (None, 256)                  196864    ['tf.__operators__.getitem_22[\n",
            "                                                                    0][0]']                       \n",
            "                                                                                                  \n",
            " dropout_124 (Dropout)       (None, 256)                  0         ['dense_24[0][0]']            \n",
            "                                                                                                  \n",
            " dense_25 (Dense)            (None, 2)                    514       ['dropout_124[0][0]']         \n",
            "                                                                                                  \n",
            "==================================================================================================\n",
            "Total params: 109679618 (418.39 MB)\n",
            "Trainable params: 109679618 (418.39 MB)\n",
            "Non-trainable params: 0 (0.00 Byte)\n",
            "__________________________________________________________________________________________________\n"
          ]
        }
      ]
    },
    {
      "cell_type": "code",
      "source": [
        "# Create and compile Model 2\n",
        "model_2 = create_model_2(bert_model)\n",
        "model_2.compile(optimizer=tf.keras.optimizers.Adam(learning_rate=2e-5),\n",
        "                loss=tf.keras.losses.SparseCategoricalCrossentropy(from_logits=False),\n",
        "                metrics=[tf.keras.metrics.SparseCategoricalAccuracy()])\n",
        "\n",
        "# Train Model 1\n",
        "model_2.fit(dataset, epochs=3)\n",
        "model_2.summary()"
      ],
      "metadata": {
        "colab": {
          "base_uri": "https://localhost:8080/"
        },
        "id": "o6BL2fF8r199",
        "outputId": "da24f9b7-afba-45be-b324-447cb9c940a3"
      },
      "execution_count": null,
      "outputs": [
        {
          "output_type": "stream",
          "name": "stdout",
          "text": [
            "Shape of last_hidden_state: (None, 128, 768)\n",
            "Shape of cls_output: (None, 768)\n",
            "Epoch 1/3\n"
          ]
        },
        {
          "output_type": "stream",
          "name": "stderr",
          "text": [
            "WARNING:tensorflow:Gradients do not exist for variables ['tf_bert_model_1/bert/pooler/dense/kernel:0', 'tf_bert_model_1/bert/pooler/dense/bias:0'] when minimizing the loss. If you're using `model.compile()`, did you forget to provide a `loss` argument?\n",
            "WARNING:tensorflow:Gradients do not exist for variables ['tf_bert_model_1/bert/pooler/dense/kernel:0', 'tf_bert_model_1/bert/pooler/dense/bias:0'] when minimizing the loss. If you're using `model.compile()`, did you forget to provide a `loss` argument?\n",
            "WARNING:tensorflow:Gradients do not exist for variables ['tf_bert_model_1/bert/pooler/dense/kernel:0', 'tf_bert_model_1/bert/pooler/dense/bias:0'] when minimizing the loss. If you're using `model.compile()`, did you forget to provide a `loss` argument?\n",
            "WARNING:tensorflow:Gradients do not exist for variables ['tf_bert_model_1/bert/pooler/dense/kernel:0', 'tf_bert_model_1/bert/pooler/dense/bias:0'] when minimizing the loss. If you're using `model.compile()`, did you forget to provide a `loss` argument?\n"
          ]
        },
        {
          "output_type": "stream",
          "name": "stdout",
          "text": [
            "2/2 [==============================] - 40s 278ms/step - loss: 0.5643 - sparse_categorical_accuracy: 0.6667\n",
            "Epoch 2/3\n",
            "2/2 [==============================] - 0s 103ms/step - loss: 0.2250 - sparse_categorical_accuracy: 1.0000\n",
            "Epoch 3/3\n",
            "2/2 [==============================] - 0s 164ms/step - loss: 0.0484 - sparse_categorical_accuracy: 1.0000\n",
            "Model: \"model_13\"\n",
            "__________________________________________________________________________________________________\n",
            " Layer (type)                Output Shape                 Param #   Connected to                  \n",
            "==================================================================================================\n",
            " input_ids (InputLayer)      [(None, 128)]                0         []                            \n",
            "                                                                                                  \n",
            " attention_mask (InputLayer  [(None, 128)]                0         []                            \n",
            " )                                                                                                \n",
            "                                                                                                  \n",
            " token_type_ids (InputLayer  [(None, 128)]                0         []                            \n",
            " )                                                                                                \n",
            "                                                                                                  \n",
            " tf_bert_model_1 (TFBertMod  TFBaseModelOutputWithPooli   1094822   ['input_ids[0][0]',           \n",
            " el)                         ngAndCrossAttentions(last_   40         'attention_mask[0][0]',      \n",
            "                             hidden_state=(None, 128, 7              'token_type_ids[0][0]']      \n",
            "                             68),                                                                 \n",
            "                              pooler_output=(None, 768)                                           \n",
            "                             , past_key_values=None, hi                                           \n",
            "                             dden_states=((None, 128, 7                                           \n",
            "                             68),                                                                 \n",
            "                              (None, 128, 768),                                                   \n",
            "                              (None, 128, 768),                                                   \n",
            "                              (None, 128, 768),                                                   \n",
            "                              (None, 128, 768),                                                   \n",
            "                              (None, 128, 768),                                                   \n",
            "                              (None, 128, 768),                                                   \n",
            "                              (None, 128, 768),                                                   \n",
            "                              (None, 128, 768),                                                   \n",
            "                              (None, 128, 768),                                                   \n",
            "                              (None, 128, 768),                                                   \n",
            "                              (None, 128, 768),                                                   \n",
            "                              (None, 128, 768)),                                                  \n",
            "                              attentions=None, cross_at                                           \n",
            "                             tentions=None)                                                       \n",
            "                                                                                                  \n",
            " tf.__operators__.getitem_2  (None, 768)                  0         ['tf_bert_model_1[10][13]']   \n",
            " 3 (SlicingOpLambda)                                                                              \n",
            "                                                                                                  \n",
            " dense_26 (Dense)            (None, 256)                  196864    ['tf.__operators__.getitem_23[\n",
            "                                                                    0][0]']                       \n",
            "                                                                                                  \n",
            " dropout_125 (Dropout)       (None, 256)                  0         ['dense_26[0][0]']            \n",
            "                                                                                                  \n",
            " dense_27 (Dense)            (None, 2)                    514       ['dropout_125[0][0]']         \n",
            "                                                                                                  \n",
            "==================================================================================================\n",
            "Total params: 109679618 (418.39 MB)\n",
            "Trainable params: 109679618 (418.39 MB)\n",
            "Non-trainable params: 0 (0.00 Byte)\n",
            "__________________________________________________________________________________________________\n"
          ]
        }
      ]
    },
    {
      "cell_type": "code",
      "source": [
        "# Create and compile Model 3\n",
        "model_3 = create_model_3(bert_model)\n",
        "model_3.compile(optimizer=tf.keras.optimizers.Adam(learning_rate=2e-5),\n",
        "                loss=tf.keras.losses.SparseCategoricalCrossentropy(from_logits=False),\n",
        "                metrics=[tf.keras.metrics.SparseCategoricalAccuracy()])\n",
        "\n",
        "# Train Model 1\n",
        "model_3.fit(dataset, epochs=3)\n",
        "model_3.summary()"
      ],
      "metadata": {
        "colab": {
          "base_uri": "https://localhost:8080/"
        },
        "id": "0xT8-36xuhyc",
        "outputId": "4f8aae48-9638-4f48-9bcf-bd6cc9ebee49"
      },
      "execution_count": null,
      "outputs": [
        {
          "output_type": "stream",
          "name": "stdout",
          "text": [
            "Shape of hidden_states: 13\n",
            "Shape of last_hidden_state: (None, 128, 768)\n",
            "Shape of second_last_hidden_state: (None, 128, 768)\n",
            "Shape of third_last_hidden_state: (None, 128, 768)\n",
            "Shape of concatenated_hidden_states: (None, 2304)\n",
            "Epoch 1/3\n"
          ]
        },
        {
          "output_type": "stream",
          "name": "stderr",
          "text": [
            "WARNING:tensorflow:Gradients do not exist for variables ['tf_bert_model_1/bert/pooler/dense/kernel:0', 'tf_bert_model_1/bert/pooler/dense/bias:0'] when minimizing the loss. If you're using `model.compile()`, did you forget to provide a `loss` argument?\n",
            "WARNING:tensorflow:Gradients do not exist for variables ['tf_bert_model_1/bert/pooler/dense/kernel:0', 'tf_bert_model_1/bert/pooler/dense/bias:0'] when minimizing the loss. If you're using `model.compile()`, did you forget to provide a `loss` argument?\n",
            "WARNING:tensorflow:Gradients do not exist for variables ['tf_bert_model_1/bert/pooler/dense/kernel:0', 'tf_bert_model_1/bert/pooler/dense/bias:0'] when minimizing the loss. If you're using `model.compile()`, did you forget to provide a `loss` argument?\n",
            "WARNING:tensorflow:Gradients do not exist for variables ['tf_bert_model_1/bert/pooler/dense/kernel:0', 'tf_bert_model_1/bert/pooler/dense/bias:0'] when minimizing the loss. If you're using `model.compile()`, did you forget to provide a `loss` argument?\n"
          ]
        },
        {
          "output_type": "stream",
          "name": "stdout",
          "text": [
            "2/2 [==============================] - 40s 242ms/step - loss: 0.8517 - sparse_categorical_accuracy: 0.3333\n",
            "Epoch 2/3\n",
            "2/2 [==============================] - 0s 101ms/step - loss: 0.3156 - sparse_categorical_accuracy: 1.0000\n",
            "Epoch 3/3\n",
            "2/2 [==============================] - 0s 95ms/step - loss: 0.1291 - sparse_categorical_accuracy: 1.0000\n",
            "Model: \"model_14\"\n",
            "__________________________________________________________________________________________________\n",
            " Layer (type)                Output Shape                 Param #   Connected to                  \n",
            "==================================================================================================\n",
            " input_ids (InputLayer)      [(None, 128)]                0         []                            \n",
            "                                                                                                  \n",
            " attention_mask (InputLayer  [(None, 128)]                0         []                            \n",
            " )                                                                                                \n",
            "                                                                                                  \n",
            " token_type_ids (InputLayer  [(None, 128)]                0         []                            \n",
            " )                                                                                                \n",
            "                                                                                                  \n",
            " tf_bert_model_1 (TFBertMod  TFBaseModelOutputWithPooli   1094822   ['input_ids[0][0]',           \n",
            " el)                         ngAndCrossAttentions(last_   40         'attention_mask[0][0]',      \n",
            "                             hidden_state=(None, 128, 7              'token_type_ids[0][0]']      \n",
            "                             68),                                                                 \n",
            "                              pooler_output=(None, 768)                                           \n",
            "                             , past_key_values=None, hi                                           \n",
            "                             dden_states=((None, 128, 7                                           \n",
            "                             68),                                                                 \n",
            "                              (None, 128, 768),                                                   \n",
            "                              (None, 128, 768),                                                   \n",
            "                              (None, 128, 768),                                                   \n",
            "                              (None, 128, 768),                                                   \n",
            "                              (None, 128, 768),                                                   \n",
            "                              (None, 128, 768),                                                   \n",
            "                              (None, 128, 768),                                                   \n",
            "                              (None, 128, 768),                                                   \n",
            "                              (None, 128, 768),                                                   \n",
            "                              (None, 128, 768),                                                   \n",
            "                              (None, 128, 768),                                                   \n",
            "                              (None, 128, 768)),                                                  \n",
            "                              attentions=None, cross_at                                           \n",
            "                             tentions=None)                                                       \n",
            "                                                                                                  \n",
            " tf.__operators__.getitem_2  (None, 768)                  0         ['tf_bert_model_1[11][12]']   \n",
            " 4 (SlicingOpLambda)                                                                              \n",
            "                                                                                                  \n",
            " tf.__operators__.getitem_2  (None, 768)                  0         ['tf_bert_model_1[11][11]']   \n",
            " 5 (SlicingOpLambda)                                                                              \n",
            "                                                                                                  \n",
            " tf.__operators__.getitem_2  (None, 768)                  0         ['tf_bert_model_1[11][10]']   \n",
            " 6 (SlicingOpLambda)                                                                              \n",
            "                                                                                                  \n",
            " concatenate_6 (Concatenate  (None, 2304)                 0         ['tf.__operators__.getitem_24[\n",
            " )                                                                  0][0]',                       \n",
            "                                                                     'tf.__operators__.getitem_25[\n",
            "                                                                    0][0]',                       \n",
            "                                                                     'tf.__operators__.getitem_26[\n",
            "                                                                    0][0]']                       \n",
            "                                                                                                  \n",
            " dense_28 (Dense)            (None, 256)                  590080    ['concatenate_6[0][0]']       \n",
            "                                                                                                  \n",
            " dropout_126 (Dropout)       (None, 256)                  0         ['dense_28[0][0]']            \n",
            "                                                                                                  \n",
            " dense_29 (Dense)            (None, 2)                    514       ['dropout_126[0][0]']         \n",
            "                                                                                                  \n",
            "==================================================================================================\n",
            "Total params: 110072834 (419.89 MB)\n",
            "Trainable params: 110072834 (419.89 MB)\n",
            "Non-trainable params: 0 (0.00 Byte)\n",
            "__________________________________________________________________________________________________\n"
          ]
        }
      ]
    },
    {
      "cell_type": "code",
      "source": [
        "# !pip install datasets"
      ],
      "metadata": {
        "id": "TfB3andL3FRU"
      },
      "execution_count": null,
      "outputs": []
    },
    {
      "cell_type": "markdown",
      "source": [
        "### Preparing Data"
      ],
      "metadata": {
        "id": "rpE53DtY3zUe"
      }
    },
    {
      "cell_type": "code",
      "source": [
        "from datasets import load_dataset\n",
        "from transformers import BertTokenizer\n",
        "\n",
        "def prepare_dataset(dataset_name, split, tokenizer, batch_size=16, max_length=128):\n",
        "    dataset = load_dataset(dataset_name, split=split)\n",
        "\n",
        "    def tokenize_function(examples):\n",
        "        return tokenizer(examples['text'], padding='max_length', truncation=True, max_length=max_length)\n",
        "\n",
        "    tokenized_dataset = dataset.map(tokenize_function, batched=True)\n",
        "    tokenized_dataset.set_format(type='tensorflow', columns=['input_ids', 'attention_mask', 'token_type_ids', 'label'])\n",
        "\n",
        "    def gen():\n",
        "        for entry in tokenized_dataset:\n",
        "            yield ({'input_ids': entry['input_ids'], 'attention_mask': entry['attention_mask'], 'token_type_ids': entry['token_type_ids']}, entry['label'])\n",
        "\n",
        "    return tf.data.Dataset.from_generator(gen,\n",
        "                                          output_signature=({'input_ids': tf.TensorSpec(shape=(max_length,), dtype=tf.int32),\n",
        "                                                             'attention_mask': tf.TensorSpec(shape=(max_length,), dtype=tf.int32),\n",
        "                                                             'token_type_ids': tf.TensorSpec(shape=(max_length,), dtype=tf.int32)},\n",
        "                                                            tf.TensorSpec(shape=(), dtype=tf.int64))).batch(batch_size)\n",
        "def train_model(model, dataset, epochs=3):\n",
        "    model.compile(optimizer=tf.keras.optimizers.Adam(learning_rate=2e-5),\n",
        "                  loss=tf.keras.losses.SparseCategoricalCrossentropy(from_logits=True),\n",
        "                  metrics=[tf.keras.metrics.SparseCategoricalAccuracy()])\n",
        "    model.fit(dataset, epochs=epochs)\n",
        "def evaluate_model(model, dataset):\n",
        "    loss, accuracy = model.evaluate(dataset)\n",
        "    print(f'Loss: {loss}, Accuracy: {accuracy}')\n"
      ],
      "metadata": {
        "id": "TmcvY31guvg6"
      },
      "execution_count": null,
      "outputs": []
    },
    {
      "cell_type": "markdown",
      "source": [
        "### train Model custom data - English"
      ],
      "metadata": {
        "id": "9yFf04OfZJLz"
      }
    },
    {
      "cell_type": "code",
      "source": [
        "if tf.test.gpu_device_name():\n",
        "    print('GPU found')\n",
        "else:\n",
        "    print(\"No GPU found\")\n",
        "\n",
        "\n",
        "# Create custom model 1\n",
        "model_1 = create_model_1(bert_model, bottleneck_dim=256, num_labels=4)\n",
        "\n",
        "# Prepare the dataset\n",
        "train_dataset = prepare_dataset('ag_news', 'train', tokenizer, batch_size=16, max_length=128)\n",
        "eval_dataset = prepare_dataset('ag_news', 'test', tokenizer, batch_size=16, max_length=128)\n",
        "\n",
        "# Train model 1\n",
        "train_model(model_1, train_dataset, epochs=2)\n",
        "\n",
        "# Evaluate model 1\n",
        "evaluate_model(model_1, eval_dataset)\n"
      ],
      "metadata": {
        "colab": {
          "base_uri": "https://localhost:8080/"
        },
        "id": "osX0m2vU2_iI",
        "outputId": "0e49ca1e-787b-476a-9b8d-f1367e1d27e2"
      },
      "execution_count": null,
      "outputs": [
        {
          "metadata": {
            "tags": null
          },
          "name": "stdout",
          "output_type": "stream",
          "text": [
            "GPU found\n",
            "Shape of last_hidden_state: (None, 128, 768)\n",
            "Shape of cls_output: (None, 768)\n",
            "Epoch 1/2\n"
          ]
        },
        {
          "metadata": {
            "tags": null
          },
          "name": "stderr",
          "output_type": "stream",
          "text": [
            "WARNING:tensorflow:Gradients do not exist for variables ['tf_bert_model_1/bert/pooler/dense/kernel:0', 'tf_bert_model_1/bert/pooler/dense/bias:0'] when minimizing the loss. If you're using `model.compile()`, did you forget to provide a `loss` argument?\n",
            "WARNING:tensorflow:Gradients do not exist for variables ['tf_bert_model_1/bert/pooler/dense/kernel:0', 'tf_bert_model_1/bert/pooler/dense/bias:0'] when minimizing the loss. If you're using `model.compile()`, did you forget to provide a `loss` argument?\n",
            "WARNING:tensorflow:Gradients do not exist for variables ['tf_bert_model_1/bert/pooler/dense/kernel:0', 'tf_bert_model_1/bert/pooler/dense/bias:0'] when minimizing the loss. If you're using `model.compile()`, did you forget to provide a `loss` argument?\n",
            "WARNING:tensorflow:Gradients do not exist for variables ['tf_bert_model_1/bert/pooler/dense/kernel:0', 'tf_bert_model_1/bert/pooler/dense/bias:0'] when minimizing the loss. If you're using `model.compile()`, did you forget to provide a `loss` argument?\n"
          ]
        },
        {
          "output_type": "stream",
          "name": "stdout",
          "text": [
            "7500/7500 [==============================] - 3305s 435ms/step - loss: 0.2174 - sparse_categorical_accuracy: 0.9266\n",
            "Epoch 2/2\n",
            "7500/7500 [==============================] - 3288s 438ms/step - loss: 0.1341 - sparse_categorical_accuracy: 0.9543\n",
            "475/475 [==============================] - 84s 168ms/step - loss: 0.2161 - sparse_categorical_accuracy: 0.9351\n",
            "Loss: 0.2160799503326416, Accuracy: 0.9351315498352051\n"
          ]
        }
      ]
    },
    {
      "cell_type": "code",
      "source": [],
      "metadata": {
        "id": "ioAA9pYk3ah4"
      },
      "execution_count": null,
      "outputs": []
    }
  ]
}