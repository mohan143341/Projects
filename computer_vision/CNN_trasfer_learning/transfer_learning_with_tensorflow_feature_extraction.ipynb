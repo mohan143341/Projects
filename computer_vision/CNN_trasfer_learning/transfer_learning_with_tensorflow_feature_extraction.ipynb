{
  "cells": [
    {
      "cell_type": "markdown",
      "metadata": {
        "id": "HVt0lPEjIicm"
      },
      "source": [
        "# Transfer Learning with TensorFlow - Part 1 : Feature Extraction\n",
        "\n",
        "\n",
        "If you've been thinking, \"surely someone else has spent the time crafting the right model for the job...\" then you're in luck.\n",
        "\n",
        "For many of the problems, you'll want to use deep learning for, chances are, a working model already exists.\n",
        "\n",
        "And the good news is, you can access many of them on TensorFlow Hub.\n",
        "\n",
        "[TensorFlow Hub](https://tfhub.dev/) is a repository for existing model components. It makes it so you can import and use a fully trained model with as little as a URL.\n",
        "\n",
        "\n",
        "Why ? **Transfer leanring often allows you to get great results with less data.**\n",
        "\n",
        "## Problem Definition\n",
        "\n",
        "We're working towards building, taking a pre-trained model and adding our own custom layers on top, extracting all of the underlying patterns learned on another dataset of our own images."
      ]
    },
    {
      "cell_type": "markdown",
      "metadata": {
        "id": "sUlKKdSLLAZq"
      },
      "source": [
        "## Downloading and becoming one with the data"
      ]
    },
    {
      "cell_type": "code",
      "execution_count": 1,
      "metadata": {
        "colab": {
          "base_uri": "https://localhost:8080/"
        },
        "id": "KjcnvRz-LENA",
        "outputId": "700b3ac0-ba3c-4ee9-95a8-daaf39980cef"
      },
      "outputs": [
        {
          "name": "stdout",
          "output_type": "stream",
          "text": [
            "--2024-05-20 15:15:22--  https://storage.googleapis.com/ztm_tf_course/food_vision/10_food_classes_10_percent.zip\n",
            "Resolving storage.googleapis.com (storage.googleapis.com)... 142.250.101.207, 142.250.141.207, 142.251.2.207, ...\n",
            "Connecting to storage.googleapis.com (storage.googleapis.com)|142.250.101.207|:443... connected.\n",
            "HTTP request sent, awaiting response... 200 OK\n",
            "Length: 168546183 (161M) [application/zip]\n",
            "Saving to: ‘10_food_classes_10_percent.zip’\n",
            "\n",
            "10_food_classes_10_ 100%[===================>] 160.74M   157MB/s    in 1.0s    \n",
            "\n",
            "2024-05-20 15:15:23 (157 MB/s) - ‘10_food_classes_10_percent.zip’ saved [168546183/168546183]\n",
            "\n"
          ]
        }
      ],
      "source": [
        "import zipfile\n",
        "\n",
        "# Download data\n",
        "!wget https://storage.googleapis.com/ztm_tf_course/food_vision/10_food_classes_10_percent.zip\n",
        "\n",
        "# unzip the downloaded data\n",
        "zip_ref = zipfile.ZipFile(\"10_food_classes_10_percent.zip\", \"r\")\n",
        "zip_ref.extractall()\n",
        "zip_ref.close()"
      ]
    },
    {
      "cell_type": "code",
      "execution_count": 2,
      "metadata": {
        "colab": {
          "base_uri": "https://localhost:8080/"
        },
        "id": "QAqHWvUCLaVp",
        "outputId": "3ca8a31e-2e46-4527-b0a7-d6f4ce5ef0e9"
      },
      "outputs": [
        {
          "name": "stdout",
          "output_type": "stream",
          "text": [
            "There are 2 directories and 0 images in '10_food_classes_10_percent'\n",
            "There are 10 directories and 0 images in '10_food_classes_10_percent/test'\n",
            "There are 0 directories and 250 images in '10_food_classes_10_percent/test/sushi'\n",
            "There are 0 directories and 250 images in '10_food_classes_10_percent/test/chicken_wings'\n",
            "There are 0 directories and 250 images in '10_food_classes_10_percent/test/grilled_salmon'\n",
            "There are 0 directories and 250 images in '10_food_classes_10_percent/test/chicken_curry'\n",
            "There are 0 directories and 250 images in '10_food_classes_10_percent/test/hamburger'\n",
            "There are 0 directories and 250 images in '10_food_classes_10_percent/test/steak'\n",
            "There are 0 directories and 250 images in '10_food_classes_10_percent/test/ice_cream'\n",
            "There are 0 directories and 250 images in '10_food_classes_10_percent/test/fried_rice'\n",
            "There are 0 directories and 250 images in '10_food_classes_10_percent/test/ramen'\n",
            "There are 0 directories and 250 images in '10_food_classes_10_percent/test/pizza'\n",
            "There are 10 directories and 0 images in '10_food_classes_10_percent/train'\n",
            "There are 0 directories and 75 images in '10_food_classes_10_percent/train/sushi'\n",
            "There are 0 directories and 75 images in '10_food_classes_10_percent/train/chicken_wings'\n",
            "There are 0 directories and 75 images in '10_food_classes_10_percent/train/grilled_salmon'\n",
            "There are 0 directories and 75 images in '10_food_classes_10_percent/train/chicken_curry'\n",
            "There are 0 directories and 75 images in '10_food_classes_10_percent/train/hamburger'\n",
            "There are 0 directories and 75 images in '10_food_classes_10_percent/train/steak'\n",
            "There are 0 directories and 75 images in '10_food_classes_10_percent/train/ice_cream'\n",
            "There are 0 directories and 75 images in '10_food_classes_10_percent/train/fried_rice'\n",
            "There are 0 directories and 75 images in '10_food_classes_10_percent/train/ramen'\n",
            "There are 0 directories and 75 images in '10_food_classes_10_percent/train/pizza'\n"
          ]
        }
      ],
      "source": [
        "# How many images we have in each folder ?\n",
        "\n",
        "import os\n",
        "\n",
        "for dirpath, dirnames, filenames in os.walk('10_food_classes_10_percent'):\n",
        "  print(f\"There are {len(dirnames)} directories and {len(filenames)} images in '{dirpath}'\")"
      ]
    },
    {
      "cell_type": "markdown",
      "metadata": {
        "id": "j7fMMxArL19B"
      },
      "source": [
        "Notice how each of the training directories now has 75 images rather than 750 images. This is the key to demonstrating how well transfer learning can perform with less labelled images.\n",
        "\n",
        "The test directories still have the same amount of images. This means we'll be training on less data but evaluating our models on the same amount of test data."
      ]
    },
    {
      "cell_type": "markdown",
      "metadata": {
        "id": "agsNsTCbMNbW"
      },
      "source": [
        "## Creating data loaders (preparing the data)\n",
        "\n",
        "Now we've downloaded the data, let's use the `ImageDateGenerator` class along with the `flow_from_directory` method to load in our images."
      ]
    },
    {
      "cell_type": "code",
      "execution_count": 3,
      "metadata": {
        "colab": {
          "base_uri": "https://localhost:8080/"
        },
        "id": "DNC5LCKZMbXV",
        "outputId": "3ccf4fa0-cde2-4ddf-e4c4-14b607b5d4d4"
      },
      "outputs": [
        {
          "name": "stdout",
          "output_type": "stream",
          "text": [
            "Training images:\n",
            "Found 750 images belonging to 10 classes.\n",
            "Test images:\n",
            "Found 2500 images belonging to 10 classes.\n"
          ]
        }
      ],
      "source": [
        "# Setup the data inputs\n",
        "from tensorflow.keras.preprocessing.image import ImageDataGenerator\n",
        "\n",
        "IMG_SHAPE = (224, 224)\n",
        "BATCH_SIZE = 32\n",
        "\n",
        "train_dir = \"10_food_classes_10_percent/train/\"\n",
        "test_dir = \"10_food_classes_10_percent/test\"\n",
        "\n",
        "# Initiating ImageDataGenerator\n",
        "train_datagen = ImageDataGenerator(rescale=1/255.)\n",
        "test_datagen = ImageDataGenerator(rescale=1/255.)\n",
        "\n",
        "print(\"Training images:\")\n",
        "train_data_10_percent = train_datagen.flow_from_directory(train_dir,\n",
        "                                                          target_size=IMG_SHAPE,\n",
        "                                                          batch_size=BATCH_SIZE,\n",
        "                                                          class_mode=\"categorical\")\n",
        "\n",
        "print(\"Test images:\")\n",
        "test_data = test_datagen.flow_from_directory(test_dir,\n",
        "                                             target_size=IMG_SHAPE,\n",
        "                                             batch_size=BATCH_SIZE,\n",
        "                                             class_mode=\"categorical\")"
      ]
    },
    {
      "cell_type": "markdown",
      "metadata": {
        "id": "kT4_1hd8Nfw7"
      },
      "source": [
        "## Setting up callbacks (thing to run whilst training our model)\n",
        "\n",
        "Before we build a model, there's an important concept we're going to get familiar with because it's going to play a key role in our future model experiments.\n",
        "\n",
        "And that concept is **callbacks**.\n",
        "\n",
        "[Callbacks](https://www.tensorflow.org/api_docs/python/tf/keras/callbacks) are extra functionality you can add to your models to be performed during or after training. Some of the most popular callbacks include:\n",
        "\n",
        "- [Experiment tracking with TensorBoard](https://www.tensorflow.org/api_docs/python/tf/keras/callbacks/TensorBoard) - log the performance of multiple models and then view and compare these models in a visual way on [TensorBoard](https://www.tensorflow.org/tensorboard)(a dashboard for inspecting neural network parameters). Helpful to compare the results of different models on your data.\n",
        "- [Model Checkpoints](https://www.tensorflow.org/api_docs/python/tf/keras/callbacks/ModelCheckpoint) - save your model as it trains so you can stop training if needed and come back to continue off where you left. Helpful if training takes a long time and can't be done in one sitting.\n",
        "- [Early Stopping](https://www.tensorflow.org/api_docs/python/tf/keras/callbacks/EarlyStopping) - leave your model training for an arbitrary amount of time and have it stop training automatically when it ceases to improve. Helpful when you've got a large dataset and don't know how long training will take.\n",
        "\n",
        "\n",
        "The Tensorboard callback can be accessed using `tf.keras.callbacks.TensorBoard()`.\n",
        "\n",
        "It's main functionality is saving a model's training performance metrics to a specified `log_dir`.\n",
        "\n",
        "To track our modelling experiments using TensorBoard, let's create a function which creates a TensorBoard callback for us.\n",
        "\n",
        "> **Note**: We create a function for creating a TensorBoard callback because as we'll see later on, each model needs its own TensorBoard callback instance(so the function will create a new one each time it's run).\n"
      ]
    },
    {
      "cell_type": "code",
      "execution_count": 4,
      "metadata": {
        "id": "ALRSx1QNPoZx"
      },
      "outputs": [],
      "source": [
        "# CReate tensorboard callback (functionized because need to create a new one for each model)\n",
        "import datetime\n",
        "import tensorflow\n",
        "def create_tensorboard_callback(dir_name, experiment_name):\n",
        "  log_dir = dir_name + \"/\" + experiment_name + \"/\" + datetime.datetime.now().strftime(\"%Y%m%d-%H%M%S\")\n",
        "  tensorboard_callback = tensorflow.keras.callbacks.TensorBoard(\n",
        "      log_dir = log_dir\n",
        "  )\n",
        "  print(f\"Saving TensorBoard log files to: {log_dir}\")\n",
        "  return tensorboard_callback"
      ]
    },
    {
      "cell_type": "markdown",
      "metadata": {
        "id": "oP_gyQaqQV9g"
      },
      "source": [
        "Because we're going to run multiple experiments, it's a good idea to be able to track them in some way.\n",
        "\n",
        "In our case, our function save a model's performace logs to a directory named,\n",
        "`[dir_name]/[experiment_name]/[current_timestamp]`\n"
      ]
    },
    {
      "cell_type": "markdown",
      "metadata": {
        "id": "27ZdprOfgfzg"
      },
      "source": [
        "## Creating models using TensorFlow Hub\n",
        "\n",
        "In the past we've used TensorFlow to create our own models layer by layer from scratch.\n",
        "\n",
        "Now we're going to do a similar process, except the majority of our model's layers are going to come from `TensorFlow Hub`.\n",
        "\n",
        "In fact, we're going to use two models from TensorFlow Hub:\n",
        "* [ResNet50V2](https://arxiv.org/abs/1603.05027) : a state of art computer vision model architecture from 2016\n",
        "* [EfficientNetB0](https://arxiv.org/abs/1905.11946) : a state of art computer vision model architecture from 2019\n",
        "\n",
        "State of the art means that at some point, both of these models have achieved the lowest error rate on [ImageNet (ILSVRC-2012-CLS)](http://www.image-net.org/), the gold standard of computer vision benchmarks.\n",
        "\n",
        "We can see a list of state of the art models on [paperwithcode.com](https://www.paperswithcode.com/), a resource for collecting the latest in deep learning paper results which have code implementations for the findings they report.\n",
        "\n",
        "Since, we're working with images, our target are the [models which performs best on ImageNet](https://paperswithcode.com/sota/image-classification-on-imagenet).\n",
        "\n",
        "Let's build our model using the above said models from TensorFlow Hub.\n",
        "\n",
        "First we'll import TensorFlow and TensorFlow Hub."
      ]
    },
    {
      "cell_type": "code",
      "execution_count": 5,
      "metadata": {
        "id": "K7_ujmFhicXd"
      },
      "outputs": [],
      "source": [
        "import tensorflow as tf\n",
        "import tensorflow_hub as hub\n",
        "from tensorflow.keras import layers\n"
      ]
    },
    {
      "cell_type": "markdown",
      "metadata": {
        "id": "BNUbIHVjijWP"
      },
      "source": [
        "Now we'll get feature vector URLs of two common computer vision architectures, [EfficientNetB0(2019)](https://tfhub.dev/tensorflow/efficientnet/b0/feature-vector/1) and [ResNetV250(2016)](https://tfhub.dev/google/imagenet/resnet_v2_50/feature_vector/4) from TensorFlow Hub"
      ]
    },
    {
      "cell_type": "code",
      "execution_count": 6,
      "metadata": {
        "id": "8Kdl_yJli4Ja"
      },
      "outputs": [],
      "source": [
        "# Resnet50V2 feature vector\n",
        "resnet_url = \"https://tfhub.dev/google/imagenet/resnet_v2_50/feature_vector/4\"\n",
        "\n",
        "# EfficientNetB0 feature vector\n",
        "efficientnet_url = \"https://tfhub.dev/tensorflow/efficientnet/b0/feature-vector/1\""
      ]
    },
    {
      "cell_type": "markdown",
      "metadata": {
        "id": "zabEv7dpjbFr"
      },
      "source": [
        "These URLs link to a saved pretrained model on TensorFlow Hub.\n",
        "\n",
        "When we use them in our model, the model will automatically be downloaded for us to use.\n",
        "\n",
        "To do this, we can use the `KerasLayer()` model inside the TensorFlow Hub library.\n",
        "\n",
        "Since we're going to be comparing two models, to save ourselves code, we'll create a function `create_model()`. This function will take a model's TensorFlow Hub URL, instantiate a Keras Sequential model with the appropriate number of output layers, compile the model and return the model."
      ]
    },
    {
      "cell_type": "code",
      "execution_count": 7,
      "metadata": {
        "id": "do94rx1Tm862"
      },
      "outputs": [],
      "source": [
        "def create_model(model_url, num_classes=10):\n",
        "  \"\"\"\n",
        "  Takes a TensorFlow Hub URL and creates a Keras Sequential model with it.\n",
        "\n",
        "  Args:\n",
        "    model_url(str): A TensorFlow Hub feature extraction URL.\n",
        "    num_classes(int): Number of output neurons in output layer, should be equal\n",
        "    to number of target classes, default 10.\n",
        "  Returns:\n",
        "    A compiled Keras Sequential model with model_url as feature\n",
        "    extractor layer and Dense output layer with num_classes outputs.\n",
        "  \"\"\"\n",
        "\n",
        "  # Download the pretrained model and save it as Keras layer\n",
        "  feature_extractor_layer = hub.KerasLayer(model_url,\n",
        "                                           trainable=False, # freeze the underlying patterns\n",
        "                                           name='feature_extraction_layer',\n",
        "                                           input_shape=IMG_SHAPE+(3,)) # define the input image shape\n",
        "\n",
        "  # Create our own model\n",
        "  model = tf.keras.Sequential([\n",
        "      feature_extractor_layer, # use feature extraction layer as the base\n",
        "      layers.Dense(num_classes, activation='softmax', name='output_layer') # create our own output layer\n",
        "  ])\n",
        "\n",
        "  # compile our model\n",
        "  model.compile(loss=tf.keras.losses.CategoricalCrossentropy(),\n",
        "                optimizer='Adam',\n",
        "                metrics=['accuracy'])\n",
        "\n",
        "  return model"
      ]
    },
    {
      "cell_type": "markdown",
      "metadata": {
        "id": "JBSkXO8nowVZ"
      },
      "source": [
        "Great ! Now we've got a function for creating a model, we'll use it to first create and compile a model using Resnet50V2 architecture as our feature extraction compiled model.\n",
        "\n",
        "Then we'll fit the model with our own training data and test data and also use the callbacks."
      ]
    },
    {
      "cell_type": "code",
      "execution_count": 8,
      "metadata": {
        "colab": {
          "base_uri": "https://localhost:8080/"
        },
        "id": "PF92H1oMpRHo",
        "outputId": "14404e32-c2b4-4bd2-e7cf-0ba0dff79f59"
      },
      "outputs": [
        {
          "name": "stdout",
          "output_type": "stream",
          "text": [
            "Saving TensorBoard log files to: tensorflow_hub/resnet50V2/20240520-152212\n",
            "Epoch 1/5\n",
            "24/24 [==============================] - 24s 669ms/step - loss: 1.9038 - accuracy: 0.3507 - val_loss: 1.2094 - val_accuracy: 0.6140\n",
            "Epoch 2/5\n",
            "24/24 [==============================] - 11s 478ms/step - loss: 0.8911 - accuracy: 0.7373 - val_loss: 0.8515 - val_accuracy: 0.7272\n",
            "Epoch 3/5\n",
            "24/24 [==============================] - 11s 488ms/step - loss: 0.6173 - accuracy: 0.8173 - val_loss: 0.7422 - val_accuracy: 0.7572\n",
            "Epoch 4/5\n",
            "24/24 [==============================] - 13s 548ms/step - loss: 0.4615 - accuracy: 0.8920 - val_loss: 0.6937 - val_accuracy: 0.7680\n",
            "Epoch 5/5\n",
            "24/24 [==============================] - 16s 686ms/step - loss: 0.3784 - accuracy: 0.9053 - val_loss: 0.6720 - val_accuracy: 0.7696\n"
          ]
        }
      ],
      "source": [
        "# Create and Compile a model\n",
        "resnet_model = create_model(model_url=resnet_url,\n",
        "                            num_classes=train_data_10_percent.num_classes)\n",
        "\n",
        "# Fit the model\n",
        "resnet_history = resnet_model.fit(train_data_10_percent,\n",
        "                                  epochs=5,\n",
        "                                  steps_per_epoch=len(train_data_10_percent),\n",
        "                                  validation_data=test_data,\n",
        "                                  validation_steps=len(test_data),\n",
        "                                  callbacks=[create_tensorboard_callback(dir_name='tensorflow_hub',\n",
        "                                                                         experiment_name='resnet50V2')])"
      ]
    },
    {
      "cell_type": "markdown",
      "metadata": {
        "id": "XTrKkgc6qDpW"
      },
      "source": [
        "Wow !\n",
        "\n",
        "It seems that after only 5 epochs, the ResNet50V2 feature extraction model was able to blow any of the architectures we made out of the water, achieving around 90% accuracy on the training set and nearly 80% accuracy on the test set...**with only 10 percent of the training images!**\n",
        "\n",
        "That goes to show the power of transfer learning. And it's one of the main reasons whenever you're trying to model your own datasets, you should look into what pretrained models already exist.\n",
        "\n",
        "Let's check out our model's training curves using our `plot_loss_curves` function."
      ]
    },
    {
      "cell_type": "code",
      "execution_count": 9,
      "metadata": {
        "id": "iGWjxMzHrgdL"
      },
      "outputs": [],
      "source": [
        "import matplotlib.pyplot as plt\n",
        "\n",
        "# Plot the validation and training data separately\n",
        "def plot_loss_curves(history):\n",
        "  \"\"\"\n",
        "  Returns separate loss curves for training and validation metrics.\n",
        "  \"\"\"\n",
        "  loss = history.history['loss']\n",
        "  val_loss = history.history['val_loss']\n",
        "\n",
        "  accuracy = history.history['accuracy']\n",
        "  val_accuracy = history.history['val_accuracy']\n",
        "\n",
        "  epochs = range(len(history.history['loss']))\n",
        "\n",
        "  # Plot loss\n",
        "  plt.plot(epochs, loss, label='Training_loss')\n",
        "  plt.plot(epochs, val_loss, label='val_loss')\n",
        "  plt.title('Loss')\n",
        "  plt.xlabel('Epochs')\n",
        "  plt.legend()\n",
        "\n",
        "  plt.figure()\n",
        "\n",
        "  # Plot accuracy\n",
        "  plt.plot(epochs, accuracy, label='training accuracy')\n",
        "  plt.plot(epochs, val_accuracy, label='val_accuracy')\n",
        "  plt.title('Accuracy')\n",
        "  plt.xlabel('Epochs')\n",
        "  plt.legend();"
      ]
    },
    {
      "cell_type": "code",
      "execution_count": 10,
      "metadata": {
        "colab": {
          "base_uri": "https://localhost:8080/",
          "height": 927
        },
        "id": "JZDLu5FVsf7r",
        "outputId": "801c2571-ce1f-4152-c9b8-1c7f99a7f796"
      },
      "outputs": [
        {
          "data": {
            "image/png": "[encoded data removed]",
            "text/plain": [
              "<Figure size 640x480 with 1 Axes>"
            ]
          },
          "metadata": {},
          "output_type": "display_data"
        },
        {
          "data": {
            "image/png": "[encoded data removed]",
            "text/plain": [
              "<Figure size 640x480 with 1 Axes>"
            ]
          },
          "metadata": {},
          "output_type": "display_data"
        }
      ],
      "source": [
        "plot_loss_curves(resnet_history)"
      ]
    },
    {
      "cell_type": "markdown",
      "metadata": {
        "id": "_thn7yUMsjnX"
      },
      "source": [
        "And what about a summary of our model ?"
      ]
    },
    {
      "cell_type": "code",
      "execution_count": 11,
      "metadata": {
        "colab": {
          "base_uri": "https://localhost:8080/"
        },
        "id": "rT3gQPQMso9f",
        "outputId": "c837e4a5-9a8b-4da1-d9e5-03ecf3d4abc0"
      },
      "outputs": [
        {
          "name": "stdout",
          "output_type": "stream",
          "text": [
            "Model: \"sequential\"\n",
            "_________________________________________________________________\n",
            " Layer (type)                Output Shape              Param #   \n",
            "=================================================================\n",
            " feature_extraction_layer (  (None, 2048)              23564800  \n",
            " KerasLayer)                                                     \n",
            "                                                                 \n",
            " output_layer (Dense)        (None, 10)                20490     \n",
            "                                                                 \n",
            "=================================================================\n",
            "Total params: 23585290 (89.97 MB)\n",
            "Trainable params: 20490 (80.04 KB)\n",
            "Non-trainable params: 23564800 (89.89 MB)\n",
            "_________________________________________________________________\n"
          ]
        }
      ],
      "source": [
        "resnet_model.summary()"
      ]
    },
    {
      "cell_type": "markdown",
      "metadata": {
        "id": "dGywAcRksqhC"
      },
      "source": [
        "You can see the power of TensorFlow Hub here. The feature extraction layer has 23,564,800 parameters which are prelearned patterns the model has already learned on the ImageNet dataset.\n",
        "Since we set `trainable=False`, these patterns remain frozen(non-trainable) during training.\n",
        "\n",
        "This means during training the model updates the 20,490 parameters in the output layer to suit our dataset.\n",
        "\n",
        "\n",
        "Now we've trained the Resnet50V2 model, time to do the same with EfficientNetB0 model."
      ]
    },
    {
      "cell_type": "code",
      "execution_count": 12,
      "metadata": {
        "colab": {
          "base_uri": "https://localhost:8080/"
        },
        "id": "p3AdPDtStf9J",
        "outputId": "07b3d9f1-01f0-4970-b3f7-008ae507dcba"
      },
      "outputs": [
        {
          "name": "stdout",
          "output_type": "stream",
          "text": [
            "Saving TensorBoard log files to: tensorflow_hub/efficientnetb0/20240520-152527\n",
            "Epoch 1/5\n",
            "24/24 [==============================] - 25s 606ms/step - loss: 1.8233 - accuracy: 0.4400 - val_loss: 1.2595 - val_accuracy: 0.7352\n",
            "Epoch 2/5\n",
            "24/24 [==============================] - 11s 458ms/step - loss: 1.0464 - accuracy: 0.7653 - val_loss: 0.8525 - val_accuracy: 0.8172\n",
            "Epoch 3/5\n",
            "24/24 [==============================] - 11s 451ms/step - loss: 0.7449 - accuracy: 0.8400 - val_loss: 0.6919 - val_accuracy: 0.8384\n",
            "Epoch 4/5\n",
            "24/24 [==============================] - 11s 453ms/step - loss: 0.5964 - accuracy: 0.8640 - val_loss: 0.6067 - val_accuracy: 0.8524\n",
            "Epoch 5/5\n",
            "24/24 [==============================] - 13s 539ms/step - loss: 0.5060 - accuracy: 0.8947 - val_loss: 0.5560 - val_accuracy: 0.8576\n"
          ]
        }
      ],
      "source": [
        "# Create and compile model\n",
        "efficientnet_model = create_model(efficientnet_url,\n",
        "                                  train_data_10_percent.num_classes)\n",
        "\n",
        "# fit the model\n",
        "efficientnet_history = efficientnet_model.fit(train_data_10_percent,\n",
        "                                              epochs=5,\n",
        "                                              steps_per_epoch=len(train_data_10_percent),\n",
        "                                              validation_data=test_data,\n",
        "                                              validation_steps=len(test_data),\n",
        "                                              callbacks=[\n",
        "                                                  create_tensorboard_callback(dir_name='tensorflow_hub',\n",
        "                                                                               experiment_name='efficientnetb0')\n",
        "                                              ])"
      ]
    },
    {
      "cell_type": "markdown",
      "metadata": {
        "id": "z1zlIA9VuI0a"
      },
      "source": [
        "The EfficientNetB0 model does even better than ResNet50V2 model! Achieving over 85% accuracy on the test set.. again with only 10% of the training data.\n",
        "\n",
        "With a couple of lines of code we're able to leverage state of the art models and adjust them to our own use case.\n",
        "\n",
        "let's check out the loss curves."
      ]
    },
    {
      "cell_type": "code",
      "execution_count": 13,
      "metadata": {
        "colab": {
          "base_uri": "https://localhost:8080/",
          "height": 927
        },
        "id": "NlAI51U7w82s",
        "outputId": "c6a4cf03-675f-40ab-9852-5f3cea462d65"
      },
      "outputs": [
        {
          "data": {
            "image/png": "[encoded data removed]",
            "text/plain": [
              "<Figure size 640x480 with 1 Axes>"
            ]
          },
          "metadata": {},
          "output_type": "display_data"
        },
        {
          "data": {
            "image/png": "[encoded data removed]",
            "text/plain": [
              "<Figure size 640x480 with 1 Axes>"
            ]
          },
          "metadata": {},
          "output_type": "display_data"
        }
      ],
      "source": [
        "plot_loss_curves(efficientnet_history)"
      ]
    },
    {
      "cell_type": "markdown",
      "metadata": {
        "id": "cOk6Drxiw_4r"
      },
      "source": [
        "From the look of the EfficientNetB0 model's loss curves, it looks like if we kept training for longer, the validation accuracy will increase hence improve our model even more for our use case.\n",
        "\n",
        "Let's check out the model summary."
      ]
    },
    {
      "cell_type": "code",
      "execution_count": 14,
      "metadata": {
        "colab": {
          "base_uri": "https://localhost:8080/"
        },
        "id": "eFhXqxLexUZS",
        "outputId": "6adeb47e-b739-4cd1-d136-3564587bde4c"
      },
      "outputs": [
        {
          "name": "stdout",
          "output_type": "stream",
          "text": [
            "Model: \"sequential_1\"\n",
            "_________________________________________________________________\n",
            " Layer (type)                Output Shape              Param #   \n",
            "=================================================================\n",
            " feature_extraction_layer (  (None, 1280)              4049564   \n",
            " KerasLayer)                                                     \n",
            "                                                                 \n",
            " output_layer (Dense)        (None, 10)                12810     \n",
            "                                                                 \n",
            "=================================================================\n",
            "Total params: 4062374 (15.50 MB)\n",
            "Trainable params: 12810 (50.04 KB)\n",
            "Non-trainable params: 4049564 (15.45 MB)\n",
            "_________________________________________________________________\n"
          ]
        }
      ],
      "source": [
        "efficientnet_model.summary()"
      ]
    },
    {
      "cell_type": "markdown",
      "metadata": {
        "id": "NTIFSiHbxWZJ"
      },
      "source": [
        "It seems that, despite having over four times less parameters (4,049,564 vs 23,564,800) than the ResNet50V2 extraction layer, the EfficientNetB0 feature extraction layer yields better performance. Now it's clear where the 'efficient' name came from."
      ]
    },
    {
      "cell_type": "markdown",
      "metadata": {
        "id": "K94f2EKY1UOc"
      },
      "source": [
        "## Types of Transfer Learning\n",
        "\n",
        "1. **\"As is\" transfer learning** is when you take a pretrained model as it is and apply it to your task without any changes.\n",
        "  - For example, many compVis models are pretrained on the ImageNet dataset which contains 1000 different classes of images. This means passing a single image to this model will produce 1000 different prediction probability values (1 for each class).\n",
        "    - This is helpful if you have 1000 classes of image you'd like to classify and they're all the same as the ImageNet classes, however, it;s not helpful if you want to classify only a small subset of classes (such as 10 different kinds of food). Models with `/classification` in their name on TensorFlow Hub provide this kind of functionality.\n",
        "2. **\"Feature Extraction\" transfer learning** is when you take the underlying patterns (also called weights) a pretrained model has learned and adjust its outputs to be more suited to your problem.\n",
        "  - For eg, say the pretrained model you were using had 236 different layers(EfficientNetB0 has 236 layers), but the top layer outputs 1000 classes because it was pretrained on ImageNet. To adjust this to your own problem, you might remove the original activation layer and replace it with your own but with the right number of output classes. The important part here is that **only the top few layers become trainable, the rest remain frozen.**\n",
        "3. **\"Fine-Tuning\" transfer learning** is when you take the underlying patterns (also called weights) of a pretrained model and adjust(fine-tune) them to your own problem.\n",
        "  - This usually means training **some, many or all** of the layers in the pretrained model. This is useful when you've got a large dataset (e.g 100+ images per class) where your data is slightly different to the data the original model was trained on."
      ]
    },
    {
      "cell_type": "markdown",
      "metadata": {
        "id": "pajFLLcDxqcc"
      },
      "source": [
        "## Comparing models using TensorBoard\n",
        "\n",
        "Alright, event though we've already compared the performance of our two models by looking at the accuracy scores. But what if you had more than two models ?\n",
        "\n",
        "That's where an experiment tracking tool like [TensorBoard](https://www.tensorflow.org/tensorboard) comes in.\n",
        "\n",
        "The good thing is, since we setup a TensorBoard callback, all of our model's training logs have been saved automatically. To visualize them, we can upload the results to [TensorBoard.dev](https://tensorboard.dev/)\n",
        "\n",
        "Uploading your results to TensorBoard.dev enables you to track and share multiple different modelling experiments. So if you needed to show someone your results, you could send them a link to your TensorBoard.dev as well as the accompaning Colab Notebook."
      ]
    },
    {
      "cell_type": "markdown",
      "metadata": {
        "id": "2e-upqcKyltw"
      },
      "source": [
        "### Uploading experiments to TensorBoard\n",
        "\n",
        "To upload a series of TensorFlow logs to Tensorboard, we can use the following command:"
      ]
    },
    {
      "cell_type": "code",
      "execution_count": 17,
      "metadata": {
        "colab": {
          "base_uri": "https://localhost:8080/"
        },
        "id": "vqWjzccSyvlu",
        "outputId": "95bfa964-f31e-452b-bb70-239323b10c77"
      },
      "outputs": [
        {
          "name": "stdout",
          "output_type": "stream",
          "text": [
            "2024-05-20 15:29:32.411585: E external/local_xla/xla/stream_executor/cuda/cuda_dnn.cc:9261] Unable to register cuDNN factory: Attempting to register factory for plugin cuDNN when one has already been registered\n",
            "2024-05-20 15:29:32.411657: E external/local_xla/xla/stream_executor/cuda/cuda_fft.cc:607] Unable to register cuFFT factory: Attempting to register factory for plugin cuFFT when one has already been registered\n",
            "2024-05-20 15:29:32.412883: E external/local_xla/xla/stream_executor/cuda/cuda_blas.cc:1515] Unable to register cuBLAS factory: Attempting to register factory for plugin cuBLAS when one has already been registered\n",
            "2024-05-20 15:29:33.413226: W tensorflow/compiler/tf2tensorrt/utils/py_utils.cc:38] TF-TRT Warning: Could not find TensorRT\n",
            "****************************************************************\n",
            "****************************************************************\n",
            "****************************************************************\n",
            "\n",
            "Uploading TensorBoard logs to https://tensorboard.dev/ is no longer\n",
            "supported.\n",
            "\n",
            "TensorBoard.dev is shutting down.\n",
            "\n",
            "Please export your experiments by Dec 31, 2023.\n",
            "\n",
            "See the FAQ at https://tensorboard.dev.\n",
            "\n",
            "****************************************************************\n",
            "****************************************************************\n",
            "****************************************************************\n"
          ]
        }
      ],
      "source": [
        "!tensorboard dev upload --logdir ./tensorflow_hub/ \\\n",
        "  --name \"efficientnetb0 Vs resnet50V2\" \\\n",
        "  --description \"Comparing two different TF hub feature extraction models architecture using 10% of training images\" \\\n",
        "  --one_shot # this is to exit"
      ]
    },
    {
      "cell_type": "markdown",
      "metadata": {
        "id": "jLQFCjcnzVEB"
      },
      "source": [
        "TensorBoard Experiment URL : https://tensorboard.dev/experiment/PFzAwQrlS1eXwkNwq3bZ4w/"
      ]
    },
    {
      "cell_type": "markdown",
      "metadata": {
        "id": "lGiG8-x1z18U"
      },
      "source": [
        "In above execution code,\n",
        "* `--logdir` is the target upload directory\n",
        "* `--name` is the name of the experiment\n",
        "* `--description` is the description\n",
        "* `--one_shot` exits the TensorBoard uploader once uploading is finished"
      ]
    },
    {
      "cell_type": "markdown",
      "metadata": {
        "id": "6Fp1Mgqkzzlc"
      },
      "source": [
        "### Listing experiments you've saved to TensorBoard\n",
        "\n",
        "To see all the experiments you've uploaded you can use the command:\n",
        "`tensorboard dev list`"
      ]
    },
    {
      "cell_type": "code",
      "execution_count": 18,
      "metadata": {
        "colab": {
          "base_uri": "https://localhost:8080/"
        },
        "id": "wnInR7mn05Vg",
        "outputId": "0957af55-156c-4143-d463-a7905dfa6ded"
      },
      "outputs": [
        {
          "name": "stdout",
          "output_type": "stream",
          "text": [
            "2024-05-20 15:30:42.014678: E external/local_xla/xla/stream_executor/cuda/cuda_dnn.cc:9261] Unable to register cuDNN factory: Attempting to register factory for plugin cuDNN when one has already been registered\n",
            "2024-05-20 15:30:42.014734: E external/local_xla/xla/stream_executor/cuda/cuda_fft.cc:607] Unable to register cuFFT factory: Attempting to register factory for plugin cuFFT when one has already been registered\n",
            "2024-05-20 15:30:42.015900: E external/local_xla/xla/stream_executor/cuda/cuda_blas.cc:1515] Unable to register cuBLAS factory: Attempting to register factory for plugin cuBLAS when one has already been registered\n",
            "2024-05-20 15:30:43.076226: W tensorflow/compiler/tf2tensorrt/utils/py_utils.cc:38] TF-TRT Warning: Could not find TensorRT\n",
            "\n",
            "***** TensorBoard.dev Uploader *****\n",
            "\n",
            "This will list all experiments that you've uploaded to\n",
            "https://tensorboard.dev. TensorBoard.dev experiments are visible\n",
            "to everyone. Do not upload sensitive data.\n",
            "\n",
            "Your use of this service is subject to Google's Terms of Service\n",
            "<https://policies.google.com/terms> and Privacy Policy\n",
            "<https://policies.google.com/privacy>, and TensorBoard.dev's Terms of Service\n",
            "<https://tensorboard.dev/policy/terms/>.\n",
            "\n",
            "This notice will not be shown again while you are logged into the uploader.\n",
            "To log out, run `tensorboard dev auth revoke`.\n",
            "\n",
            "Continue? (yes/NO) Traceback (most recent call last):\n",
            "  File \"/usr/local/lib/python3.10/dist-packages/absl/app.py\", line 308, in run\n",
            "    _run_main(main, args)\n",
            "  File \"/usr/local/lib/python3.10/dist-packages/absl/app.py\", line 254, in _run_main\n",
            "    sys.exit(main(argv))\n",
            "  File \"/usr/local/lib/python3.10/dist-packages/tensorboard/program.py\", line 276, in main\n",
            "    return runner(self.flags) or 0\n",
            "  File \"/usr/local/lib/python3.10/dist-packages/tensorboard/uploader/uploader_subcommand.py\", line 611, in run\n",
            "    return _run(flags, self._experiment_url_callback)\n",
            "  File \"/usr/local/lib/python3.10/dist-packages/tensorboard/uploader/uploader_subcommand.py\", line 115, in _run\n",
            "    _prompt_for_user_ack(intent)\n",
            "  File \"/usr/local/lib/python3.10/dist-packages/tensorboard/uploader/uploader_subcommand.py\", line 63, in _prompt_for_user_ack\n",
            "    response = input(\"Continue? (yes/NO) \")\n",
            "KeyboardInterrupt\n",
            "\n",
            "During handling of the above exception, another exception occurred:\n",
            "\n",
            "Traceback (most recent call last):\n",
            "  File \"/usr/local/bin/tensorboard\", line 8, in <module>\n",
            "    sys.exit(run_main())\n",
            "  File \"/usr/local/lib/python3.10/dist-packages/tensorboard/main.py\", line 46, in run_main\n",
            "    app.run(tensorboard.main, flags_parser=tensorboard.configure)\n",
            "  File \"/usr/local/lib/python3.10/dist-packages/absl/app.py\", line 321, in run\n",
            "    if FLAGS.pdb_post_mortem and sys.stdout.isatty():\n",
            "  File \"/usr/local/lib/python3.10/dist-packages/absl/flags/_flagvalues.py\", line 479, in __getattr__\n",
            "    return fl[name].value\n",
            "  File \"/usr/local/lib/python3.10/dist-packages/absl/flags/_flag.py\", line 110, in value\n",
            "    @property\n",
            "KeyboardInterrupt\n",
            "^C\n"
          ]
        }
      ],
      "source": [
        "!tensorboard dev list"
      ]
    },
    {
      "cell_type": "markdown",
      "metadata": {
        "id": "Xc002M1w067e"
      },
      "source": [
        "### Deleting experiment from Tensorboard\n",
        "\n",
        "Remember, all uploads to TensorBoard.dev are public, so to delete an experiment you can use the command:\n",
        "\n",
        "`tensorboard dev delete --experiment_id [INSERT_EXPERIMENT_ID]`"
      ]
    },
    {
      "cell_type": "code",
      "execution_count": null,
      "metadata": {
        "id": "Q5VpIAwq1OSG"
      },
      "outputs": [],
      "source": []
    }
  ],
  "metadata": {
    "accelerator": "GPU",
    "colab": {
      "provenance": []
    },
    "gpuClass": "standard",
    "kernelspec": {
      "display_name": "Python 3.10.7 64-bit",
      "language": "python",
      "name": "python3"
    },
    "language_info": {
      "name": "python",
      "version": "3.10.7"
    },
    "vscode": {
      "interpreter": {
        "hash": "aee8b7b246df8f9039afb4144a1f6fd8d2ca17a180786b69acc140d282b71a49"
      }
    }
  },
  "nbformat": 4,
  "nbformat_minor": 0
}
