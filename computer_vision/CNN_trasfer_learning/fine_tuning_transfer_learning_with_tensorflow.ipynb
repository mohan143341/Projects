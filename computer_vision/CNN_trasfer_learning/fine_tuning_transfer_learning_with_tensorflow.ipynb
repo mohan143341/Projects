{
  "cells": [
    {
      "cell_type": "markdown",
      "metadata": {
        "id": "STYzc-8ZGhqX"
      },
      "source": [
        "# Transfer Learning with TensorFlow : Fine Tuning\n",
        "\n",
        "In the previous section, we saw how we could leverage feature extraction transfer learning to get far better results on our Food vision project (using only 10% of original dataset) than building our own model from scratch.\n",
        "\n",
        "Now, we're going to cover another type of transfer learning: fine-tuning.\n",
        "\n",
        "In **fine-tuning transfer learning** the pre-trained weights from another model are unfrozen and tweaked during to better suit your own data.\n",
        "\n",
        "*Feature extraction transfer learning vs. fine-tuning transfer learning. The main difference between the two is that in fine-tuning, more layers of the pre-trained model get unfrozen and tuned on custom data. This fine-tuning usually takes more data than feature extraction to be effective.*"
      ]
    },
    {
      "cell_type": "markdown",
      "metadata": {
        "id": "YHIrqFznIW1n"
      },
      "source": [
        "> 💡 **This time we will use the helper functions to speed up our steps in learning**"
      ]
    },
    {
      "cell_type": "markdown",
      "metadata": {
        "id": "eE_H8bZLIq8U"
      },
      "source": [
        "Import the Helper functions"
      ]
    },
    {
      "cell_type": "code",
      "execution_count": null,
      "metadata": {
        "colab": {
          "base_uri": "https://localhost:8080/"
        },
        "id": "R9Nsxn6zI1lG",
        "outputId": "6e5a9437-07d0-4d77-b93b-1dd437ec2303"
      },
      "outputs": [
        {
          "name": "stdout",
          "output_type": "stream",
          "text": [
            "--2023-01-02 05:04:52--  https://raw.githubusercontent.com/SaketMunda/ml-helpers/master/helper_functions.py\n",
            "Resolving raw.githubusercontent.com (raw.githubusercontent.com)... 185.199.108.133, 185.199.109.133, 185.199.110.133, ...\n",
            "Connecting to raw.githubusercontent.com (raw.githubusercontent.com)|185.199.108.133|:443... connected.\n",
            "HTTP request sent, awaiting response... 200 OK\n",
            "Length: 2904 (2.8K) [text/plain]\n",
            "Saving to: ‘helper_functions.py.1’\n",
            "\n",
            "\rhelper_functions.py   0%[                    ]       0  --.-KB/s               \rhelper_functions.py 100%[===================>]   2.84K  --.-KB/s    in 0s      \n",
            "\n",
            "2023-01-02 05:04:52 (55.7 MB/s) - ‘helper_functions.py.1’ saved [2904/2904]\n",
            "\n"
          ]
        }
      ],
      "source": [
        "# Get helper_functions.py script from Github\n",
        "!wget https://raw.githubusercontent.com/SaketMunda/ml-helpers/master/helper_functions.py\n",
        "\n",
        "# Import helper functions we're going to use\n",
        "from helper_functions import create_tensorboard_callback, unzip_data, walk_through_dir, plot_loss_curves"
      ]
    },
    {
      "cell_type": "markdown",
      "metadata": {
        "id": "9Z7N0tt_JC2m"
      },
      "source": [
        "## 10 Food Classes : Working with Less data\n",
        "\n",
        "As in the previous notebook of Transfer Leanring : Feature Extraction, we got good results from less data (10%) of the training data using transfer learning from TensorFlow Hub.\n",
        "\n",
        "In this notebook, we're going to continue to work with smaller subsets of the data, except this time we'll have a look at how we can use in-built pretrained models within the `tf.keras.applications` module as well as how to fine-tune them to our own custom dataset.\n",
        "\n",
        "We'll also practice using a new but similar dataloader function to what we've used before, `image_dataset_from_directory()` which is a part of `tf.keras.preprocessing` module.\n",
        "\n",
        "Finally we'll be practicing using the [Keras Functional API](https://keras.io/guides/functional_api/) for building deep learning models. The functional API is a more flexible way to create models than the `tf.keras.Sequential`\n",
        "\n",
        "Let's start by downloading the data"
      ]
    },
    {
      "cell_type": "code",
      "execution_count": null,
      "metadata": {
        "colab": {
          "base_uri": "https://localhost:8080/"
        },
        "id": "Kl5ovR3QKRHo",
        "outputId": "a38d4aa1-94bf-4bc8-8cf4-c08684cc685d"
      },
      "outputs": [
        {
          "name": "stdout",
          "output_type": "stream",
          "text": [
            "--2023-01-02 05:04:53--  https://storage.googleapis.com/ztm_tf_course/food_vision/10_food_classes_10_percent.zip\n",
            "Resolving storage.googleapis.com (storage.googleapis.com)... 74.125.24.128, 142.250.4.128, 142.251.10.128, ...\n",
            "Connecting to storage.googleapis.com (storage.googleapis.com)|74.125.24.128|:443... connected.\n",
            "HTTP request sent, awaiting response... 200 OK\n",
            "Length: 168546183 (161M) [application/zip]\n",
            "Saving to: ‘10_food_classes_10_percent.zip’\n",
            "\n",
            "10_food_classes_10_ 100%[===================>] 160.74M  23.1MB/s    in 7.9s    \n",
            "\n",
            "2023-01-02 05:05:02 (20.3 MB/s) - ‘10_food_classes_10_percent.zip’ saved [168546183/168546183]\n",
            "\n"
          ]
        }
      ],
      "source": [
        "# Get 10% of the data of the 10 classes\n",
        "!wget https://storage.googleapis.com/ztm_tf_course/food_vision/10_food_classes_10_percent.zip\n",
        "\n",
        "unzip_data('10_food_classes_10_percent.zip')"
      ]
    },
    {
      "cell_type": "code",
      "execution_count": null,
      "metadata": {
        "colab": {
          "base_uri": "https://localhost:8080/"
        },
        "id": "a3SlAZCrKbAE",
        "outputId": "a75ac0f6-4643-4272-c969-60de3d628a9b"
      },
      "outputs": [
        {
          "name": "stdout",
          "output_type": "stream",
          "text": [
            "There are 2 directories and 0 files in '10_food_classes_10_percent'\n",
            "There are 10 directories and 0 files in '10_food_classes_10_percent/test'\n",
            "There are 0 directories and 250 files in '10_food_classes_10_percent/test/steak'\n",
            "There are 0 directories and 250 files in '10_food_classes_10_percent/test/ice_cream'\n",
            "There are 0 directories and 250 files in '10_food_classes_10_percent/test/hamburger'\n",
            "There are 0 directories and 250 files in '10_food_classes_10_percent/test/chicken_wings'\n",
            "There are 0 directories and 250 files in '10_food_classes_10_percent/test/chicken_curry'\n",
            "There are 0 directories and 250 files in '10_food_classes_10_percent/test/pizza'\n",
            "There are 0 directories and 250 files in '10_food_classes_10_percent/test/grilled_salmon'\n",
            "There are 0 directories and 250 files in '10_food_classes_10_percent/test/ramen'\n",
            "There are 0 directories and 250 files in '10_food_classes_10_percent/test/sushi'\n",
            "There are 0 directories and 250 files in '10_food_classes_10_percent/test/fried_rice'\n",
            "There are 10 directories and 0 files in '10_food_classes_10_percent/train'\n",
            "There are 0 directories and 75 files in '10_food_classes_10_percent/train/steak'\n",
            "There are 0 directories and 75 files in '10_food_classes_10_percent/train/ice_cream'\n",
            "There are 0 directories and 75 files in '10_food_classes_10_percent/train/hamburger'\n",
            "There are 0 directories and 75 files in '10_food_classes_10_percent/train/chicken_wings'\n",
            "There are 0 directories and 75 files in '10_food_classes_10_percent/train/chicken_curry'\n",
            "There are 0 directories and 75 files in '10_food_classes_10_percent/train/pizza'\n",
            "There are 0 directories and 75 files in '10_food_classes_10_percent/train/grilled_salmon'\n",
            "There are 0 directories and 75 files in '10_food_classes_10_percent/train/ramen'\n",
            "There are 0 directories and 75 files in '10_food_classes_10_percent/train/sushi'\n",
            "There are 0 directories and 75 files in '10_food_classes_10_percent/train/fried_rice'\n"
          ]
        }
      ],
      "source": [
        "# Walk through the directory and list number of files\n",
        "walk_through_dir('10_food_classes_10_percent')"
      ]
    },
    {
      "cell_type": "markdown",
      "metadata": {
        "id": "Qz_b4_CSKotm"
      },
      "source": [
        "It's the same number of files and classes we used in previous notebook."
      ]
    },
    {
      "cell_type": "code",
      "execution_count": null,
      "metadata": {
        "id": "pKTTG2hDLrBi"
      },
      "outputs": [],
      "source": [
        "# Create the training and testing directory\n",
        "train_dir = '10_food_classes_10_percent/train/'\n",
        "test_dir = '10_food_classes_10_percent/test/'"
      ]
    },
    {
      "cell_type": "markdown",
      "metadata": {
        "id": "5W-OTNfVL9wE"
      },
      "source": [
        "Now we've got some image data, we need a way of loading it into a Tensorflow compatible format.\n",
        "\n",
        "Previously, we've used the `ImageDataGenerator` class. And while this works well and is still very commonly used, this time we're going to use the `image_dataset_from_directory` function.\n",
        "\n",
        "One of the main benefits of using `tf.keras.preprocessing.image_dataset_from_directory()` rather than `ImageDataGenerator` is that it creates a `tf.data.Dataset` object rather than a generator. The main advantage of this is the `tf.data.Dataset` API is much faster and efficient than the `ImageDataGenerator` API which is paramount for larger datasets.\n",
        "\n"
      ]
    },
    {
      "cell_type": "code",
      "execution_count": null,
      "metadata": {
        "colab": {
          "base_uri": "https://localhost:8080/"
        },
        "id": "MSN8trhhMway",
        "outputId": "1e79137b-a07e-4d82-bc2b-196bf1a971c6"
      },
      "outputs": [
        {
          "name": "stdout",
          "output_type": "stream",
          "text": [
            "Found 750 files belonging to 10 classes.\n",
            "Found 2500 files belonging to 10 classes.\n"
          ]
        }
      ],
      "source": [
        "import tensorflow as tf\n",
        "\n",
        "IMG_SHAPE = (224, 224)\n",
        "BATCH_SIZE = 32\n",
        "\n",
        "train_data_10_percent = tf.keras.preprocessing.image_dataset_from_directory(train_dir,\n",
        "                                                  image_size=IMG_SHAPE,\n",
        "                                                  label_mode='categorical',\n",
        "                                                  batch_size=BATCH_SIZE)\n",
        "\n",
        "test_data_10_percent = tf.keras.preprocessing.image_dataset_from_directory(test_dir,\n",
        "                                                 image_size=IMG_SHAPE,\n",
        "                                                 label_mode='categorical',\n",
        "                                                 batch_size=BATCH_SIZE)"
      ]
    },
    {
      "cell_type": "markdown",
      "metadata": {
        "id": "fxpB4afwNRV3"
      },
      "source": [
        "Wonderful ! Looks like our dataloaders have found the correct number of images for each Dataset.\n",
        "\n",
        "For now, the main parameters we're concerned about in the `image_dataset_from_directory` function are:\n",
        "- `directory`\n",
        "- `image_size`\n",
        "- `batch_size`"
      ]
    },
    {
      "cell_type": "code",
      "execution_count": null,
      "metadata": {
        "colab": {
          "base_uri": "https://localhost:8080/"
        },
        "id": "GSPzMR7aOHaD",
        "outputId": "4888e0ea-a87c-4684-b82f-dcb0d41147d8"
      },
      "outputs": [
        {
          "data": {
            "text/plain": [
              "<BatchDataset element_spec=(TensorSpec(shape=(None, 224, 224, 3), dtype=tf.float32, name=None), TensorSpec(shape=(None, 10), dtype=tf.float32, name=None))>"
            ]
          },
          "execution_count": 7,
          "metadata": {},
          "output_type": "execute_result"
        }
      ],
      "source": [
        "# if we check the datatype of the preprocessed dataset\n",
        "train_data_10_percent"
      ]
    },
    {
      "cell_type": "markdown",
      "metadata": {
        "id": "x3n5eA58ONgL"
      },
      "source": [
        "It's Batch Dataset"
      ]
    },
    {
      "cell_type": "code",
      "execution_count": null,
      "metadata": {
        "colab": {
          "base_uri": "https://localhost:8080/"
        },
        "id": "dEPxjDtmOcEf",
        "outputId": "70792f6f-e50d-4120-9638-d9cf54b50598"
      },
      "outputs": [
        {
          "data": {
            "text/plain": [
              "['chicken_curry',\n",
              " 'chicken_wings',\n",
              " 'fried_rice',\n",
              " 'grilled_salmon',\n",
              " 'hamburger',\n",
              " 'ice_cream',\n",
              " 'pizza',\n",
              " 'ramen',\n",
              " 'steak',\n",
              " 'sushi']"
            ]
          },
          "execution_count": 8,
          "metadata": {},
          "output_type": "execute_result"
        }
      ],
      "source": [
        "# check the classes\n",
        "train_data_10_percent.class_names"
      ]
    },
    {
      "cell_type": "markdown",
      "metadata": {
        "id": "c05996fLOfDP"
      },
      "source": [
        "Or if we wanted to see an example of batch of data, we could use the `take()` method"
      ]
    },
    {
      "cell_type": "code",
      "execution_count": null,
      "metadata": {
        "colab": {
          "base_uri": "https://localhost:8080/"
        },
        "id": "yDp1gSWqOsq3",
        "outputId": "2b47b30e-8101-4afe-b3b8-7e072b9b873e"
      },
      "outputs": [
        {
          "name": "stdout",
          "output_type": "stream",
          "text": [
            "tf.Tensor(\n",
            "[[[[8.34846954e+01 5.44846916e+01 4.04846916e+01]\n",
            "   [7.75000000e+01 4.90969353e+01 3.50969353e+01]\n",
            "   [8.37193909e+01 5.57193909e+01 4.17193909e+01]\n",
            "   ...\n",
            "   [1.89847244e+02 1.45923767e+02 9.83421860e+01]\n",
            "   [1.78163345e+02 1.35163345e+02 9.22347870e+01]\n",
            "   [1.75473892e+02 1.31473892e+02 9.24738922e+01]]\n",
            "\n",
            "  [[8.05714264e+01 5.37653084e+01 4.11683693e+01]\n",
            "   [8.20714264e+01 5.57959175e+01 4.29336739e+01]\n",
            "   [8.04285736e+01 5.44285736e+01 4.10000000e+01]\n",
            "   ...\n",
            "   [1.79530502e+02 1.35530502e+02 8.81019745e+01]\n",
            "   [1.74576630e+02 1.30438858e+02 8.58521576e+01]\n",
            "   [1.86162918e+02 1.43162918e+02 1.00234344e+02]]\n",
            "\n",
            "  [[7.66530609e+01 5.38673477e+01 3.98673477e+01]\n",
            "   [7.80561218e+01 5.52704048e+01 4.14846916e+01]\n",
            "   [7.53826523e+01 5.25969391e+01 3.88112259e+01]\n",
            "   ...\n",
            "   [1.77576202e+02 1.33438461e+02 8.61476669e+01]\n",
            "   [1.83321442e+02 1.39321442e+02 9.38928604e+01]\n",
            "   [1.95872269e+02 1.51872269e+02 1.06443687e+02]]\n",
            "\n",
            "  ...\n",
            "\n",
            "  [[2.02637756e+02 1.95637756e+02 2.03637756e+02]\n",
            "   [1.98831650e+02 1.91831650e+02 1.99831650e+02]\n",
            "   [1.95612350e+02 1.87612350e+02 1.98612350e+02]\n",
            "   ...\n",
            "   [1.06603561e+02 8.83635788e+01 6.24501801e+01]\n",
            "   [1.43423660e+02 1.17622551e+02 8.10204010e+01]\n",
            "   [1.37137741e+02 1.04933617e+02 6.31427307e+01]]\n",
            "\n",
            "  [[2.00974487e+02 1.93974487e+02 2.01974487e+02]\n",
            "   [2.00010208e+02 1.93010208e+02 2.01010208e+02]\n",
            "   [1.99974487e+02 1.91974487e+02 2.03403061e+02]\n",
            "   ...\n",
            "   [1.63464783e+02 1.37408585e+02 1.03005402e+02]\n",
            "   [1.63928741e+02 1.33653183e+02 9.55154037e+01]\n",
            "   [1.59903137e+02 1.27903130e+02 8.83112564e+01]]\n",
            "\n",
            "  [[2.01770416e+02 1.94770416e+02 2.02770416e+02]\n",
            "   [2.01071426e+02 1.93071426e+02 2.04071426e+02]\n",
            "   [2.00418381e+02 1.92418381e+02 2.03846954e+02]\n",
            "   ...\n",
            "   [1.79005203e+02 1.46571503e+02 1.07224472e+02]\n",
            "   [1.81285645e+02 1.49285645e+02 1.10688744e+02]\n",
            "   [1.81836990e+02 1.51836990e+02 1.16551346e+02]]]\n",
            "\n",
            "\n",
            " [[[4.78724480e+01 7.18724518e+01 1.09872452e+02]\n",
            "   [4.69234695e+01 6.89234695e+01 1.05923470e+02]\n",
            "   [4.26938782e+01 6.19897957e+01 9.87755051e+01]\n",
            "   ...\n",
            "   [1.08868179e+02 1.32516312e+02 1.56164368e+02]\n",
            "   [1.25903099e+02 1.64239899e+02 1.97025650e+02]\n",
            "   [1.08167427e+02 1.58167496e+02 1.95397141e+02]]\n",
            "\n",
            "  [[3.94081612e+01 6.54081650e+01 1.02408165e+02]\n",
            "   [4.44948997e+01 6.84949036e+01 1.06494904e+02]\n",
            "   [4.61173477e+01 6.58316345e+01 1.02632652e+02]\n",
            "   ...\n",
            "   [4.27760696e+01 6.22200775e+01 8.26895142e+01]\n",
            "   [1.13388130e+02 1.47454514e+02 1.75383133e+02]\n",
            "   [1.43683319e+02 1.86969101e+02 2.19086472e+02]]\n",
            "\n",
            "  [[4.11275482e+01 6.86989822e+01 1.05698982e+02]\n",
            "   [3.92244873e+01 6.47959137e+01 1.02010201e+02]\n",
            "   [4.62908173e+01 6.78622437e+01 1.04862244e+02]\n",
            "   ...\n",
            "   [2.08724918e+01 3.36583138e+01 4.98267517e+01]\n",
            "   [4.66534081e+01 7.07657318e+01 9.25106430e+01]\n",
            "   [1.19378632e+02 1.51592987e+02 1.76945053e+02]]\n",
            "\n",
            "  ...\n",
            "\n",
            "  [[7.36326904e+01 5.44183960e+01 5.10612793e+01]\n",
            "   [6.79439011e+01 4.73571854e+01 4.27296448e+01]\n",
            "   [5.92806091e+01 3.56173668e+01 3.17857399e+01]\n",
            "   ...\n",
            "   [3.36428833e+01 1.32397900e+01 7.47450447e+00]\n",
            "   [3.36276054e+01 1.26276045e+01 7.62760448e+00]\n",
            "   [3.54999390e+01 1.44999390e+01 1.10713501e+01]]\n",
            "\n",
            "  [[7.35509567e+01 5.26223679e+01 4.97651901e+01]\n",
            "   [7.30102539e+01 5.21479759e+01 4.90918694e+01]\n",
            "   [7.09390030e+01 4.69083405e+01 4.27654724e+01]\n",
            "   ...\n",
            "   [3.56020737e+01 1.58163376e+01 8.81633759e+00]\n",
            "   [3.50765419e+01 1.40765438e+01 9.07654381e+00]\n",
            "   [3.22396164e+01 1.12396183e+01 6.23961782e+00]]\n",
            "\n",
            "  [[7.66887131e+01 5.04030075e+01 4.41173019e+01]\n",
            "   [7.77601624e+01 4.91173134e+01 4.38316078e+01]\n",
            "   [8.40050583e+01 5.38724098e+01 4.52856903e+01]\n",
            "   ...\n",
            "   [3.80509911e+01 1.82652550e+01 1.12652550e+01]\n",
            "   [3.34490013e+01 1.24490004e+01 7.44900036e+00]\n",
            "   [3.56019859e+01 1.46019859e+01 9.60198593e+00]]]\n",
            "\n",
            "\n",
            " [[[1.78642853e+02 1.84642853e+02 1.98642853e+02]\n",
            "   [1.79150833e+02 1.85150833e+02 1.99150833e+02]\n",
            "   [1.79642853e+02 1.85642853e+02 1.99642853e+02]\n",
            "   ...\n",
            "   [1.69846619e+02 1.77846619e+02 1.96846619e+02]\n",
            "   [1.68433014e+02 1.76433014e+02 1.95433014e+02]\n",
            "   [1.67642853e+02 1.75642853e+02 1.94642853e+02]]\n",
            "\n",
            "  [[1.81928574e+02 1.87928574e+02 2.01928574e+02]\n",
            "   [1.81928574e+02 1.87928574e+02 2.01928574e+02]\n",
            "   [1.82245544e+02 1.88245544e+02 2.02245544e+02]\n",
            "   ...\n",
            "   [1.73245529e+02 1.81245529e+02 2.00245529e+02]\n",
            "   [1.71718735e+02 1.79718735e+02 1.98718735e+02]\n",
            "   [1.70928574e+02 1.78928574e+02 1.97928574e+02]]\n",
            "\n",
            "  [[1.83635529e+02 1.89635529e+02 2.03635529e+02]\n",
            "   [1.84214279e+02 1.90214279e+02 2.04214279e+02]\n",
            "   [1.84282211e+02 1.90282211e+02 2.04282211e+02]\n",
            "   ...\n",
            "   [1.75745529e+02 1.83745529e+02 2.02745529e+02]\n",
            "   [1.74218735e+02 1.82218735e+02 2.01218735e+02]\n",
            "   [1.73428574e+02 1.81428574e+02 2.00428574e+02]]\n",
            "\n",
            "  ...\n",
            "\n",
            "  [[1.60785736e+02 1.65785736e+02 1.84785736e+02]\n",
            "   [1.59995560e+02 1.64995560e+02 1.83995560e+02]\n",
            "   [1.59468765e+02 1.64468765e+02 1.83468765e+02]\n",
            "   ...\n",
            "   [1.93000000e+02 1.96000000e+02 2.05000000e+02]\n",
            "   [1.93785736e+02 1.96785736e+02 2.05785736e+02]\n",
            "   [1.93785736e+02 1.96785736e+02 2.05785736e+02]]\n",
            "\n",
            "  [[1.63071442e+02 1.68071442e+02 1.87071442e+02]\n",
            "   [1.62281265e+02 1.67281265e+02 1.86281265e+02]\n",
            "   [1.61754471e+02 1.66754471e+02 1.85754471e+02]\n",
            "   ...\n",
            "   [1.94000000e+02 1.96000000e+02 2.08000000e+02]\n",
            "   [1.94943542e+02 1.96943542e+02 2.08943542e+02]\n",
            "   [1.95000000e+02 1.97000000e+02 2.09000000e+02]]\n",
            "\n",
            "  [[1.65000000e+02 1.70000000e+02 1.89000000e+02]\n",
            "   [1.64492050e+02 1.69492050e+02 1.88492050e+02]\n",
            "   [1.63683029e+02 1.68683029e+02 1.87683029e+02]\n",
            "   ...\n",
            "   [1.93886795e+02 1.95886795e+02 2.08886795e+02]\n",
            "   [1.94000000e+02 1.96000000e+02 2.09000000e+02]\n",
            "   [1.94473511e+02 1.96473511e+02 2.09473511e+02]]]\n",
            "\n",
            "\n",
            " ...\n",
            "\n",
            "\n",
            " [[[1.95387756e+02 1.97387756e+02 1.58387756e+02]\n",
            "   [1.97214279e+02 1.99214279e+02 1.62214279e+02]\n",
            "   [2.06214294e+02 2.07642868e+02 1.76285721e+02]\n",
            "   ...\n",
            "   [1.87142792e+02 1.81280533e+02 1.58719299e+02]\n",
            "   [1.94515472e+02 1.89872620e+02 1.66801193e+02]\n",
            "   [2.13178406e+02 2.08178406e+02 1.87464127e+02]]\n",
            "\n",
            "  [[1.61719391e+02 1.63719391e+02 1.24719391e+02]\n",
            "   [1.85158157e+02 1.86295914e+02 1.51882660e+02]\n",
            "   [1.92239792e+02 1.93224487e+02 1.61484695e+02]\n",
            "   ...\n",
            "   [1.51433777e+02 1.48520477e+02 1.33234772e+02]\n",
            "   [1.54301010e+02 1.51505112e+02 1.34153061e+02]\n",
            "   [1.63740005e+02 1.61668579e+02 1.46382858e+02]]\n",
            "\n",
            "  [[9.38775558e+01 9.48775558e+01 6.13061218e+01]\n",
            "   [1.25581635e+02 1.26581635e+02 9.30102081e+01]\n",
            "   [1.40204086e+02 1.41204086e+02 1.09418365e+02]\n",
            "   ...\n",
            "   [8.85614319e+01 8.89899826e+01 8.20613708e+01]\n",
            "   [8.97245255e+01 9.09388123e+01 8.35816727e+01]\n",
            "   [9.68111191e+01 9.88162994e+01 9.11019821e+01]]\n",
            "\n",
            "  ...\n",
            "\n",
            "  [[1.37806442e+02 6.65206833e+01 1.10920887e+01]\n",
            "   [1.45025818e+02 7.24543457e+01 1.76686115e+01]\n",
            "   [1.44928970e+02 7.01891174e+01 1.62145920e+01]\n",
            "   ...\n",
            "   [6.43367081e+01 3.04285278e+01 3.85705566e+00]\n",
            "   [7.46887131e+01 3.86887131e+01 1.66887131e+01]\n",
            "   [7.32857666e+01 3.52857666e+01 1.62857666e+01]]\n",
            "\n",
            "  [[1.49790817e+02 7.58622742e+01 1.05765057e+01]\n",
            "   [1.64428574e+02 8.94948959e+01 2.42805748e+01]\n",
            "   [1.56658096e+02 8.14591217e+01 1.68570385e+01]\n",
            "   ...\n",
            "   [7.16735916e+01 3.68878517e+01 6.11748600e+00]\n",
            "   [7.93927536e+01 4.33927536e+01 1.93927517e+01]\n",
            "   [7.56635666e+01 3.86635666e+01 1.96635647e+01]]\n",
            "\n",
            "  [[1.60020477e+02 8.60204697e+01 1.23061171e+01]\n",
            "   [1.67556107e+02 9.35560989e+01 1.98417454e+01]\n",
            "   [1.64653320e+02 8.85768204e+01 1.57961082e+01]\n",
            "   ...\n",
            "   [6.66784134e+01 3.18926754e+01 2.29590893e-01]\n",
            "   [7.11990891e+01 3.51990891e+01 9.34197235e+00]\n",
            "   [8.79184036e+01 5.09184074e+01 3.19184074e+01]]]\n",
            "\n",
            "\n",
            " [[[1.46428576e+01 2.06428566e+01 2.06428566e+01]\n",
            "   [1.59285717e+01 2.19285717e+01 2.19285717e+01]\n",
            "   [1.60000000e+01 2.20000000e+01 2.20000000e+01]\n",
            "   ...\n",
            "   [6.78573608e+00 1.07857361e+01 1.17857361e+01]\n",
            "   [6.31121588e+00 1.03112164e+01 1.11683331e+01]\n",
            "   [3.71425080e+00 7.71425056e+00 6.71425056e+00]]\n",
            "\n",
            "  [[1.40000000e+01 2.00000000e+01 2.00000000e+01]\n",
            "   [1.58622456e+01 2.18622456e+01 2.18622456e+01]\n",
            "   [1.57295914e+01 2.17295914e+01 2.17295914e+01]\n",
            "   ...\n",
            "   [5.44391966e+00 9.44392014e+00 1.04439201e+01]\n",
            "   [6.99491024e+00 1.09949102e+01 1.18520269e+01]\n",
            "   [6.90305901e+00 1.09030590e+01 9.90305901e+00]]\n",
            "\n",
            "  [[1.40000000e+01 2.00000000e+01 2.00000000e+01]\n",
            "   [1.50000000e+01 2.10000000e+01 2.10000000e+01]\n",
            "   [1.50000000e+01 2.10000000e+01 2.10000000e+01]\n",
            "   ...\n",
            "   [4.57145023e+00 8.57145023e+00 9.57145023e+00]\n",
            "   [5.21428585e+00 9.21428585e+00 1.00714025e+01]\n",
            "   [4.35203362e+00 8.35203362e+00 7.35203362e+00]]\n",
            "\n",
            "  ...\n",
            "\n",
            "  [[1.25153145e+02 1.19938850e+02 9.87959747e+01]\n",
            "   [1.15127632e+02 1.08969452e+02 9.23571930e+01]\n",
            "   [1.29709351e+02 1.24326691e+02 1.05020561e+02]\n",
            "   ...\n",
            "   [1.19550964e+02 1.33045914e+02 1.35877563e+02]\n",
            "   [1.17658134e+02 1.31928558e+02 1.35469406e+02]\n",
            "   [1.16000000e+02 1.31000000e+02 1.36428589e+02]]\n",
            "\n",
            "  [[1.30928543e+02 1.24928535e+02 1.02214249e+02]\n",
            "   [1.25591904e+02 1.18591904e+02 9.96582184e+01]\n",
            "   [1.57214508e+02 1.50428802e+02 1.30785950e+02]\n",
            "   ...\n",
            "   [1.19015305e+02 1.32086716e+02 1.37872482e+02]\n",
            "   [1.16066307e+02 1.31066315e+02 1.37923492e+02]\n",
            "   [1.13214233e+02 1.30071411e+02 1.37071411e+02]]\n",
            "\n",
            "  [[1.14699013e+02 1.09826561e+02 8.74439087e+01]\n",
            "   [1.23244904e+02 1.18244904e+02 9.91734772e+01]\n",
            "   [1.62295914e+02 1.57295914e+02 1.36867340e+02]\n",
            "   ...\n",
            "   [1.17153046e+02 1.32000000e+02 1.38923477e+02]\n",
            "   [1.15785675e+02 1.30928558e+02 1.38000000e+02]\n",
            "   [1.12770386e+02 1.29770386e+02 1.37770386e+02]]]\n",
            "\n",
            "\n",
            " [[[2.55000000e+02 2.52515305e+02 2.28586731e+02]\n",
            "   [2.55000000e+02 2.53617340e+02 2.29357147e+02]\n",
            "   [2.55000000e+02 2.53000000e+02 2.28714279e+02]\n",
            "   ...\n",
            "   [3.58572311e+01 3.57142866e-01 7.21940184e+00]\n",
            "   [4.07601585e+01 1.97448516e+00 6.90304327e+00]\n",
            "   [3.43417435e+01 0.00000000e+00 1.05606508e+00]]\n",
            "\n",
            "  [[2.52928574e+02 2.50948975e+02 2.30045914e+02]\n",
            "   [2.54790817e+02 2.52852051e+02 2.31928574e+02]\n",
            "   [2.54000000e+02 2.53000000e+02 2.32214279e+02]\n",
            "   ...\n",
            "   [3.91276398e+01 4.55616760e+00 1.07704315e+01]\n",
            "   [4.09387512e+01 4.93875122e+00 8.93875122e+00]\n",
            "   [3.65968704e+01 2.59687138e+00 3.59687138e+00]]\n",
            "\n",
            "  [[2.50709183e+02 2.50566330e+02 2.32214279e+02]\n",
            "   [2.51484695e+02 2.51913269e+02 2.33500000e+02]\n",
            "   [2.52765305e+02 2.52831635e+02 2.36571426e+02]\n",
            "   ...\n",
            "   [3.81429672e+01 3.57149410e+00 9.78575802e+00]\n",
            "   [4.11581535e+01 5.15815306e+00 9.04588795e+00]\n",
            "   [3.95764694e+01 6.13774776e+00 7.13774776e+00]]\n",
            "\n",
            "  ...\n",
            "\n",
            "  [[1.33311234e+02 8.50204163e+01 8.12500153e+01]\n",
            "   [1.33321426e+02 8.58928375e+01 7.82499847e+01]\n",
            "   [1.39168396e+02 9.27397995e+01 7.95255203e+01]\n",
            "   ...\n",
            "   [7.13366699e+01 3.53366661e+01 2.28163071e+01]\n",
            "   [6.11989555e+01 2.84132786e+01 1.94847202e+01]\n",
            "   [5.77857666e+01 2.88623085e+01 2.48623085e+01]]\n",
            "\n",
            "  [[1.36438812e+02 8.70816650e+01 8.41530914e+01]\n",
            "   [1.32397949e+02 8.33979492e+01 7.66071320e+01]\n",
            "   [1.37642792e+02 8.96427841e+01 7.72142181e+01]\n",
            "   ...\n",
            "   [6.68978348e+01 3.32856750e+01 1.76428528e+01]\n",
            "   [5.89998779e+01 2.88672905e+01 1.90764828e+01]\n",
            "   [5.50459061e+01 2.70000000e+01 2.30000000e+01]]\n",
            "\n",
            "  [[1.32102066e+02 8.27449188e+01 7.98163452e+01]\n",
            "   [1.32219391e+02 8.32193832e+01 7.64336700e+01]\n",
            "   [1.28214310e+02 8.00000153e+01 6.65612488e+01]\n",
            "   ...\n",
            "   [6.55765533e+01 3.35867805e+01 1.62143860e+01]\n",
            "   [6.37856140e+01 3.39489098e+01 2.40458660e+01]\n",
            "   [5.73724365e+01 3.04439678e+01 2.60867901e+01]]]], shape=(32, 224, 224, 3), dtype=float32) tf.Tensor(\n",
            "[[0. 0. 0. 0. 0. 0. 1. 0. 0. 0.]\n",
            " [1. 0. 0. 0. 0. 0. 0. 0. 0. 0.]\n",
            " [0. 0. 0. 1. 0. 0. 0. 0. 0. 0.]\n",
            " [0. 1. 0. 0. 0. 0. 0. 0. 0. 0.]\n",
            " [0. 0. 0. 0. 0. 0. 0. 1. 0. 0.]\n",
            " [1. 0. 0. 0. 0. 0. 0. 0. 0. 0.]\n",
            " [0. 0. 0. 0. 0. 1. 0. 0. 0. 0.]\n",
            " [0. 0. 0. 0. 1. 0. 0. 0. 0. 0.]\n",
            " [0. 0. 0. 0. 1. 0. 0. 0. 0. 0.]\n",
            " [0. 0. 0. 0. 0. 0. 0. 1. 0. 0.]\n",
            " [0. 0. 1. 0. 0. 0. 0. 0. 0. 0.]\n",
            " [0. 1. 0. 0. 0. 0. 0. 0. 0. 0.]\n",
            " [0. 0. 0. 1. 0. 0. 0. 0. 0. 0.]\n",
            " [0. 0. 0. 0. 0. 0. 0. 0. 0. 1.]\n",
            " [0. 0. 0. 0. 0. 0. 0. 0. 0. 1.]\n",
            " [0. 0. 0. 0. 0. 0. 0. 1. 0. 0.]\n",
            " [0. 0. 0. 0. 0. 0. 0. 0. 0. 1.]\n",
            " [0. 0. 0. 0. 0. 0. 0. 0. 1. 0.]\n",
            " [0. 0. 1. 0. 0. 0. 0. 0. 0. 0.]\n",
            " [0. 0. 0. 0. 0. 0. 0. 1. 0. 0.]\n",
            " [0. 0. 1. 0. 0. 0. 0. 0. 0. 0.]\n",
            " [0. 0. 0. 0. 0. 0. 0. 1. 0. 0.]\n",
            " [0. 0. 0. 0. 0. 0. 0. 0. 1. 0.]\n",
            " [0. 0. 0. 0. 0. 0. 0. 0. 1. 0.]\n",
            " [0. 0. 0. 0. 0. 0. 1. 0. 0. 0.]\n",
            " [0. 0. 0. 0. 0. 0. 0. 1. 0. 0.]\n",
            " [1. 0. 0. 0. 0. 0. 0. 0. 0. 0.]\n",
            " [1. 0. 0. 0. 0. 0. 0. 0. 0. 0.]\n",
            " [0. 0. 0. 0. 0. 0. 0. 1. 0. 0.]\n",
            " [0. 1. 0. 0. 0. 0. 0. 0. 0. 0.]\n",
            " [0. 0. 0. 1. 0. 0. 0. 0. 0. 0.]\n",
            " [0. 0. 0. 0. 0. 0. 0. 1. 0. 0.]], shape=(32, 10), dtype=float32)\n"
          ]
        }
      ],
      "source": [
        "# See an example batch of data\n",
        "for images, labels in train_data_10_percent.take(1):\n",
        "  print(images, labels)"
      ]
    },
    {
      "cell_type": "markdown",
      "metadata": {
        "id": "cWmO7vv1PKka"
      },
      "source": [
        "Image arrays come out as tensors of pixel values where as the labels come out as one-hot encodings."
      ]
    },
    {
      "cell_type": "markdown",
      "metadata": {
        "id": "pKbfEgiLPebN"
      },
      "source": [
        "## Model 0. Building a transfer learning model using the Keras Functional API\n",
        "\n",
        "Alight, our data is tensor-ified, let's build a model.\n",
        "\n",
        "To do so, we're going to be using the `tf.keras.applications` module as it contains a series of already trained (on ImageNet) computer vision models as well as the Keras Functional API to construct our model.\n",
        "\n",
        "We're going to go through the following steps:\n",
        "\n",
        "1. Instantiate the pretrained model object by choosing a target model such as `EfficientNetB0` from `tf.keras.applications`, setting the `include_top` to `False` (we do this because we're going to create our own top, which are the output layers for the model).\n",
        "2. Set the base model's `trainable` attribute to `False` to freeze all of the weights in the pre-trained model.\n",
        "3. Define an input layer for our model, for example, what shape of data should our model expect ?\n",
        "4. [Optional] Normalize the inputs to our model if it requires. Some of comp vis models such as `ResNetV250` require their inputs to be between 0 & 1."
      ]
    },
    {
      "cell_type": "code",
      "execution_count": null,
      "metadata": {
        "colab": {
          "base_uri": "https://localhost:8080/"
        },
        "id": "DE9axB3KSmMj",
        "outputId": "75d27783-ac8b-4688-fcbd-2bf895f7f458"
      },
      "outputs": [
        {
          "name": "stdout",
          "output_type": "stream",
          "text": [
            "Downloading data from https://storage.googleapis.com/keras-applications/efficientnetb0_notop.h5\n",
            "16705208/16705208 [==============================] - 2s 0us/step\n",
            "Shape after base_model: (None, 7, 7, 1280)\n",
            "After Global Average Pooling 2D:(None, 1280)\n",
            "Saving Tensorboard log files to: transfer_learning/10_percent_feature_extraction/20230102-050513\n",
            "Epoch 1/5\n",
            "24/24 [==============================] - 30s 634ms/step - loss: 1.8327 - accuracy: 0.4133 - val_loss: 1.2662 - val_accuracy: 0.7220\n",
            "Epoch 2/5\n",
            "24/24 [==============================] - 10s 388ms/step - loss: 1.0664 - accuracy: 0.7640 - val_loss: 0.8576 - val_accuracy: 0.8168\n",
            "Epoch 3/5\n",
            "24/24 [==============================] - 9s 370ms/step - loss: 0.7760 - accuracy: 0.8200 - val_loss: 0.6900 - val_accuracy: 0.8344\n",
            "Epoch 4/5\n",
            "24/24 [==============================] - 8s 325ms/step - loss: 0.6303 - accuracy: 0.8573 - val_loss: 0.6037 - val_accuracy: 0.8540\n",
            "Epoch 5/5\n",
            "24/24 [==============================] - 9s 354ms/step - loss: 0.5402 - accuracy: 0.8773 - val_loss: 0.5493 - val_accuracy: 0.8620\n"
          ]
        }
      ],
      "source": [
        "# 1. Create a base model with tf.keras.applications\n",
        "base_model = tf.keras.applications.EfficientNetB0(include_top=False)\n",
        "\n",
        "# 2. Freeze the base model (so the pre-trained weights remain same)\n",
        "base_model.trainable = False\n",
        "\n",
        "# 3. Create the inputs into the base model\n",
        "inputs = tf.keras.layers.Input(shape=(224, 224, 3), name='input_layer')\n",
        "\n",
        "# 4. If using ResNet50V2, add this to speed up convergence, remove for EfficientNet\n",
        "# x = tf.keras.layers.experimental.preprocessing.Rescaling(1/255.)(inputs)\n",
        "\n",
        "# 5. Pass the inputs to our base model\n",
        "x = base_model(inputs)\n",
        "# check data shape after passing into base model\n",
        "print(f'Shape after base_model: {x.shape}')\n",
        "\n",
        "# 6. Average pool the outputs of the base model (aggregate all the most important information, reduce number of computation)\n",
        "x = tf.keras.layers.GlobalAveragePooling2D(name='global_average_pooling_layer')(x)\n",
        "print(f'After Global Average Pooling 2D:{x.shape}')\n",
        "\n",
        "# 7. Create the output activation layer\n",
        "outputs = tf.keras.layers.Dense(10, activation='softmax', name='output_layer')(x)\n",
        "\n",
        "# 8. Combine the inputs and outputs into our model\n",
        "model_0 = tf.keras.Model(inputs, outputs)\n",
        "\n",
        "# 9. Compile the model\n",
        "model_0.compile(loss=tf.keras.losses.CategoricalCrossentropy(),\n",
        "                optimizer='Adam',\n",
        "                metrics=['accuracy'])\n",
        "\n",
        "# 10. Fit the model\n",
        "history_0 = model_0.fit(train_data_10_percent,\n",
        "                        epochs=5,\n",
        "                        steps_per_epoch=len(train_data_10_percent),\n",
        "                        validation_data=test_data_10_percent,\n",
        "                        validation_steps=len(test_data_10_percent),\n",
        "                        callbacks=[create_tensorboard_callback('transfer_learning',\n",
        "                                                               '10_percent_feature_extraction')])"
      ]
    },
    {
      "cell_type": "markdown",
      "metadata": {
        "id": "FCD2j9LLgHPA"
      },
      "source": [
        "Alright, we get 88% Training accuracy and 86% Validation accuracy. Not Bad !"
      ]
    },
    {
      "cell_type": "markdown",
      "metadata": {
        "id": "gpv6gLdrgOXx"
      },
      "source": [
        "Next would be to plot the loss curves using Helper Function,"
      ]
    },
    {
      "cell_type": "code",
      "execution_count": null,
      "metadata": {
        "colab": {
          "base_uri": "https://localhost:8080/",
          "height": 545
        },
        "id": "l9KBU76wUWNb",
        "outputId": "4a814b76-319b-4d2e-d405-f15033427a31"
      },
      "outputs": [
        {
          "data": {
            "image/png": "[encoded data removed]",
            "text/plain": [
              "<Figure size 432x288 with 1 Axes>"
            ]
          },
          "metadata": {
            "needs_background": "light"
          },
          "output_type": "display_data"
        },
        {
          "data": {
            "image/png": "[encoded data removed]",
            "text/plain": [
              "<Figure size 432x288 with 1 Axes>"
            ]
          },
          "metadata": {
            "needs_background": "light"
          },
          "output_type": "display_data"
        }
      ],
      "source": [
        "# plotting the loss and accuracy curves\n",
        "plot_loss_curves(history_0)"
      ]
    },
    {
      "cell_type": "markdown",
      "metadata": {
        "id": "vyUrqv6PUpTk"
      },
      "source": [
        "It looks like if we increase the number of `epochs` or leave our model to train little longer we might achieve more decrease in loss since it's continously decreasing which is good sign, and vice-versa for accuracy, accuracy curve is almost touching 0.9"
      ]
    },
    {
      "cell_type": "markdown",
      "metadata": {
        "id": "m-o2W5fYVDn-"
      },
      "source": [
        "It's important to note the kind of transfer learning we used here is feature extraction transfer learning, similar to what we did with the TensorFlow Hub models.\n",
        "\n",
        "In other words, we passed our custom data to an already pre-trained model (`EfficientNetB0`), asked it \"What patterns do you see?\" and then put our own output layer on top to make sure the outputs were tailored to our desired number of clases.\n",
        "\n",
        "\n",
        "We have also used the Keras Functional API to build our model rather than Sequential API. For now, the benefits of this may not seem clear but when start building more sophistictaed modesl, you'll probably want to use the Functional API. So it's important to get familiar now.\n",
        "\n",
        "> 💡 **What I assume** : *If we use **Functional API** for transfer learning models, due to it's flexibility we can alter anything according to our own problem which I guess would be helpful in fine-tuning*.\n",
        "\n",
        "\n",
        "Let's inspect the model layers, we'll start with the base."
      ]
    },
    {
      "cell_type": "code",
      "execution_count": null,
      "metadata": {
        "colab": {
          "base_uri": "https://localhost:8080/"
        },
        "id": "Z1S4pZcwWFL7",
        "outputId": "f54b9259-1ba5-4a2e-cb7f-3ad3daee1268"
      },
      "outputs": [
        {
          "name": "stdout",
          "output_type": "stream",
          "text": [
            "0 input_1\n",
            "1 rescaling\n",
            "2 normalization\n",
            "3 tf.math.truediv\n",
            "4 stem_conv_pad\n",
            "5 stem_conv\n",
            "6 stem_bn\n",
            "7 stem_activation\n",
            "8 block1a_dwconv\n",
            "9 block1a_bn\n",
            "10 block1a_activation\n",
            "11 block1a_se_squeeze\n",
            "12 block1a_se_reshape\n",
            "13 block1a_se_reduce\n",
            "14 block1a_se_expand\n",
            "15 block1a_se_excite\n",
            "16 block1a_project_conv\n",
            "17 block1a_project_bn\n",
            "18 block2a_expand_conv\n",
            "19 block2a_expand_bn\n",
            "20 block2a_expand_activation\n",
            "21 block2a_dwconv_pad\n",
            "22 block2a_dwconv\n",
            "23 block2a_bn\n",
            "24 block2a_activation\n",
            "25 block2a_se_squeeze\n",
            "26 block2a_se_reshape\n",
            "27 block2a_se_reduce\n",
            "28 block2a_se_expand\n",
            "29 block2a_se_excite\n",
            "30 block2a_project_conv\n",
            "31 block2a_project_bn\n",
            "32 block2b_expand_conv\n",
            "33 block2b_expand_bn\n",
            "34 block2b_expand_activation\n",
            "35 block2b_dwconv\n",
            "36 block2b_bn\n",
            "37 block2b_activation\n",
            "38 block2b_se_squeeze\n",
            "39 block2b_se_reshape\n",
            "40 block2b_se_reduce\n",
            "41 block2b_se_expand\n",
            "42 block2b_se_excite\n",
            "43 block2b_project_conv\n",
            "44 block2b_project_bn\n",
            "45 block2b_drop\n",
            "46 block2b_add\n",
            "47 block3a_expand_conv\n",
            "48 block3a_expand_bn\n",
            "49 block3a_expand_activation\n",
            "50 block3a_dwconv_pad\n",
            "51 block3a_dwconv\n",
            "52 block3a_bn\n",
            "53 block3a_activation\n",
            "54 block3a_se_squeeze\n",
            "55 block3a_se_reshape\n",
            "56 block3a_se_reduce\n",
            "57 block3a_se_expand\n",
            "58 block3a_se_excite\n",
            "59 block3a_project_conv\n",
            "60 block3a_project_bn\n",
            "61 block3b_expand_conv\n",
            "62 block3b_expand_bn\n",
            "63 block3b_expand_activation\n",
            "64 block3b_dwconv\n",
            "65 block3b_bn\n",
            "66 block3b_activation\n",
            "67 block3b_se_squeeze\n",
            "68 block3b_se_reshape\n",
            "69 block3b_se_reduce\n",
            "70 block3b_se_expand\n",
            "71 block3b_se_excite\n",
            "72 block3b_project_conv\n",
            "73 block3b_project_bn\n",
            "74 block3b_drop\n",
            "75 block3b_add\n",
            "76 block4a_expand_conv\n",
            "77 block4a_expand_bn\n",
            "78 block4a_expand_activation\n",
            "79 block4a_dwconv_pad\n",
            "80 block4a_dwconv\n",
            "81 block4a_bn\n",
            "82 block4a_activation\n",
            "83 block4a_se_squeeze\n",
            "84 block4a_se_reshape\n",
            "85 block4a_se_reduce\n",
            "86 block4a_se_expand\n",
            "87 block4a_se_excite\n",
            "88 block4a_project_conv\n",
            "89 block4a_project_bn\n",
            "90 block4b_expand_conv\n",
            "91 block4b_expand_bn\n",
            "92 block4b_expand_activation\n",
            "93 block4b_dwconv\n",
            "94 block4b_bn\n",
            "95 block4b_activation\n",
            "96 block4b_se_squeeze\n",
            "97 block4b_se_reshape\n",
            "98 block4b_se_reduce\n",
            "99 block4b_se_expand\n",
            "100 block4b_se_excite\n",
            "101 block4b_project_conv\n",
            "102 block4b_project_bn\n",
            "103 block4b_drop\n",
            "104 block4b_add\n",
            "105 block4c_expand_conv\n",
            "106 block4c_expand_bn\n",
            "107 block4c_expand_activation\n",
            "108 block4c_dwconv\n",
            "109 block4c_bn\n",
            "110 block4c_activation\n",
            "111 block4c_se_squeeze\n",
            "112 block4c_se_reshape\n",
            "113 block4c_se_reduce\n",
            "114 block4c_se_expand\n",
            "115 block4c_se_excite\n",
            "116 block4c_project_conv\n",
            "117 block4c_project_bn\n",
            "118 block4c_drop\n",
            "119 block4c_add\n",
            "120 block5a_expand_conv\n",
            "121 block5a_expand_bn\n",
            "122 block5a_expand_activation\n",
            "123 block5a_dwconv\n",
            "124 block5a_bn\n",
            "125 block5a_activation\n",
            "126 block5a_se_squeeze\n",
            "127 block5a_se_reshape\n",
            "128 block5a_se_reduce\n",
            "129 block5a_se_expand\n",
            "130 block5a_se_excite\n",
            "131 block5a_project_conv\n",
            "132 block5a_project_bn\n",
            "133 block5b_expand_conv\n",
            "134 block5b_expand_bn\n",
            "135 block5b_expand_activation\n",
            "136 block5b_dwconv\n",
            "137 block5b_bn\n",
            "138 block5b_activation\n",
            "139 block5b_se_squeeze\n",
            "140 block5b_se_reshape\n",
            "141 block5b_se_reduce\n",
            "142 block5b_se_expand\n",
            "143 block5b_se_excite\n",
            "144 block5b_project_conv\n",
            "145 block5b_project_bn\n",
            "146 block5b_drop\n",
            "147 block5b_add\n",
            "148 block5c_expand_conv\n",
            "149 block5c_expand_bn\n",
            "150 block5c_expand_activation\n",
            "151 block5c_dwconv\n",
            "152 block5c_bn\n",
            "153 block5c_activation\n",
            "154 block5c_se_squeeze\n",
            "155 block5c_se_reshape\n",
            "156 block5c_se_reduce\n",
            "157 block5c_se_expand\n",
            "158 block5c_se_excite\n",
            "159 block5c_project_conv\n",
            "160 block5c_project_bn\n",
            "161 block5c_drop\n",
            "162 block5c_add\n",
            "163 block6a_expand_conv\n",
            "164 block6a_expand_bn\n",
            "165 block6a_expand_activation\n",
            "166 block6a_dwconv_pad\n",
            "167 block6a_dwconv\n",
            "168 block6a_bn\n",
            "169 block6a_activation\n",
            "170 block6a_se_squeeze\n",
            "171 block6a_se_reshape\n",
            "172 block6a_se_reduce\n",
            "173 block6a_se_expand\n",
            "174 block6a_se_excite\n",
            "175 block6a_project_conv\n",
            "176 block6a_project_bn\n",
            "177 block6b_expand_conv\n",
            "178 block6b_expand_bn\n",
            "179 block6b_expand_activation\n",
            "180 block6b_dwconv\n",
            "181 block6b_bn\n",
            "182 block6b_activation\n",
            "183 block6b_se_squeeze\n",
            "184 block6b_se_reshape\n",
            "185 block6b_se_reduce\n",
            "186 block6b_se_expand\n",
            "187 block6b_se_excite\n",
            "188 block6b_project_conv\n",
            "189 block6b_project_bn\n",
            "190 block6b_drop\n",
            "191 block6b_add\n",
            "192 block6c_expand_conv\n",
            "193 block6c_expand_bn\n",
            "194 block6c_expand_activation\n",
            "195 block6c_dwconv\n",
            "196 block6c_bn\n",
            "197 block6c_activation\n",
            "198 block6c_se_squeeze\n",
            "199 block6c_se_reshape\n",
            "200 block6c_se_reduce\n",
            "201 block6c_se_expand\n",
            "202 block6c_se_excite\n",
            "203 block6c_project_conv\n",
            "204 block6c_project_bn\n",
            "205 block6c_drop\n",
            "206 block6c_add\n",
            "207 block6d_expand_conv\n",
            "208 block6d_expand_bn\n",
            "209 block6d_expand_activation\n",
            "210 block6d_dwconv\n",
            "211 block6d_bn\n",
            "212 block6d_activation\n",
            "213 block6d_se_squeeze\n",
            "214 block6d_se_reshape\n",
            "215 block6d_se_reduce\n",
            "216 block6d_se_expand\n",
            "217 block6d_se_excite\n",
            "218 block6d_project_conv\n",
            "219 block6d_project_bn\n",
            "220 block6d_drop\n",
            "221 block6d_add\n",
            "222 block7a_expand_conv\n",
            "223 block7a_expand_bn\n",
            "224 block7a_expand_activation\n",
            "225 block7a_dwconv\n",
            "226 block7a_bn\n",
            "227 block7a_activation\n",
            "228 block7a_se_squeeze\n",
            "229 block7a_se_reshape\n",
            "230 block7a_se_reduce\n",
            "231 block7a_se_expand\n",
            "232 block7a_se_excite\n",
            "233 block7a_project_conv\n",
            "234 block7a_project_bn\n",
            "235 top_conv\n",
            "236 top_bn\n",
            "237 top_activation\n"
          ]
        }
      ],
      "source": [
        "# check the layers in our base_model\n",
        "for layer_number, layer in enumerate(base_model.layers):\n",
        "  print(layer_number, layer.name)"
      ]
    },
    {
      "cell_type": "markdown",
      "metadata": {
        "id": "4rSnk42RWL5Z"
      },
      "source": [
        "So these are the list of layers that are used in the pre-trained `base_model`.\n",
        "These are hand-coded by the creators of these model adding each layer manually and tested on `ImageNet` dataset. But transfer-learning makes it available for us to use this in our own dataset.\n",
        "\n",
        "\n",
        "How about the summary of the `base_model`?"
      ]
    },
    {
      "cell_type": "code",
      "execution_count": null,
      "metadata": {
        "colab": {
          "base_uri": "https://localhost:8080/"
        },
        "id": "zMCx0u98XfIJ",
        "outputId": "8a92b94e-ba70-45d3-cbd2-9eb02899f1d4"
      },
      "outputs": [
        {
          "name": "stdout",
          "output_type": "stream",
          "text": [
            "Model: \"efficientnetb0\"\n",
            "__________________________________________________________________________________________________\n",
            " Layer (type)                   Output Shape         Param #     Connected to                     \n",
            "==================================================================================================\n",
            " input_1 (InputLayer)           [(None, None, None,  0           []                               \n",
            "                                 3)]                                                              \n",
            "                                                                                                  \n",
            " rescaling (Rescaling)          (None, None, None,   0           ['input_1[0][0]']                \n",
            "                                3)                                                                \n",
            "                                                                                                  \n",
            " normalization (Normalization)  (None, None, None,   7           ['rescaling[0][0]']              \n",
            "                                3)                                                                \n",
            "                                                                                                  \n",
            " tf.math.truediv (TFOpLambda)   (None, None, None,   0           ['normalization[0][0]']          \n",
            "                                3)                                                                \n",
            "                                                                                                  \n",
            " stem_conv_pad (ZeroPadding2D)  (None, None, None,   0           ['tf.math.truediv[0][0]']        \n",
            "                                3)                                                                \n",
            "                                                                                                  \n",
            " stem_conv (Conv2D)             (None, None, None,   864         ['stem_conv_pad[0][0]']          \n",
            "                                32)                                                               \n",
            "                                                                                                  \n",
            " stem_bn (BatchNormalization)   (None, None, None,   128         ['stem_conv[0][0]']              \n",
            "                                32)                                                               \n",
            "                                                                                                  \n",
            " stem_activation (Activation)   (None, None, None,   0           ['stem_bn[0][0]']                \n",
            "                                32)                                                               \n",
            "                                                                                                  \n",
            " block1a_dwconv (DepthwiseConv2  (None, None, None,   288        ['stem_activation[0][0]']        \n",
            " D)                             32)                                                               \n",
            "                                                                                                  \n",
            " block1a_bn (BatchNormalization  (None, None, None,   128        ['block1a_dwconv[0][0]']         \n",
            " )                              32)                                                               \n",
            "                                                                                                  \n",
            " block1a_activation (Activation  (None, None, None,   0          ['block1a_bn[0][0]']             \n",
            " )                              32)                                                               \n",
            "                                                                                                  \n",
            " block1a_se_squeeze (GlobalAver  (None, 32)          0           ['block1a_activation[0][0]']     \n",
            " agePooling2D)                                                                                    \n",
            "                                                                                                  \n",
            " block1a_se_reshape (Reshape)   (None, 1, 1, 32)     0           ['block1a_se_squeeze[0][0]']     \n",
            "                                                                                                  \n",
            " block1a_se_reduce (Conv2D)     (None, 1, 1, 8)      264         ['block1a_se_reshape[0][0]']     \n",
            "                                                                                                  \n",
            " block1a_se_expand (Conv2D)     (None, 1, 1, 32)     288         ['block1a_se_reduce[0][0]']      \n",
            "                                                                                                  \n",
            " block1a_se_excite (Multiply)   (None, None, None,   0           ['block1a_activation[0][0]',     \n",
            "                                32)                               'block1a_se_expand[0][0]']      \n",
            "                                                                                                  \n",
            " block1a_project_conv (Conv2D)  (None, None, None,   512         ['block1a_se_excite[0][0]']      \n",
            "                                16)                                                               \n",
            "                                                                                                  \n",
            " block1a_project_bn (BatchNorma  (None, None, None,   64         ['block1a_project_conv[0][0]']   \n",
            " lization)                      16)                                                               \n",
            "                                                                                                  \n",
            " block2a_expand_conv (Conv2D)   (None, None, None,   1536        ['block1a_project_bn[0][0]']     \n",
            "                                96)                                                               \n",
            "                                                                                                  \n",
            " block2a_expand_bn (BatchNormal  (None, None, None,   384        ['block2a_expand_conv[0][0]']    \n",
            " ization)                       96)                                                               \n",
            "                                                                                                  \n",
            " block2a_expand_activation (Act  (None, None, None,   0          ['block2a_expand_bn[0][0]']      \n",
            " ivation)                       96)                                                               \n",
            "                                                                                                  \n",
            " block2a_dwconv_pad (ZeroPaddin  (None, None, None,   0          ['block2a_expand_activation[0][0]\n",
            " g2D)                           96)                              ']                               \n",
            "                                                                                                  \n",
            " block2a_dwconv (DepthwiseConv2  (None, None, None,   864        ['block2a_dwconv_pad[0][0]']     \n",
            " D)                             96)                                                               \n",
            "                                                                                                  \n",
            " block2a_bn (BatchNormalization  (None, None, None,   384        ['block2a_dwconv[0][0]']         \n",
            " )                              96)                                                               \n",
            "                                                                                                  \n",
            " block2a_activation (Activation  (None, None, None,   0          ['block2a_bn[0][0]']             \n",
            " )                              96)                                                               \n",
            "                                                                                                  \n",
            " block2a_se_squeeze (GlobalAver  (None, 96)          0           ['block2a_activation[0][0]']     \n",
            " agePooling2D)                                                                                    \n",
            "                                                                                                  \n",
            " block2a_se_reshape (Reshape)   (None, 1, 1, 96)     0           ['block2a_se_squeeze[0][0]']     \n",
            "                                                                                                  \n",
            " block2a_se_reduce (Conv2D)     (None, 1, 1, 4)      388         ['block2a_se_reshape[0][0]']     \n",
            "                                                                                                  \n",
            " block2a_se_expand (Conv2D)     (None, 1, 1, 96)     480         ['block2a_se_reduce[0][0]']      \n",
            "                                                                                                  \n",
            " block2a_se_excite (Multiply)   (None, None, None,   0           ['block2a_activation[0][0]',     \n",
            "                                96)                               'block2a_se_expand[0][0]']      \n",
            "                                                                                                  \n",
            " block2a_project_conv (Conv2D)  (None, None, None,   2304        ['block2a_se_excite[0][0]']      \n",
            "                                24)                                                               \n",
            "                                                                                                  \n",
            " block2a_project_bn (BatchNorma  (None, None, None,   96         ['block2a_project_conv[0][0]']   \n",
            " lization)                      24)                                                               \n",
            "                                                                                                  \n",
            " block2b_expand_conv (Conv2D)   (None, None, None,   3456        ['block2a_project_bn[0][0]']     \n",
            "                                144)                                                              \n",
            "                                                                                                  \n",
            " block2b_expand_bn (BatchNormal  (None, None, None,   576        ['block2b_expand_conv[0][0]']    \n",
            " ization)                       144)                                                              \n",
            "                                                                                                  \n",
            " block2b_expand_activation (Act  (None, None, None,   0          ['block2b_expand_bn[0][0]']      \n",
            " ivation)                       144)                                                              \n",
            "                                                                                                  \n",
            " block2b_dwconv (DepthwiseConv2  (None, None, None,   1296       ['block2b_expand_activation[0][0]\n",
            " D)                             144)                             ']                               \n",
            "                                                                                                  \n",
            " block2b_bn (BatchNormalization  (None, None, None,   576        ['block2b_dwconv[0][0]']         \n",
            " )                              144)                                                              \n",
            "                                                                                                  \n",
            " block2b_activation (Activation  (None, None, None,   0          ['block2b_bn[0][0]']             \n",
            " )                              144)                                                              \n",
            "                                                                                                  \n",
            " block2b_se_squeeze (GlobalAver  (None, 144)         0           ['block2b_activation[0][0]']     \n",
            " agePooling2D)                                                                                    \n",
            "                                                                                                  \n",
            " block2b_se_reshape (Reshape)   (None, 1, 1, 144)    0           ['block2b_se_squeeze[0][0]']     \n",
            "                                                                                                  \n",
            " block2b_se_reduce (Conv2D)     (None, 1, 1, 6)      870         ['block2b_se_reshape[0][0]']     \n",
            "                                                                                                  \n",
            " block2b_se_expand (Conv2D)     (None, 1, 1, 144)    1008        ['block2b_se_reduce[0][0]']      \n",
            "                                                                                                  \n",
            " block2b_se_excite (Multiply)   (None, None, None,   0           ['block2b_activation[0][0]',     \n",
            "                                144)                              'block2b_se_expand[0][0]']      \n",
            "                                                                                                  \n",
            " block2b_project_conv (Conv2D)  (None, None, None,   3456        ['block2b_se_excite[0][0]']      \n",
            "                                24)                                                               \n",
            "                                                                                                  \n",
            " block2b_project_bn (BatchNorma  (None, None, None,   96         ['block2b_project_conv[0][0]']   \n",
            " lization)                      24)                                                               \n",
            "                                                                                                  \n",
            " block2b_drop (Dropout)         (None, None, None,   0           ['block2b_project_bn[0][0]']     \n",
            "                                24)                                                               \n",
            "                                                                                                  \n",
            " block2b_add (Add)              (None, None, None,   0           ['block2b_drop[0][0]',           \n",
            "                                24)                               'block2a_project_bn[0][0]']     \n",
            "                                                                                                  \n",
            " block3a_expand_conv (Conv2D)   (None, None, None,   3456        ['block2b_add[0][0]']            \n",
            "                                144)                                                              \n",
            "                                                                                                  \n",
            " block3a_expand_bn (BatchNormal  (None, None, None,   576        ['block3a_expand_conv[0][0]']    \n",
            " ization)                       144)                                                              \n",
            "                                                                                                  \n",
            " block3a_expand_activation (Act  (None, None, None,   0          ['block3a_expand_bn[0][0]']      \n",
            " ivation)                       144)                                                              \n",
            "                                                                                                  \n",
            " block3a_dwconv_pad (ZeroPaddin  (None, None, None,   0          ['block3a_expand_activation[0][0]\n",
            " g2D)                           144)                             ']                               \n",
            "                                                                                                  \n",
            " block3a_dwconv (DepthwiseConv2  (None, None, None,   3600       ['block3a_dwconv_pad[0][0]']     \n",
            " D)                             144)                                                              \n",
            "                                                                                                  \n",
            " block3a_bn (BatchNormalization  (None, None, None,   576        ['block3a_dwconv[0][0]']         \n",
            " )                              144)                                                              \n",
            "                                                                                                  \n",
            " block3a_activation (Activation  (None, None, None,   0          ['block3a_bn[0][0]']             \n",
            " )                              144)                                                              \n",
            "                                                                                                  \n",
            " block3a_se_squeeze (GlobalAver  (None, 144)         0           ['block3a_activation[0][0]']     \n",
            " agePooling2D)                                                                                    \n",
            "                                                                                                  \n",
            " block3a_se_reshape (Reshape)   (None, 1, 1, 144)    0           ['block3a_se_squeeze[0][0]']     \n",
            "                                                                                                  \n",
            " block3a_se_reduce (Conv2D)     (None, 1, 1, 6)      870         ['block3a_se_reshape[0][0]']     \n",
            "                                                                                                  \n",
            " block3a_se_expand (Conv2D)     (None, 1, 1, 144)    1008        ['block3a_se_reduce[0][0]']      \n",
            "                                                                                                  \n",
            " block3a_se_excite (Multiply)   (None, None, None,   0           ['block3a_activation[0][0]',     \n",
            "                                144)                              'block3a_se_expand[0][0]']      \n",
            "                                                                                                  \n",
            " block3a_project_conv (Conv2D)  (None, None, None,   5760        ['block3a_se_excite[0][0]']      \n",
            "                                40)                                                               \n",
            "                                                                                                  \n",
            " block3a_project_bn (BatchNorma  (None, None, None,   160        ['block3a_project_conv[0][0]']   \n",
            " lization)                      40)                                                               \n",
            "                                                                                                  \n",
            " block3b_expand_conv (Conv2D)   (None, None, None,   9600        ['block3a_project_bn[0][0]']     \n",
            "                                240)                                                              \n",
            "                                                                                                  \n",
            " block3b_expand_bn (BatchNormal  (None, None, None,   960        ['block3b_expand_conv[0][0]']    \n",
            " ization)                       240)                                                              \n",
            "                                                                                                  \n",
            " block3b_expand_activation (Act  (None, None, None,   0          ['block3b_expand_bn[0][0]']      \n",
            " ivation)                       240)                                                              \n",
            "                                                                                                  \n",
            " block3b_dwconv (DepthwiseConv2  (None, None, None,   6000       ['block3b_expand_activation[0][0]\n",
            " D)                             240)                             ']                               \n",
            "                                                                                                  \n",
            " block3b_bn (BatchNormalization  (None, None, None,   960        ['block3b_dwconv[0][0]']         \n",
            " )                              240)                                                              \n",
            "                                                                                                  \n",
            " block3b_activation (Activation  (None, None, None,   0          ['block3b_bn[0][0]']             \n",
            " )                              240)                                                              \n",
            "                                                                                                  \n",
            " block3b_se_squeeze (GlobalAver  (None, 240)         0           ['block3b_activation[0][0]']     \n",
            " agePooling2D)                                                                                    \n",
            "                                                                                                  \n",
            " block3b_se_reshape (Reshape)   (None, 1, 1, 240)    0           ['block3b_se_squeeze[0][0]']     \n",
            "                                                                                                  \n",
            " block3b_se_reduce (Conv2D)     (None, 1, 1, 10)     2410        ['block3b_se_reshape[0][0]']     \n",
            "                                                                                                  \n",
            " block3b_se_expand (Conv2D)     (None, 1, 1, 240)    2640        ['block3b_se_reduce[0][0]']      \n",
            "                                                                                                  \n",
            " block3b_se_excite (Multiply)   (None, None, None,   0           ['block3b_activation[0][0]',     \n",
            "                                240)                              'block3b_se_expand[0][0]']      \n",
            "                                                                                                  \n",
            " block3b_project_conv (Conv2D)  (None, None, None,   9600        ['block3b_se_excite[0][0]']      \n",
            "                                40)                                                               \n",
            "                                                                                                  \n",
            " block3b_project_bn (BatchNorma  (None, None, None,   160        ['block3b_project_conv[0][0]']   \n",
            " lization)                      40)                                                               \n",
            "                                                                                                  \n",
            " block3b_drop (Dropout)         (None, None, None,   0           ['block3b_project_bn[0][0]']     \n",
            "                                40)                                                               \n",
            "                                                                                                  \n",
            " block3b_add (Add)              (None, None, None,   0           ['block3b_drop[0][0]',           \n",
            "                                40)                               'block3a_project_bn[0][0]']     \n",
            "                                                                                                  \n",
            " block4a_expand_conv (Conv2D)   (None, None, None,   9600        ['block3b_add[0][0]']            \n",
            "                                240)                                                              \n",
            "                                                                                                  \n",
            " block4a_expand_bn (BatchNormal  (None, None, None,   960        ['block4a_expand_conv[0][0]']    \n",
            " ization)                       240)                                                              \n",
            "                                                                                                  \n",
            " block4a_expand_activation (Act  (None, None, None,   0          ['block4a_expand_bn[0][0]']      \n",
            " ivation)                       240)                                                              \n",
            "                                                                                                  \n",
            " block4a_dwconv_pad (ZeroPaddin  (None, None, None,   0          ['block4a_expand_activation[0][0]\n",
            " g2D)                           240)                             ']                               \n",
            "                                                                                                  \n",
            " block4a_dwconv (DepthwiseConv2  (None, None, None,   2160       ['block4a_dwconv_pad[0][0]']     \n",
            " D)                             240)                                                              \n",
            "                                                                                                  \n",
            " block4a_bn (BatchNormalization  (None, None, None,   960        ['block4a_dwconv[0][0]']         \n",
            " )                              240)                                                              \n",
            "                                                                                                  \n",
            " block4a_activation (Activation  (None, None, None,   0          ['block4a_bn[0][0]']             \n",
            " )                              240)                                                              \n",
            "                                                                                                  \n",
            " block4a_se_squeeze (GlobalAver  (None, 240)         0           ['block4a_activation[0][0]']     \n",
            " agePooling2D)                                                                                    \n",
            "                                                                                                  \n",
            " block4a_se_reshape (Reshape)   (None, 1, 1, 240)    0           ['block4a_se_squeeze[0][0]']     \n",
            "                                                                                                  \n",
            " block4a_se_reduce (Conv2D)     (None, 1, 1, 10)     2410        ['block4a_se_reshape[0][0]']     \n",
            "                                                                                                  \n",
            " block4a_se_expand (Conv2D)     (None, 1, 1, 240)    2640        ['block4a_se_reduce[0][0]']      \n",
            "                                                                                                  \n",
            " block4a_se_excite (Multiply)   (None, None, None,   0           ['block4a_activation[0][0]',     \n",
            "                                240)                              'block4a_se_expand[0][0]']      \n",
            "                                                                                                  \n",
            " block4a_project_conv (Conv2D)  (None, None, None,   19200       ['block4a_se_excite[0][0]']      \n",
            "                                80)                                                               \n",
            "                                                                                                  \n",
            " block4a_project_bn (BatchNorma  (None, None, None,   320        ['block4a_project_conv[0][0]']   \n",
            " lization)                      80)                                                               \n",
            "                                                                                                  \n",
            " block4b_expand_conv (Conv2D)   (None, None, None,   38400       ['block4a_project_bn[0][0]']     \n",
            "                                480)                                                              \n",
            "                                                                                                  \n",
            " block4b_expand_bn (BatchNormal  (None, None, None,   1920       ['block4b_expand_conv[0][0]']    \n",
            " ization)                       480)                                                              \n",
            "                                                                                                  \n",
            " block4b_expand_activation (Act  (None, None, None,   0          ['block4b_expand_bn[0][0]']      \n",
            " ivation)                       480)                                                              \n",
            "                                                                                                  \n",
            " block4b_dwconv (DepthwiseConv2  (None, None, None,   4320       ['block4b_expand_activation[0][0]\n",
            " D)                             480)                             ']                               \n",
            "                                                                                                  \n",
            " block4b_bn (BatchNormalization  (None, None, None,   1920       ['block4b_dwconv[0][0]']         \n",
            " )                              480)                                                              \n",
            "                                                                                                  \n",
            " block4b_activation (Activation  (None, None, None,   0          ['block4b_bn[0][0]']             \n",
            " )                              480)                                                              \n",
            "                                                                                                  \n",
            " block4b_se_squeeze (GlobalAver  (None, 480)         0           ['block4b_activation[0][0]']     \n",
            " agePooling2D)                                                                                    \n",
            "                                                                                                  \n",
            " block4b_se_reshape (Reshape)   (None, 1, 1, 480)    0           ['block4b_se_squeeze[0][0]']     \n",
            "                                                                                                  \n",
            " block4b_se_reduce (Conv2D)     (None, 1, 1, 20)     9620        ['block4b_se_reshape[0][0]']     \n",
            "                                                                                                  \n",
            " block4b_se_expand (Conv2D)     (None, 1, 1, 480)    10080       ['block4b_se_reduce[0][0]']      \n",
            "                                                                                                  \n",
            " block4b_se_excite (Multiply)   (None, None, None,   0           ['block4b_activation[0][0]',     \n",
            "                                480)                              'block4b_se_expand[0][0]']      \n",
            "                                                                                                  \n",
            " block4b_project_conv (Conv2D)  (None, None, None,   38400       ['block4b_se_excite[0][0]']      \n",
            "                                80)                                                               \n",
            "                                                                                                  \n",
            " block4b_project_bn (BatchNorma  (None, None, None,   320        ['block4b_project_conv[0][0]']   \n",
            " lization)                      80)                                                               \n",
            "                                                                                                  \n",
            " block4b_drop (Dropout)         (None, None, None,   0           ['block4b_project_bn[0][0]']     \n",
            "                                80)                                                               \n",
            "                                                                                                  \n",
            " block4b_add (Add)              (None, None, None,   0           ['block4b_drop[0][0]',           \n",
            "                                80)                               'block4a_project_bn[0][0]']     \n",
            "                                                                                                  \n",
            " block4c_expand_conv (Conv2D)   (None, None, None,   38400       ['block4b_add[0][0]']            \n",
            "                                480)                                                              \n",
            "                                                                                                  \n",
            " block4c_expand_bn (BatchNormal  (None, None, None,   1920       ['block4c_expand_conv[0][0]']    \n",
            " ization)                       480)                                                              \n",
            "                                                                                                  \n",
            " block4c_expand_activation (Act  (None, None, None,   0          ['block4c_expand_bn[0][0]']      \n",
            " ivation)                       480)                                                              \n",
            "                                                                                                  \n",
            " block4c_dwconv (DepthwiseConv2  (None, None, None,   4320       ['block4c_expand_activation[0][0]\n",
            " D)                             480)                             ']                               \n",
            "                                                                                                  \n",
            " block4c_bn (BatchNormalization  (None, None, None,   1920       ['block4c_dwconv[0][0]']         \n",
            " )                              480)                                                              \n",
            "                                                                                                  \n",
            " block4c_activation (Activation  (None, None, None,   0          ['block4c_bn[0][0]']             \n",
            " )                              480)                                                              \n",
            "                                                                                                  \n",
            " block4c_se_squeeze (GlobalAver  (None, 480)         0           ['block4c_activation[0][0]']     \n",
            " agePooling2D)                                                                                    \n",
            "                                                                                                  \n",
            " block4c_se_reshape (Reshape)   (None, 1, 1, 480)    0           ['block4c_se_squeeze[0][0]']     \n",
            "                                                                                                  \n",
            " block4c_se_reduce (Conv2D)     (None, 1, 1, 20)     9620        ['block4c_se_reshape[0][0]']     \n",
            "                                                                                                  \n",
            " block4c_se_expand (Conv2D)     (None, 1, 1, 480)    10080       ['block4c_se_reduce[0][0]']      \n",
            "                                                                                                  \n",
            " block4c_se_excite (Multiply)   (None, None, None,   0           ['block4c_activation[0][0]',     \n",
            "                                480)                              'block4c_se_expand[0][0]']      \n",
            "                                                                                                  \n",
            " block4c_project_conv (Conv2D)  (None, None, None,   38400       ['block4c_se_excite[0][0]']      \n",
            "                                80)                                                               \n",
            "                                                                                                  \n",
            " block4c_project_bn (BatchNorma  (None, None, None,   320        ['block4c_project_conv[0][0]']   \n",
            " lization)                      80)                                                               \n",
            "                                                                                                  \n",
            " block4c_drop (Dropout)         (None, None, None,   0           ['block4c_project_bn[0][0]']     \n",
            "                                80)                                                               \n",
            "                                                                                                  \n",
            " block4c_add (Add)              (None, None, None,   0           ['block4c_drop[0][0]',           \n",
            "                                80)                               'block4b_add[0][0]']            \n",
            "                                                                                                  \n",
            " block5a_expand_conv (Conv2D)   (None, None, None,   38400       ['block4c_add[0][0]']            \n",
            "                                480)                                                              \n",
            "                                                                                                  \n",
            " block5a_expand_bn (BatchNormal  (None, None, None,   1920       ['block5a_expand_conv[0][0]']    \n",
            " ization)                       480)                                                              \n",
            "                                                                                                  \n",
            " block5a_expand_activation (Act  (None, None, None,   0          ['block5a_expand_bn[0][0]']      \n",
            " ivation)                       480)                                                              \n",
            "                                                                                                  \n",
            " block5a_dwconv (DepthwiseConv2  (None, None, None,   12000      ['block5a_expand_activation[0][0]\n",
            " D)                             480)                             ']                               \n",
            "                                                                                                  \n",
            " block5a_bn (BatchNormalization  (None, None, None,   1920       ['block5a_dwconv[0][0]']         \n",
            " )                              480)                                                              \n",
            "                                                                                                  \n",
            " block5a_activation (Activation  (None, None, None,   0          ['block5a_bn[0][0]']             \n",
            " )                              480)                                                              \n",
            "                                                                                                  \n",
            " block5a_se_squeeze (GlobalAver  (None, 480)         0           ['block5a_activation[0][0]']     \n",
            " agePooling2D)                                                                                    \n",
            "                                                                                                  \n",
            " block5a_se_reshape (Reshape)   (None, 1, 1, 480)    0           ['block5a_se_squeeze[0][0]']     \n",
            "                                                                                                  \n",
            " block5a_se_reduce (Conv2D)     (None, 1, 1, 20)     9620        ['block5a_se_reshape[0][0]']     \n",
            "                                                                                                  \n",
            " block5a_se_expand (Conv2D)     (None, 1, 1, 480)    10080       ['block5a_se_reduce[0][0]']      \n",
            "                                                                                                  \n",
            " block5a_se_excite (Multiply)   (None, None, None,   0           ['block5a_activation[0][0]',     \n",
            "                                480)                              'block5a_se_expand[0][0]']      \n",
            "                                                                                                  \n",
            " block5a_project_conv (Conv2D)  (None, None, None,   53760       ['block5a_se_excite[0][0]']      \n",
            "                                112)                                                              \n",
            "                                                                                                  \n",
            " block5a_project_bn (BatchNorma  (None, None, None,   448        ['block5a_project_conv[0][0]']   \n",
            " lization)                      112)                                                              \n",
            "                                                                                                  \n",
            " block5b_expand_conv (Conv2D)   (None, None, None,   75264       ['block5a_project_bn[0][0]']     \n",
            "                                672)                                                              \n",
            "                                                                                                  \n",
            " block5b_expand_bn (BatchNormal  (None, None, None,   2688       ['block5b_expand_conv[0][0]']    \n",
            " ization)                       672)                                                              \n",
            "                                                                                                  \n",
            " block5b_expand_activation (Act  (None, None, None,   0          ['block5b_expand_bn[0][0]']      \n",
            " ivation)                       672)                                                              \n",
            "                                                                                                  \n",
            " block5b_dwconv (DepthwiseConv2  (None, None, None,   16800      ['block5b_expand_activation[0][0]\n",
            " D)                             672)                             ']                               \n",
            "                                                                                                  \n",
            " block5b_bn (BatchNormalization  (None, None, None,   2688       ['block5b_dwconv[0][0]']         \n",
            " )                              672)                                                              \n",
            "                                                                                                  \n",
            " block5b_activation (Activation  (None, None, None,   0          ['block5b_bn[0][0]']             \n",
            " )                              672)                                                              \n",
            "                                                                                                  \n",
            " block5b_se_squeeze (GlobalAver  (None, 672)         0           ['block5b_activation[0][0]']     \n",
            " agePooling2D)                                                                                    \n",
            "                                                                                                  \n",
            " block5b_se_reshape (Reshape)   (None, 1, 1, 672)    0           ['block5b_se_squeeze[0][0]']     \n",
            "                                                                                                  \n",
            " block5b_se_reduce (Conv2D)     (None, 1, 1, 28)     18844       ['block5b_se_reshape[0][0]']     \n",
            "                                                                                                  \n",
            " block5b_se_expand (Conv2D)     (None, 1, 1, 672)    19488       ['block5b_se_reduce[0][0]']      \n",
            "                                                                                                  \n",
            " block5b_se_excite (Multiply)   (None, None, None,   0           ['block5b_activation[0][0]',     \n",
            "                                672)                              'block5b_se_expand[0][0]']      \n",
            "                                                                                                  \n",
            " block5b_project_conv (Conv2D)  (None, None, None,   75264       ['block5b_se_excite[0][0]']      \n",
            "                                112)                                                              \n",
            "                                                                                                  \n",
            " block5b_project_bn (BatchNorma  (None, None, None,   448        ['block5b_project_conv[0][0]']   \n",
            " lization)                      112)                                                              \n",
            "                                                                                                  \n",
            " block5b_drop (Dropout)         (None, None, None,   0           ['block5b_project_bn[0][0]']     \n",
            "                                112)                                                              \n",
            "                                                                                                  \n",
            " block5b_add (Add)              (None, None, None,   0           ['block5b_drop[0][0]',           \n",
            "                                112)                              'block5a_project_bn[0][0]']     \n",
            "                                                                                                  \n",
            " block5c_expand_conv (Conv2D)   (None, None, None,   75264       ['block5b_add[0][0]']            \n",
            "                                672)                                                              \n",
            "                                                                                                  \n",
            " block5c_expand_bn (BatchNormal  (None, None, None,   2688       ['block5c_expand_conv[0][0]']    \n",
            " ization)                       672)                                                              \n",
            "                                                                                                  \n",
            " block5c_expand_activation (Act  (None, None, None,   0          ['block5c_expand_bn[0][0]']      \n",
            " ivation)                       672)                                                              \n",
            "                                                                                                  \n",
            " block5c_dwconv (DepthwiseConv2  (None, None, None,   16800      ['block5c_expand_activation[0][0]\n",
            " D)                             672)                             ']                               \n",
            "                                                                                                  \n",
            " block5c_bn (BatchNormalization  (None, None, None,   2688       ['block5c_dwconv[0][0]']         \n",
            " )                              672)                                                              \n",
            "                                                                                                  \n",
            " block5c_activation (Activation  (None, None, None,   0          ['block5c_bn[0][0]']             \n",
            " )                              672)                                                              \n",
            "                                                                                                  \n",
            " block5c_se_squeeze (GlobalAver  (None, 672)         0           ['block5c_activation[0][0]']     \n",
            " agePooling2D)                                                                                    \n",
            "                                                                                                  \n",
            " block5c_se_reshape (Reshape)   (None, 1, 1, 672)    0           ['block5c_se_squeeze[0][0]']     \n",
            "                                                                                                  \n",
            " block5c_se_reduce (Conv2D)     (None, 1, 1, 28)     18844       ['block5c_se_reshape[0][0]']     \n",
            "                                                                                                  \n",
            " block5c_se_expand (Conv2D)     (None, 1, 1, 672)    19488       ['block5c_se_reduce[0][0]']      \n",
            "                                                                                                  \n",
            " block5c_se_excite (Multiply)   (None, None, None,   0           ['block5c_activation[0][0]',     \n",
            "                                672)                              'block5c_se_expand[0][0]']      \n",
            "                                                                                                  \n",
            " block5c_project_conv (Conv2D)  (None, None, None,   75264       ['block5c_se_excite[0][0]']      \n",
            "                                112)                                                              \n",
            "                                                                                                  \n",
            " block5c_project_bn (BatchNorma  (None, None, None,   448        ['block5c_project_conv[0][0]']   \n",
            " lization)                      112)                                                              \n",
            "                                                                                                  \n",
            " block5c_drop (Dropout)         (None, None, None,   0           ['block5c_project_bn[0][0]']     \n",
            "                                112)                                                              \n",
            "                                                                                                  \n",
            " block5c_add (Add)              (None, None, None,   0           ['block5c_drop[0][0]',           \n",
            "                                112)                              'block5b_add[0][0]']            \n",
            "                                                                                                  \n",
            " block6a_expand_conv (Conv2D)   (None, None, None,   75264       ['block5c_add[0][0]']            \n",
            "                                672)                                                              \n",
            "                                                                                                  \n",
            " block6a_expand_bn (BatchNormal  (None, None, None,   2688       ['block6a_expand_conv[0][0]']    \n",
            " ization)                       672)                                                              \n",
            "                                                                                                  \n",
            " block6a_expand_activation (Act  (None, None, None,   0          ['block6a_expand_bn[0][0]']      \n",
            " ivation)                       672)                                                              \n",
            "                                                                                                  \n",
            " block6a_dwconv_pad (ZeroPaddin  (None, None, None,   0          ['block6a_expand_activation[0][0]\n",
            " g2D)                           672)                             ']                               \n",
            "                                                                                                  \n",
            " block6a_dwconv (DepthwiseConv2  (None, None, None,   16800      ['block6a_dwconv_pad[0][0]']     \n",
            " D)                             672)                                                              \n",
            "                                                                                                  \n",
            " block6a_bn (BatchNormalization  (None, None, None,   2688       ['block6a_dwconv[0][0]']         \n",
            " )                              672)                                                              \n",
            "                                                                                                  \n",
            " block6a_activation (Activation  (None, None, None,   0          ['block6a_bn[0][0]']             \n",
            " )                              672)                                                              \n",
            "                                                                                                  \n",
            " block6a_se_squeeze (GlobalAver  (None, 672)         0           ['block6a_activation[0][0]']     \n",
            " agePooling2D)                                                                                    \n",
            "                                                                                                  \n",
            " block6a_se_reshape (Reshape)   (None, 1, 1, 672)    0           ['block6a_se_squeeze[0][0]']     \n",
            "                                                                                                  \n",
            " block6a_se_reduce (Conv2D)     (None, 1, 1, 28)     18844       ['block6a_se_reshape[0][0]']     \n",
            "                                                                                                  \n",
            " block6a_se_expand (Conv2D)     (None, 1, 1, 672)    19488       ['block6a_se_reduce[0][0]']      \n",
            "                                                                                                  \n",
            " block6a_se_excite (Multiply)   (None, None, None,   0           ['block6a_activation[0][0]',     \n",
            "                                672)                              'block6a_se_expand[0][0]']      \n",
            "                                                                                                  \n",
            " block6a_project_conv (Conv2D)  (None, None, None,   129024      ['block6a_se_excite[0][0]']      \n",
            "                                192)                                                              \n",
            "                                                                                                  \n",
            " block6a_project_bn (BatchNorma  (None, None, None,   768        ['block6a_project_conv[0][0]']   \n",
            " lization)                      192)                                                              \n",
            "                                                                                                  \n",
            " block6b_expand_conv (Conv2D)   (None, None, None,   221184      ['block6a_project_bn[0][0]']     \n",
            "                                1152)                                                             \n",
            "                                                                                                  \n",
            " block6b_expand_bn (BatchNormal  (None, None, None,   4608       ['block6b_expand_conv[0][0]']    \n",
            " ization)                       1152)                                                             \n",
            "                                                                                                  \n",
            " block6b_expand_activation (Act  (None, None, None,   0          ['block6b_expand_bn[0][0]']      \n",
            " ivation)                       1152)                                                             \n",
            "                                                                                                  \n",
            " block6b_dwconv (DepthwiseConv2  (None, None, None,   28800      ['block6b_expand_activation[0][0]\n",
            " D)                             1152)                            ']                               \n",
            "                                                                                                  \n",
            " block6b_bn (BatchNormalization  (None, None, None,   4608       ['block6b_dwconv[0][0]']         \n",
            " )                              1152)                                                             \n",
            "                                                                                                  \n",
            " block6b_activation (Activation  (None, None, None,   0          ['block6b_bn[0][0]']             \n",
            " )                              1152)                                                             \n",
            "                                                                                                  \n",
            " block6b_se_squeeze (GlobalAver  (None, 1152)        0           ['block6b_activation[0][0]']     \n",
            " agePooling2D)                                                                                    \n",
            "                                                                                                  \n",
            " block6b_se_reshape (Reshape)   (None, 1, 1, 1152)   0           ['block6b_se_squeeze[0][0]']     \n",
            "                                                                                                  \n",
            " block6b_se_reduce (Conv2D)     (None, 1, 1, 48)     55344       ['block6b_se_reshape[0][0]']     \n",
            "                                                                                                  \n",
            " block6b_se_expand (Conv2D)     (None, 1, 1, 1152)   56448       ['block6b_se_reduce[0][0]']      \n",
            "                                                                                                  \n",
            " block6b_se_excite (Multiply)   (None, None, None,   0           ['block6b_activation[0][0]',     \n",
            "                                1152)                             'block6b_se_expand[0][0]']      \n",
            "                                                                                                  \n",
            " block6b_project_conv (Conv2D)  (None, None, None,   221184      ['block6b_se_excite[0][0]']      \n",
            "                                192)                                                              \n",
            "                                                                                                  \n",
            " block6b_project_bn (BatchNorma  (None, None, None,   768        ['block6b_project_conv[0][0]']   \n",
            " lization)                      192)                                                              \n",
            "                                                                                                  \n",
            " block6b_drop (Dropout)         (None, None, None,   0           ['block6b_project_bn[0][0]']     \n",
            "                                192)                                                              \n",
            "                                                                                                  \n",
            " block6b_add (Add)              (None, None, None,   0           ['block6b_drop[0][0]',           \n",
            "                                192)                              'block6a_project_bn[0][0]']     \n",
            "                                                                                                  \n",
            " block6c_expand_conv (Conv2D)   (None, None, None,   221184      ['block6b_add[0][0]']            \n",
            "                                1152)                                                             \n",
            "                                                                                                  \n",
            " block6c_expand_bn (BatchNormal  (None, None, None,   4608       ['block6c_expand_conv[0][0]']    \n",
            " ization)                       1152)                                                             \n",
            "                                                                                                  \n",
            " block6c_expand_activation (Act  (None, None, None,   0          ['block6c_expand_bn[0][0]']      \n",
            " ivation)                       1152)                                                             \n",
            "                                                                                                  \n",
            " block6c_dwconv (DepthwiseConv2  (None, None, None,   28800      ['block6c_expand_activation[0][0]\n",
            " D)                             1152)                            ']                               \n",
            "                                                                                                  \n",
            " block6c_bn (BatchNormalization  (None, None, None,   4608       ['block6c_dwconv[0][0]']         \n",
            " )                              1152)                                                             \n",
            "                                                                                                  \n",
            " block6c_activation (Activation  (None, None, None,   0          ['block6c_bn[0][0]']             \n",
            " )                              1152)                                                             \n",
            "                                                                                                  \n",
            " block6c_se_squeeze (GlobalAver  (None, 1152)        0           ['block6c_activation[0][0]']     \n",
            " agePooling2D)                                                                                    \n",
            "                                                                                                  \n",
            " block6c_se_reshape (Reshape)   (None, 1, 1, 1152)   0           ['block6c_se_squeeze[0][0]']     \n",
            "                                                                                                  \n",
            " block6c_se_reduce (Conv2D)     (None, 1, 1, 48)     55344       ['block6c_se_reshape[0][0]']     \n",
            "                                                                                                  \n",
            " block6c_se_expand (Conv2D)     (None, 1, 1, 1152)   56448       ['block6c_se_reduce[0][0]']      \n",
            "                                                                                                  \n",
            " block6c_se_excite (Multiply)   (None, None, None,   0           ['block6c_activation[0][0]',     \n",
            "                                1152)                             'block6c_se_expand[0][0]']      \n",
            "                                                                                                  \n",
            " block6c_project_conv (Conv2D)  (None, None, None,   221184      ['block6c_se_excite[0][0]']      \n",
            "                                192)                                                              \n",
            "                                                                                                  \n",
            " block6c_project_bn (BatchNorma  (None, None, None,   768        ['block6c_project_conv[0][0]']   \n",
            " lization)                      192)                                                              \n",
            "                                                                                                  \n",
            " block6c_drop (Dropout)         (None, None, None,   0           ['block6c_project_bn[0][0]']     \n",
            "                                192)                                                              \n",
            "                                                                                                  \n",
            " block6c_add (Add)              (None, None, None,   0           ['block6c_drop[0][0]',           \n",
            "                                192)                              'block6b_add[0][0]']            \n",
            "                                                                                                  \n",
            " block6d_expand_conv (Conv2D)   (None, None, None,   221184      ['block6c_add[0][0]']            \n",
            "                                1152)                                                             \n",
            "                                                                                                  \n",
            " block6d_expand_bn (BatchNormal  (None, None, None,   4608       ['block6d_expand_conv[0][0]']    \n",
            " ization)                       1152)                                                             \n",
            "                                                                                                  \n",
            " block6d_expand_activation (Act  (None, None, None,   0          ['block6d_expand_bn[0][0]']      \n",
            " ivation)                       1152)                                                             \n",
            "                                                                                                  \n",
            " block6d_dwconv (DepthwiseConv2  (None, None, None,   28800      ['block6d_expand_activation[0][0]\n",
            " D)                             1152)                            ']                               \n",
            "                                                                                                  \n",
            " block6d_bn (BatchNormalization  (None, None, None,   4608       ['block6d_dwconv[0][0]']         \n",
            " )                              1152)                                                             \n",
            "                                                                                                  \n",
            " block6d_activation (Activation  (None, None, None,   0          ['block6d_bn[0][0]']             \n",
            " )                              1152)                                                             \n",
            "                                                                                                  \n",
            " block6d_se_squeeze (GlobalAver  (None, 1152)        0           ['block6d_activation[0][0]']     \n",
            " agePooling2D)                                                                                    \n",
            "                                                                                                  \n",
            " block6d_se_reshape (Reshape)   (None, 1, 1, 1152)   0           ['block6d_se_squeeze[0][0]']     \n",
            "                                                                                                  \n",
            " block6d_se_reduce (Conv2D)     (None, 1, 1, 48)     55344       ['block6d_se_reshape[0][0]']     \n",
            "                                                                                                  \n",
            " block6d_se_expand (Conv2D)     (None, 1, 1, 1152)   56448       ['block6d_se_reduce[0][0]']      \n",
            "                                                                                                  \n",
            " block6d_se_excite (Multiply)   (None, None, None,   0           ['block6d_activation[0][0]',     \n",
            "                                1152)                             'block6d_se_expand[0][0]']      \n",
            "                                                                                                  \n",
            " block6d_project_conv (Conv2D)  (None, None, None,   221184      ['block6d_se_excite[0][0]']      \n",
            "                                192)                                                              \n",
            "                                                                                                  \n",
            " block6d_project_bn (BatchNorma  (None, None, None,   768        ['block6d_project_conv[0][0]']   \n",
            " lization)                      192)                                                              \n",
            "                                                                                                  \n",
            " block6d_drop (Dropout)         (None, None, None,   0           ['block6d_project_bn[0][0]']     \n",
            "                                192)                                                              \n",
            "                                                                                                  \n",
            " block6d_add (Add)              (None, None, None,   0           ['block6d_drop[0][0]',           \n",
            "                                192)                              'block6c_add[0][0]']            \n",
            "                                                                                                  \n",
            " block7a_expand_conv (Conv2D)   (None, None, None,   221184      ['block6d_add[0][0]']            \n",
            "                                1152)                                                             \n",
            "                                                                                                  \n",
            " block7a_expand_bn (BatchNormal  (None, None, None,   4608       ['block7a_expand_conv[0][0]']    \n",
            " ization)                       1152)                                                             \n",
            "                                                                                                  \n",
            " block7a_expand_activation (Act  (None, None, None,   0          ['block7a_expand_bn[0][0]']      \n",
            " ivation)                       1152)                                                             \n",
            "                                                                                                  \n",
            " block7a_dwconv (DepthwiseConv2  (None, None, None,   10368      ['block7a_expand_activation[0][0]\n",
            " D)                             1152)                            ']                               \n",
            "                                                                                                  \n",
            " block7a_bn (BatchNormalization  (None, None, None,   4608       ['block7a_dwconv[0][0]']         \n",
            " )                              1152)                                                             \n",
            "                                                                                                  \n",
            " block7a_activation (Activation  (None, None, None,   0          ['block7a_bn[0][0]']             \n",
            " )                              1152)                                                             \n",
            "                                                                                                  \n",
            " block7a_se_squeeze (GlobalAver  (None, 1152)        0           ['block7a_activation[0][0]']     \n",
            " agePooling2D)                                                                                    \n",
            "                                                                                                  \n",
            " block7a_se_reshape (Reshape)   (None, 1, 1, 1152)   0           ['block7a_se_squeeze[0][0]']     \n",
            "                                                                                                  \n",
            " block7a_se_reduce (Conv2D)     (None, 1, 1, 48)     55344       ['block7a_se_reshape[0][0]']     \n",
            "                                                                                                  \n",
            " block7a_se_expand (Conv2D)     (None, 1, 1, 1152)   56448       ['block7a_se_reduce[0][0]']      \n",
            "                                                                                                  \n",
            " block7a_se_excite (Multiply)   (None, None, None,   0           ['block7a_activation[0][0]',     \n",
            "                                1152)                             'block7a_se_expand[0][0]']      \n",
            "                                                                                                  \n",
            " block7a_project_conv (Conv2D)  (None, None, None,   368640      ['block7a_se_excite[0][0]']      \n",
            "                                320)                                                              \n",
            "                                                                                                  \n",
            " block7a_project_bn (BatchNorma  (None, None, None,   1280       ['block7a_project_conv[0][0]']   \n",
            " lization)                      320)                                                              \n",
            "                                                                                                  \n",
            " top_conv (Conv2D)              (None, None, None,   409600      ['block7a_project_bn[0][0]']     \n",
            "                                1280)                                                             \n",
            "                                                                                                  \n",
            " top_bn (BatchNormalization)    (None, None, None,   5120        ['top_conv[0][0]']               \n",
            "                                1280)                                                             \n",
            "                                                                                                  \n",
            " top_activation (Activation)    (None, None, None,   0           ['top_bn[0][0]']                 \n",
            "                                1280)                                                             \n",
            "                                                                                                  \n",
            "==================================================================================================\n",
            "Total params: 4,049,571\n",
            "Trainable params: 0\n",
            "Non-trainable params: 4,049,571\n",
            "__________________________________________________________________________________________________\n"
          ]
        }
      ],
      "source": [
        "base_model.summary()"
      ]
    },
    {
      "cell_type": "markdown",
      "metadata": {
        "id": "DvNfOjbEX4oM"
      },
      "source": [
        "Here if we notice `Trainable params : 0`, because we haven't trained or changed anything on the patterns or weights, we just did feature extraction, and the layers are unfrozen that's why.\n",
        "\n",
        "We did this by setting `base_model.trainable = False`.\n",
        "\n",
        "Alright that was the `base_model`, let's see the summary of our overall model."
      ]
    },
    {
      "cell_type": "code",
      "execution_count": null,
      "metadata": {
        "colab": {
          "base_uri": "https://localhost:8080/"
        },
        "id": "a2QIDNVtYvBC",
        "outputId": "e651b28a-6b2c-46f3-c353-30f7e804e971"
      },
      "outputs": [
        {
          "name": "stdout",
          "output_type": "stream",
          "text": [
            "Model: \"model\"\n",
            "_________________________________________________________________\n",
            " Layer (type)                Output Shape              Param #   \n",
            "=================================================================\n",
            " input_layer (InputLayer)    [(None, 224, 224, 3)]     0         \n",
            "                                                                 \n",
            " efficientnetb0 (Functional)  (None, None, None, 1280)  4049571  \n",
            "                                                                 \n",
            " global_average_pooling_laye  (None, 1280)             0         \n",
            " r (GlobalAveragePooling2D)                                      \n",
            "                                                                 \n",
            " output_layer (Dense)        (None, 10)                12810     \n",
            "                                                                 \n",
            "=================================================================\n",
            "Total params: 4,062,381\n",
            "Trainable params: 12,810\n",
            "Non-trainable params: 4,049,571\n",
            "_________________________________________________________________\n"
          ]
        }
      ],
      "source": [
        "# check the summary of overall model\n",
        "model_0.summary()"
      ]
    },
    {
      "cell_type": "markdown",
      "metadata": {
        "id": "GwX5tAdeYzuR"
      },
      "source": [
        "Our overall model has 4 layers, but one of those layers (`efficientnetb0`) has 236 layers.\n",
        "\n",
        "We can also see the output shape of our input_layer is `(None, 224, 224, 3)` but was transformed to `(None, 10)` in the output_layer (shape of our labels), where `None` is the placeholder for the batch size.\n",
        "\n",
        "Notice too, the only trainable params are equal to the params in output_layer, which means we adjusted only the output layer based on our own dataset in this feature extracted model.\n",
        "\n",
        "We are discussing from the last notebook about the feature vectors but haven't really see in practice, how actually it looks like, so let's find."
      ]
    },
    {
      "cell_type": "markdown",
      "metadata": {
        "id": "Q6C-dBpYZ7pf"
      },
      "source": [
        "## Getting a feature vector from a trained model\n",
        "\n",
        "**What happens with the `tf.keras.layers.GlobalAveragePooling2D()` layer?**\n",
        "\n",
        "The `tf.keras.layers.GlobalAveragePooling2D()` layer transforms a 4D tensor into 2D tensor by averaging the values across the inner-axes.\n",
        "\n",
        "If we see the `model.summary()`, we have 2nd layer as `efficientnetb0` with output shape as `(None, None, None, 1280)` but after applying `tf.keras.layers.GlobalAveragePooling2D` layer, it transforms that into `(None, 1280)`.\n",
        "\n",
        "Let's see an example, how does it do."
      ]
    },
    {
      "cell_type": "code",
      "execution_count": null,
      "metadata": {
        "colab": {
          "base_uri": "https://localhost:8080/"
        },
        "id": "8WvqDp86bBY9",
        "outputId": "645482de-98e8-42db-aef1-a4a725828f03"
      },
      "outputs": [
        {
          "name": "stdout",
          "output_type": "stream",
          "text": [
            "Random Input tensor:\n",
            " [[[[ 0.01778085  2.3094206  -0.9550922 ]\n",
            "   [-1.7634275   0.4548187  -0.18493938]\n",
            "   [-0.35161677  0.18182382 -0.31690374]\n",
            "   [-0.15134323 -0.07775787  0.17686777]]\n",
            "\n",
            "  [[ 0.21436396  0.1932961   1.4182636 ]\n",
            "   [-0.8006435  -0.70749104 -1.2525052 ]\n",
            "   [ 0.02151339  0.34174567 -1.2530284 ]\n",
            "   [-0.17276597  0.16387203 -0.80704546]]\n",
            "\n",
            "  [[ 0.62522286 -1.5750551  -0.0113454 ]\n",
            "   [-2.2971196   1.3553604  -0.75843495]\n",
            "   [ 0.37949955 -1.5703921  -0.04764017]\n",
            "   [ 0.46110848  1.0848212  -1.0602777 ]]\n",
            "\n",
            "  [[ 0.05737554 -0.88729954  0.8313546 ]\n",
            "   [-0.18021747 -1.0707239  -0.41009685]\n",
            "   [ 1.0844605  -0.04417734 -1.1369785 ]\n",
            "   [-1.3155755   1.670021   -1.1997223 ]]]]\n",
            "\n",
            "2D global average pooling random tensor:\n",
            " [[-0.26071152  0.11389266 -0.43547028]]\n",
            "\n",
            "Shape of input tensor: (1, 4, 4, 3)\n",
            "Shape of 2D Global Average Pooled input tensor: (1, 3)\n"
          ]
        }
      ],
      "source": [
        "# Define input tensor shape (same number of dimensions as the output of efficientnetb0)\n",
        "input_shape = (1, 4, 4, 3)\n",
        "\n",
        "# Create a random tensor\n",
        "tf.random.set_seed(17)\n",
        "input_tensor = tf.random.normal(input_shape)\n",
        "print(f\"Random Input tensor:\\n {input_tensor}\\n\")\n",
        "\n",
        "# Pass the random tensor through a global average pooling 2d layer\n",
        "global_average_pooling_tensor = tf.keras.layers.GlobalAveragePooling2D()(input_tensor)\n",
        "print(f\"2D global average pooling random tensor:\\n {global_average_pooling_tensor}\\n\")\n",
        "\n",
        "# Check the shapes of the different tensors\n",
        "print(f\"Shape of input tensor: {input_tensor.shape}\")\n",
        "print(f\"Shape of 2D Global Average Pooled input tensor: {global_average_pooling_tensor.shape}\")"
      ]
    },
    {
      "cell_type": "markdown",
      "metadata": {
        "id": "pjn25cjFcttZ"
      },
      "source": [
        "You can see the `tf.keras.layers.GlobalAveragePooling2D()` layer condensed the input tensor from shape `(1, 4, 4, 3)` to `(1, 3)`. It did so by averaging `input_tensor` across the middle two axes.\n",
        "\n",
        "We can replicate this operator using `tf.reduce_mean()` operation and specifying the appropriate axes."
      ]
    },
    {
      "cell_type": "code",
      "execution_count": null,
      "metadata": {
        "colab": {
          "base_uri": "https://localhost:8080/"
        },
        "id": "9_luMAm8dT3d",
        "outputId": "7f3b2615-9b11-4e3d-bb3b-127a0b6d7d1b"
      },
      "outputs": [
        {
          "data": {
            "text/plain": [
              "<tf.Tensor: shape=(1, 3), dtype=float32, numpy=array([[-0.26071152,  0.11389266, -0.43547028]], dtype=float32)>"
            ]
          },
          "execution_count": 16,
          "metadata": {},
          "output_type": "execute_result"
        }
      ],
      "source": [
        "tf.reduce_mean(input_tensor, axis=[1,2]) # average across the middle axes"
      ]
    },
    {
      "cell_type": "markdown",
      "metadata": {
        "id": "x-ChVs2ndau8"
      },
      "source": [
        "Doing this not only makes the output of the base model compatible with the input shape requirement of our output layer(`tf.keras.layers.Dense()`), it also condenses the information found by the base model into a lower dimension **feature vector**.\n",
        "\n",
        "> 🔑 **Note:** One of the reasons feature extraction transfer learning is named how it is because what often happens is a pretrained model outputs a **feature vector** (a long tensor of numbers, in our case, this is the output of the `tf.keras.layers.GlobalAveragePooling2D()` layer) which can then be used to extract patterns out of.\n",
        "\n",
        "> 🛠 **Practice:** Do the same thing with `tf.keras.layers.GlobalMaxPooling2D()`"
      ]
    },
    {
      "cell_type": "markdown",
      "metadata": {
        "id": "lHDzFJ2ffSyK"
      },
      "source": [
        "## Running a series of transfer learning experiments\n",
        "\n",
        "We've seen the incredible results of transfer learning on 10% of the training data, what about 1% of data ?\n",
        "\n",
        "What kind of results do you think we can get using 100x less data than the original CNN models we built ourselves ?\n",
        "\n",
        "Why don't we answer that question while running the following modelling experiments:\n",
        "1. `model_1`: Use feature extraction transfer leaning on 1% of the training data with data augmentation\n",
        "2. `model_2`: Use feature extraction transfer learning on 10% of the training data with data augmentation\n",
        "3. `model_3`: Use fine-tuning transfer learning on 10% of the training data with data augmentation\n",
        "4. `model_4`: Use fine-tuning transfer learning on 100% of the training data with data augmentation\n",
        "\n",
        "While all of the experiments will be run on different versions of the training data, they will all be evaluated on the same test dataset, this ensures the results of each experiment are as comparable as possible.\n",
        "\n",
        "All the experiments will be done using the `EfficientNetB0` model within the `tf.keras.applications` module.\n",
        "\n",
        "To make sure we're keeping track of our experiments, we'll use our `create_tensorboard_callback()` function to log all of the model training logs.\n",
        "\n",
        "We'll construct each model using the Keras Functional API and instread of implementing data augmentation in the `ImageDataGenerator` class as we have previously, we're going to build it right into the model using `tf.keras.layers.experimental.preprocessing` module.\n",
        "\n",
        "Let's begin by downloading the 1% of training dataset of food vision,"
      ]
    },
    {
      "cell_type": "code",
      "execution_count": null,
      "metadata": {
        "colab": {
          "base_uri": "https://localhost:8080/"
        },
        "id": "j5kdwsJdtnvz",
        "outputId": "69ca5177-6b41-46cb-8651-8ce117f84feb"
      },
      "outputs": [
        {
          "name": "stdout",
          "output_type": "stream",
          "text": [
            "--2023-01-02 05:06:41--  https://storage.googleapis.com/ztm_tf_course/food_vision/10_food_classes_1_percent.zip\n",
            "Resolving storage.googleapis.com (storage.googleapis.com)... 142.251.12.128, 172.217.194.128, 172.253.118.128, ...\n",
            "Connecting to storage.googleapis.com (storage.googleapis.com)|142.251.12.128|:443... connected.\n",
            "HTTP request sent, awaiting response... 200 OK\n",
            "Length: 133612354 (127M) [application/zip]\n",
            "Saving to: ‘10_food_classes_1_percent.zip’\n",
            "\n",
            "10_food_classes_1_p 100%[===================>] 127.42M  24.5MB/s    in 6.4s    \n",
            "\n",
            "2023-01-02 05:06:47 (19.8 MB/s) - ‘10_food_classes_1_percent.zip’ saved [133612354/133612354]\n",
            "\n"
          ]
        }
      ],
      "source": [
        "!wget https://storage.googleapis.com/ztm_tf_course/food_vision/10_food_classes_1_percent.zip\n",
        "unzip_data(\"10_food_classes_1_percent.zip\")\n",
        "\n",
        "# Create training and test dirs\n",
        "train_dir_1_percent = \"10_food_classes_1_percent/train/\"\n",
        "test_dir = \"10_food_classes_1_percent/test/\""
      ]
    },
    {
      "cell_type": "markdown",
      "metadata": {
        "id": "5q7L4OzduC-4"
      },
      "source": [
        "Walking through the directory"
      ]
    },
    {
      "cell_type": "code",
      "execution_count": null,
      "metadata": {
        "colab": {
          "base_uri": "https://localhost:8080/"
        },
        "id": "FeTavCBCuG_Y",
        "outputId": "5024edc4-dc02-466b-a1dc-d1b346b527d0"
      },
      "outputs": [
        {
          "name": "stdout",
          "output_type": "stream",
          "text": [
            "There are 2 directories and 0 files in '10_food_classes_1_percent'\n",
            "There are 10 directories and 0 files in '10_food_classes_1_percent/test'\n",
            "There are 0 directories and 250 files in '10_food_classes_1_percent/test/steak'\n",
            "There are 0 directories and 250 files in '10_food_classes_1_percent/test/ice_cream'\n",
            "There are 0 directories and 250 files in '10_food_classes_1_percent/test/hamburger'\n",
            "There are 0 directories and 250 files in '10_food_classes_1_percent/test/chicken_wings'\n",
            "There are 0 directories and 250 files in '10_food_classes_1_percent/test/chicken_curry'\n",
            "There are 0 directories and 250 files in '10_food_classes_1_percent/test/pizza'\n",
            "There are 0 directories and 250 files in '10_food_classes_1_percent/test/grilled_salmon'\n",
            "There are 0 directories and 250 files in '10_food_classes_1_percent/test/ramen'\n",
            "There are 0 directories and 250 files in '10_food_classes_1_percent/test/sushi'\n",
            "There are 0 directories and 250 files in '10_food_classes_1_percent/test/fried_rice'\n",
            "There are 10 directories and 0 files in '10_food_classes_1_percent/train'\n",
            "There are 0 directories and 7 files in '10_food_classes_1_percent/train/steak'\n",
            "There are 0 directories and 7 files in '10_food_classes_1_percent/train/ice_cream'\n",
            "There are 0 directories and 7 files in '10_food_classes_1_percent/train/hamburger'\n",
            "There are 0 directories and 7 files in '10_food_classes_1_percent/train/chicken_wings'\n",
            "There are 0 directories and 7 files in '10_food_classes_1_percent/train/chicken_curry'\n",
            "There are 0 directories and 7 files in '10_food_classes_1_percent/train/pizza'\n",
            "There are 0 directories and 7 files in '10_food_classes_1_percent/train/grilled_salmon'\n",
            "There are 0 directories and 7 files in '10_food_classes_1_percent/train/ramen'\n",
            "There are 0 directories and 7 files in '10_food_classes_1_percent/train/sushi'\n",
            "There are 0 directories and 7 files in '10_food_classes_1_percent/train/fried_rice'\n"
          ]
        }
      ],
      "source": [
        "walk_through_dir(\"10_food_classes_1_percent\")"
      ]
    },
    {
      "cell_type": "markdown",
      "metadata": {
        "id": "TITOR3EAuMd4"
      },
      "source": [
        "So we have 7 images per class in training set for directory `10_food_classes_1_percent` and test set are still the same"
      ]
    },
    {
      "cell_type": "markdown",
      "metadata": {
        "id": "inHmS-PeuZjI"
      },
      "source": [
        "Time to load our images in as `tf.data.Dataset` objects, to do so, we'll use the `image_dataset_from_directory()` method"
      ]
    },
    {
      "cell_type": "code",
      "execution_count": null,
      "metadata": {
        "colab": {
          "base_uri": "https://localhost:8080/"
        },
        "id": "164rbbTGvFCC",
        "outputId": "96b8d516-1e7f-4c08-c279-806a58878d2d"
      },
      "outputs": [
        {
          "name": "stdout",
          "output_type": "stream",
          "text": [
            "Found 70 files belonging to 10 classes.\n",
            "Found 2500 files belonging to 10 classes.\n"
          ]
        }
      ],
      "source": [
        "import tensorflow as tf\n",
        "IMG_SIZE = (224, 224)\n",
        "\n",
        "train_data_1_percent = tf.keras.preprocessing.image_dataset_from_directory(train_dir_1_percent,\n",
        "                                                                           label_mode='categorical',\n",
        "                                                                           batch_size=32,\n",
        "                                                                           image_size=IMG_SIZE)\n",
        "\n",
        "test_data = tf.keras.preprocessing.image_dataset_from_directory(test_dir,\n",
        "                                                                label_mode='categorical',\n",
        "                                                                image_size=IMG_SIZE)"
      ]
    },
    {
      "cell_type": "markdown",
      "metadata": {
        "id": "a931r2Hzviq8"
      },
      "source": [
        "Data Loaded, Time to augment it."
      ]
    },
    {
      "cell_type": "markdown",
      "metadata": {
        "id": "0F4iek0_wRlK"
      },
      "source": [
        "### Adding data augmentation right into the model"
      ]
    },
    {
      "cell_type": "markdown",
      "metadata": {
        "id": "zKoZMmTcwVbs"
      },
      "source": [
        "Previously we've used the different parameters of the `ImageDataGenerator` class to augment our training images, this time we're going to build data augmentation right into the model.\n",
        "\n",
        "How ?\n",
        "\n",
        "Using the [`tf.keras.layers.experimental.preprocessing`](https://www.tensorflow.org/api_docs/python/tf/keras/layers/experimental/preprocessing) module and creating a dedicated data augmentation layer.\n",
        "\n",
        "This a relatively new feature added to TensorFlow 2.2+ but it's very powerful. Adding a data augmentation layers to the model has the following benefits:\n",
        "- Preprocessing of the images(augmenting them) happens on the GPU rather than on the CPU(much faster)\n",
        "  - Images are best preprocessed on the GPU where as text and structured data are more suited to be preprocessed on the CPU.\n",
        "- Image data augmentation only happens during training so we can still export our whole model and use it elsewhere. And if someone else wanted to train the same model as us, including the same kind of data augmentation, they could.\n",
        "\n",
        "To use data augmentation right within our model we'll create a Keras Sequential model consisting of only data preprocessing layers, we can then use this Sequential model within another Functional model.\n",
        "\n",
        "The data augmentation transformations we're going to use are:\n",
        "- [RandomFlip](https://www.tensorflow.org/api_docs/python/tf/keras/layers/experimental/preprocessing/RandomFlip)\n",
        "- [RandomRotation](https://www.tensorflow.org/api_docs/python/tf/keras/layers/experimental/preprocessing/RandomRotation)\n",
        "- [RandomZoom](https://www.tensorflow.org/api_docs/python/tf/keras/layers/experimental/preprocessing/RandomZoom)\n",
        "- [RandomHeight](https://www.tensorflow.org/api_docs/python/tf/keras/layers/experimental/preprocessing/RandomHeight)\n",
        "- [RandomWidth](https://www.tensorflow.org/api_docs/python/tf/keras/layers/experimental/preprocessing/RandomWidth)\n",
        "- [Rescaling](https://www.tensorflow.org/api_docs/python/tf/keras/layers/experimental/preprocessing/Rescaling)\n",
        "\n",
        "There are more options but these will do for now."
      ]
    },
    {
      "cell_type": "code",
      "execution_count": null,
      "metadata": {
        "id": "XrW7nsvx8WLb"
      },
      "outputs": [],
      "source": [
        "import tensorflow as tf\n",
        "from tensorflow import keras\n",
        "from tensorflow.keras import layers\n",
        "from tensorflow.keras.layers.experimental import preprocessing\n",
        "\n",
        "# Create a data augmentation stage with horizontal flipping, rotations, zooms\n",
        "data_augmentation = keras.Sequential([\n",
        "    preprocessing.RandomFlip('horizontal'),\n",
        "    preprocessing.RandomRotation(0.2),\n",
        "    preprocessing.RandomZoom(0.2),\n",
        "    preprocessing.RandomHeight(0.2),\n",
        "    preprocessing.RandomWidth(0.2),\n",
        "    #preprocessing.Rescaling(1./255) # Keep for ResNet50V2, remove for EfficientNetB0\n",
        "], name='data_augmentation')"
      ]
    },
    {
      "cell_type": "markdown",
      "metadata": {
        "id": "2b8h9C1V9H6j"
      },
      "source": [
        "And that's it! Our data augmentation Sequential model is ready to go. As you'll see shortly, we'll be able to slot this \"model\" as a layer into our transfer learning model later on.\n",
        "\n",
        "But before we do that, let's test it out by passing random images through it."
      ]
    },
    {
      "cell_type": "code",
      "execution_count": null,
      "metadata": {
        "colab": {
          "base_uri": "https://localhost:8080/",
          "height": 528
        },
        "id": "5voLCQVdtF8i",
        "outputId": "d3377eb2-1d6e-4b3b-edbd-089b4ee4df0f"
      },
      "outputs": [
        {
          "data": {
            "text/plain": [
              "Text(0.5, 1.0, 'Augmented random image from class: hamburger')"
            ]
          },
          "execution_count": 21,
          "metadata": {},
          "output_type": "execute_result"
        },
        {
          "data": {
            "image/png": "[encoded data removed]",
            "text/plain": [
              "<Figure size 432x288 with 1 Axes>"
            ]
          },
          "metadata": {
            "needs_background": "light"
          },
          "output_type": "display_data"
        },
        {
          "data": {
            "image/png": "[encoded data removed]",
            "text/plain": [
              "<Figure size 432x288 with 1 Axes>"
            ]
          },
          "metadata": {
            "needs_background": "light"
          },
          "output_type": "display_data"
        }
      ],
      "source": [
        "# view a random image\n",
        "import random\n",
        "import os\n",
        "import matplotlib.pyplot as plt\n",
        "import matplotlib.image as mpimg\n",
        "\n",
        "target_class = random.choice(train_data_1_percent.class_names) # choose a random class\n",
        "target_dir = '10_food_classes_1_percent/train/'+ target_class # create the target directry\n",
        "\n",
        "random_image = random.choice(os.listdir(target_dir)) # choose a random image from target directory\n",
        "random_image_path = target_dir + \"/\" + random_image\n",
        "img = mpimg.imread(random_image_path)\n",
        "plt.imshow(img) # plot the image\n",
        "plt.axis(False)\n",
        "plt.title(f\"Original random image from class: {target_class}\");\n",
        "\n",
        "plt.figure()\n",
        "augmented_img = data_augmentation(tf.expand_dims(img, axis=0)) # data augmentation model requires shape (None, height, width, 3)\n",
        "plt.imshow(tf.squeeze(augmented_img)/255.) # requires normalization after augmentation\n",
        "plt.axis(False)\n",
        "plt.title(f\"Augmented random image from class: {target_class}\")"
      ]
    },
    {
      "cell_type": "markdown",
      "metadata": {
        "id": "rCp8nfM7uzqV"
      },
      "source": [
        "### Model 1 : Feature Extraction Transfer Learning with 1% of the data with Data Augmentation"
      ]
    },
    {
      "cell_type": "code",
      "execution_count": null,
      "metadata": {
        "colab": {
          "base_uri": "https://localhost:8080/"
        },
        "id": "52rtctAWwgov",
        "outputId": "a50c5881-971b-4111-d897-3b64fa24bd22"
      },
      "outputs": [
        {
          "name": "stdout",
          "output_type": "stream",
          "text": [
            "Saving Tensorboard log files to: transfer_learning/1_percent_data_aug/20230102-050652\n",
            "Epoch 1/5\n",
            "3/3 [==============================] - 13s 2s/step - loss: 2.3886 - accuracy: 0.1143 - val_loss: 2.2002 - val_accuracy: 0.2105\n",
            "Epoch 2/5\n",
            "3/3 [==============================] - 4s 2s/step - loss: 2.1188 - accuracy: 0.2429 - val_loss: 2.0748 - val_accuracy: 0.3191\n",
            "Epoch 3/5\n",
            "3/3 [==============================] - 6s 3s/step - loss: 1.9474 - accuracy: 0.3714 - val_loss: 1.9530 - val_accuracy: 0.3947\n",
            "Epoch 4/5\n",
            "3/3 [==============================] - 4s 2s/step - loss: 1.7441 - accuracy: 0.5429 - val_loss: 1.8653 - val_accuracy: 0.4293\n",
            "Epoch 5/5\n",
            "3/3 [==============================] - 7s 3s/step - loss: 1.5920 - accuracy: 0.6429 - val_loss: 1.7567 - val_accuracy: 0.4885\n"
          ]
        }
      ],
      "source": [
        "# Setup input shape and base model, freeezing the base model layers\n",
        "input_shape = (224, 224, 3)\n",
        "base_model = tf.keras.applications.EfficientNetB0(include_top=False)\n",
        "base_model.trainable = False\n",
        "\n",
        "# Create input layer\n",
        "inputs = layers.Input(shape=input_shape, name=\"input_layer\")\n",
        "\n",
        "# Add in data augmentation Sequential model as a layer\n",
        "x = data_augmentation(inputs)\n",
        "\n",
        "# Give base_model inputs (after augmentation) and don't train it\n",
        "x = base_model(x, training=False)\n",
        "\n",
        "# Pool output features of base model\n",
        "x= layers.GlobalAveragePooling2D(name=\"global_average_pooling_layer\")(x)\n",
        "\n",
        "# Put a dense layer on as the output\n",
        "outputs = layers.Dense(10, activation=\"softmax\",name=\"output_layer\")(x)\n",
        "\n",
        "# Make a model with inputs and outputs\n",
        "model_1 = keras.Model(inputs, outputs)\n",
        "\n",
        "# compile the model\n",
        "model_1.compile(loss=tf.keras.losses.CategoricalCrossentropy(),\n",
        "                optimizer='Adam',\n",
        "                metrics=['accuracy'])\n",
        "\n",
        "# fit the model\n",
        "history_1_percent = model_1.fit(train_data_1_percent,\n",
        "                                epochs=5,\n",
        "                                steps_per_epoch=len(train_data_1_percent),\n",
        "                                validation_data=test_data,\n",
        "                                validation_steps=int(0.25*len(test_data)), # validate for less steps\n",
        "                                callbacks=[create_tensorboard_callback('transfer_learning', \"1_percent_data_aug\")])"
      ]
    },
    {
      "cell_type": "markdown",
      "metadata": {
        "id": "G0Zt91TNyp4B"
      },
      "source": [
        "If we check out the summary of our model, we should see the data augmentation layer just after the input layer"
      ]
    },
    {
      "cell_type": "code",
      "execution_count": null,
      "metadata": {
        "colab": {
          "base_uri": "https://localhost:8080/"
        },
        "id": "le0nlkkB65kD",
        "outputId": "2c0af62e-0961-48b1-96c6-fef1d27657d7"
      },
      "outputs": [
        {
          "name": "stdout",
          "output_type": "stream",
          "text": [
            "Model: \"model_1\"\n",
            "_________________________________________________________________\n",
            " Layer (type)                Output Shape              Param #   \n",
            "=================================================================\n",
            " input_layer (InputLayer)    [(None, 224, 224, 3)]     0         \n",
            "                                                                 \n",
            " data_augmentation (Sequenti  (None, None, None, 3)    0         \n",
            " al)                                                             \n",
            "                                                                 \n",
            " efficientnetb0 (Functional)  (None, None, None, 1280)  4049571  \n",
            "                                                                 \n",
            " global_average_pooling_laye  (None, 1280)             0         \n",
            " r (GlobalAveragePooling2D)                                      \n",
            "                                                                 \n",
            " output_layer (Dense)        (None, 10)                12810     \n",
            "                                                                 \n",
            "=================================================================\n",
            "Total params: 4,062,381\n",
            "Trainable params: 12,810\n",
            "Non-trainable params: 4,049,571\n",
            "_________________________________________________________________\n"
          ]
        }
      ],
      "source": [
        "model_1.summary()"
      ]
    },
    {
      "cell_type": "markdown",
      "metadata": {
        "id": "l7jlJhDR67FJ"
      },
      "source": [
        "Since we freeze the layers of the efficientnetb0 model, only output layer has trainable params i.e 12810"
      ]
    },
    {
      "cell_type": "code",
      "execution_count": null,
      "metadata": {
        "colab": {
          "base_uri": "https://localhost:8080/"
        },
        "id": "aXPflRG-7FMR",
        "outputId": "7e2df563-ec16-49ac-9b76-4d0c69b98822"
      },
      "outputs": [
        {
          "name": "stdout",
          "output_type": "stream",
          "text": [
            "79/79 [==============================] - 8s 98ms/step - loss: 1.7544 - accuracy: 0.4992\n"
          ]
        },
        {
          "data": {
            "text/plain": [
              "[1.7544012069702148, 0.4991999864578247]"
            ]
          },
          "execution_count": 24,
          "metadata": {},
          "output_type": "execute_result"
        }
      ],
      "source": [
        "# evaluate the model in all test set\n",
        "results_1_percent_data_aug = model_1.evaluate(test_data)\n",
        "results_1_percent_data_aug"
      ]
    },
    {
      "cell_type": "markdown",
      "metadata": {
        "id": "QYN2aNGH7POQ"
      },
      "source": [
        "Let's check out our model's loss curves"
      ]
    },
    {
      "cell_type": "code",
      "execution_count": null,
      "metadata": {
        "colab": {
          "base_uri": "https://localhost:8080/",
          "height": 541
        },
        "id": "SbWRK-EH7V3e",
        "outputId": "feeab4ff-a717-46d2-b794-bcfa6b4bd920"
      },
      "outputs": [
        {
          "data": {
            "image/png": "[encoded data removed]",
            "text/plain": [
              "<Figure size 432x288 with 1 Axes>"
            ]
          },
          "metadata": {
            "needs_background": "light"
          },
          "output_type": "display_data"
        },
        {
          "data": {
            "image/png": "[encoded data removed]",
            "text/plain": [
              "<Figure size 432x288 with 1 Axes>"
            ]
          },
          "metadata": {
            "needs_background": "light"
          },
          "output_type": "display_data"
        }
      ],
      "source": [
        "plot_loss_curves(history_1_percent)"
      ]
    },
    {
      "cell_type": "markdown",
      "metadata": {
        "id": "pj2fsTRT7Yzl"
      },
      "source": [
        "### Model 2: Feature Extraction Transfer Learning with 10% of the data and data augmentation"
      ]
    },
    {
      "cell_type": "code",
      "execution_count": null,
      "metadata": {
        "colab": {
          "base_uri": "https://localhost:8080/"
        },
        "id": "dQrUPRn37h50",
        "outputId": "4d626f1f-5b78-404c-9cca-5c2b16f2dd2d"
      },
      "outputs": [
        {
          "name": "stdout",
          "output_type": "stream",
          "text": [
            "--2023-01-02 05:07:45--  https://storage.googleapis.com/ztm_tf_course/food_vision/10_food_classes_10_percent.zip\n",
            "Resolving storage.googleapis.com (storage.googleapis.com)... 74.125.200.128, 74.125.68.128, 74.125.24.128, ...\n",
            "Connecting to storage.googleapis.com (storage.googleapis.com)|74.125.200.128|:443... connected.\n",
            "HTTP request sent, awaiting response... 200 OK\n",
            "Length: 168546183 (161M) [application/zip]\n",
            "Saving to: ‘10_food_classes_10_percent.zip.1’\n",
            "\n",
            "10_food_classes_10_ 100%[===================>] 160.74M  23.9MB/s    in 7.8s    \n",
            "\n",
            "2023-01-02 05:07:53 (20.7 MB/s) - ‘10_food_classes_10_percent.zip.1’ saved [168546183/168546183]\n",
            "\n"
          ]
        }
      ],
      "source": [
        "# Get 10% of the data of the 10 classes\n",
        "!wget https://storage.googleapis.com/ztm_tf_course/food_vision/10_food_classes_10_percent.zip\n",
        "\n",
        "unzip_data('10_food_classes_10_percent.zip')"
      ]
    },
    {
      "cell_type": "code",
      "execution_count": null,
      "metadata": {
        "colab": {
          "base_uri": "https://localhost:8080/"
        },
        "id": "wJ9i4nljFef2",
        "outputId": "040b3a38-e506-42dd-81e6-fbbc1fc7b2d5"
      },
      "outputs": [
        {
          "name": "stdout",
          "output_type": "stream",
          "text": [
            "There are 2 directories and 0 files in '10_food_classes_10_percent'\n",
            "There are 10 directories and 0 files in '10_food_classes_10_percent/test'\n",
            "There are 0 directories and 250 files in '10_food_classes_10_percent/test/steak'\n",
            "There are 0 directories and 250 files in '10_food_classes_10_percent/test/ice_cream'\n",
            "There are 0 directories and 250 files in '10_food_classes_10_percent/test/hamburger'\n",
            "There are 0 directories and 250 files in '10_food_classes_10_percent/test/chicken_wings'\n",
            "There are 0 directories and 250 files in '10_food_classes_10_percent/test/chicken_curry'\n",
            "There are 0 directories and 250 files in '10_food_classes_10_percent/test/pizza'\n",
            "There are 0 directories and 250 files in '10_food_classes_10_percent/test/grilled_salmon'\n",
            "There are 0 directories and 250 files in '10_food_classes_10_percent/test/ramen'\n",
            "There are 0 directories and 250 files in '10_food_classes_10_percent/test/sushi'\n",
            "There are 0 directories and 250 files in '10_food_classes_10_percent/test/fried_rice'\n",
            "There are 10 directories and 0 files in '10_food_classes_10_percent/train'\n",
            "There are 0 directories and 75 files in '10_food_classes_10_percent/train/steak'\n",
            "There are 0 directories and 75 files in '10_food_classes_10_percent/train/ice_cream'\n",
            "There are 0 directories and 75 files in '10_food_classes_10_percent/train/hamburger'\n",
            "There are 0 directories and 75 files in '10_food_classes_10_percent/train/chicken_wings'\n",
            "There are 0 directories and 75 files in '10_food_classes_10_percent/train/chicken_curry'\n",
            "There are 0 directories and 75 files in '10_food_classes_10_percent/train/pizza'\n",
            "There are 0 directories and 75 files in '10_food_classes_10_percent/train/grilled_salmon'\n",
            "There are 0 directories and 75 files in '10_food_classes_10_percent/train/ramen'\n",
            "There are 0 directories and 75 files in '10_food_classes_10_percent/train/sushi'\n",
            "There are 0 directories and 75 files in '10_food_classes_10_percent/train/fried_rice'\n"
          ]
        }
      ],
      "source": [
        "# Walking through the directory\n",
        "walk_through_dir('10_food_classes_10_percent')"
      ]
    },
    {
      "cell_type": "code",
      "execution_count": null,
      "metadata": {
        "colab": {
          "base_uri": "https://localhost:8080/"
        },
        "id": "pQID5kkvG29C",
        "outputId": "e5787944-534d-4da0-e351-63937d0d4ed0"
      },
      "outputs": [
        {
          "name": "stdout",
          "output_type": "stream",
          "text": [
            "Found 750 files belonging to 10 classes.\n",
            "Found 2500 files belonging to 10 classes.\n"
          ]
        }
      ],
      "source": [
        "# Load the data using keras.preprocessing.image\n",
        "from tensorflow.keras.preprocessing import image_dataset_from_directory\n",
        "\n",
        "train_dir_10_percent = '10_food_classes_10_percent/train/'\n",
        "test_dir = '10_food_classes_10_percent/test/'\n",
        "\n",
        "train_data_10_percent = image_dataset_from_directory(train_dir_10_percent,\n",
        "                                                     label_mode='categorical',\n",
        "                                                     image_size=(224, 224),\n",
        "                                                     batch_size=32)\n",
        "\n",
        "test_data = image_dataset_from_directory(test_dir,\n",
        "                                         label_mode='categorical',\n",
        "                                         image_size=(224, 224),\n",
        "                                         batch_size=32)"
      ]
    },
    {
      "cell_type": "markdown",
      "metadata": {
        "id": "Cu_Oog0KFoAf"
      },
      "source": [
        "Create a data augmentation layer again for 10% dataset, it's not required again, we can reuse the layer that we created for 1% data but this is for practice"
      ]
    },
    {
      "cell_type": "code",
      "execution_count": null,
      "metadata": {
        "id": "QqN234wSGqjB"
      },
      "outputs": [],
      "source": [
        "import tensorflow as tf\n",
        "from tensorflow import keras\n",
        "from tensorflow.keras import layers\n",
        "from tensorflow.keras.layers.experimental import preprocessing\n",
        "\n",
        "data_augmentation_model_2 = keras.Sequential([\n",
        "    preprocessing.RandomFlip('horizontal'),\n",
        "    preprocessing.RandomZoom(0.2),\n",
        "    preprocessing.RandomHeight(0.2),\n",
        "    preprocessing.RandomWidth(0.2),\n",
        "    preprocessing.RandomRotation(0.2),\n",
        "    # rescaling not needed for EfficientNetB0\n",
        "], name='data_augmentation_model_2')"
      ]
    },
    {
      "cell_type": "code",
      "execution_count": null,
      "metadata": {
        "id": "sUiVBdOlH5qH"
      },
      "outputs": [],
      "source": [
        "# Input shape to our model\n",
        "input_shape = (224, 224, 3)\n",
        "\n",
        "# Create the base_model and freeze the layers\n",
        "base_model = tf.keras.applications.EfficientNetB0(include_top=False)\n",
        "base_model.trainable=False\n",
        "\n",
        "# Create input and output layers\n",
        "inputs = layers.Input(shape=input_shape, name='input_layer') # Create input layer\n",
        "x = data_augmentation_model_2(inputs) # augment our training images\n",
        "x = base_model(x, training=False) # pass augmented images to base model but keep it in inference mode, so batchnorm layers don't get updated\n",
        "x = layers.GlobalAveragePooling2D(name='global_average_pooling_layer')(x)\n",
        "outputs = layers.Dense(10, activation='softmax', name='output_layer')(x)\n",
        "model_2 = keras.Model(inputs, outputs)\n",
        "\n",
        "# compile\n",
        "model_2.compile(loss='categorical_crossentropy',\n",
        "                optimizer='Adam',\n",
        "                metrics=['accuracy'])"
      ]
    },
    {
      "cell_type": "markdown",
      "metadata": {
        "id": "KNUbKtOLKz5o"
      },
      "source": [
        "If we notice above, we have set `base_model(x, training=False)`, by setting up `training=False` means that we are saying base_model to run on inference mode and so that batchnormalization layers don't get updated even after we unfreeze the base model for fine-tuning.\n",
        "\n",
        "https://keras.io/guides/transfer_learning/#build-a-model\n",
        "\n",
        "Next our model is compiled and ready to fit, but before that we'll create a modelcheckpoint callback.\n",
        "\n",
        "#### Creating a ModelCheckpoint callback\n",
        "\n",
        "The [ModelCheckpoint](https://www.tensorflow.org/api_docs/python/tf/keras/callbacks/ModelCheckpoint) callback gives you the ability to save your model, as a whole in the [SavedModel](https://www.tensorflow.org/tutorials/keras/save_and_load#save_the_entire_model) format or the [weights(patterns) only](https://www.tensorflow.org/tutorials/keras/save_and_load#manually_save_weights) to a specified directory as it trains.\n",
        "\n",
        "This is helpful if you think your model is going to be training for a long time and you want to make backups of it as it trains. It also means if you think your model could benefit from being trained for longer, you can reload it from a specific checkpoint and continue training from there.\n",
        "\n",
        "For example, say you fit a feature extraction transfer learning model for 5 epochs and you check the training curves and see it was still improving and you want to see if fine-tuning for another 5 epochs could help, you can load the checkpoint, unfreeze some (or all) of the base model layers and then continue training.\n",
        "\n",
        "\n",
        "In fact, that's exactly what we're going to do.\n",
        "\n",
        "Let's create `ModelCheckpoint` callback first,"
      ]
    },
    {
      "cell_type": "code",
      "execution_count": null,
      "metadata": {
        "id": "QJD_kC-pFffO"
      },
      "outputs": [],
      "source": [
        "# setup checkpoint path\n",
        "checkpoint_path = '10_percent_model_checkpoints_weights/checkpoint.cpkt'\n",
        "\n",
        "# Create a modelcheckpoint callback that saves the model's weights only\n",
        "checkpoint_callback = tf.keras.callbacks.ModelCheckpoint(filepath=checkpoint_path,\n",
        "                                                         save_best_only=False, # set True if you want to save only best model\n",
        "                                                         save_weights_only=True, # set to false to save the entire model\n",
        "                                                         save_freq='epoch', # save every epoch\n",
        "                                                         verbose=1)"
      ]
    },
    {
      "cell_type": "markdown",
      "metadata": {
        "id": "w8RBC3edGRHk"
      },
      "source": [
        "> 🤔 **Question**: What is the difference between Saving the entire model (SavedModel format) and saving the weights only ?\n",
        "\n",
        "The [SavedModel](https://www.tensorflow.org/tutorials/keras/save_and_load#save_the_entire_model) format saves a model's architecture, weights and training configuration all in one folder. It makes it very easy to reload your model exactly how it is elsewhere. However, if you do not want to share all of these details with others, you may want to save and share the weights only (these will just be large tensors of non-human interpretable numbers). If disk space is an issue, saving the weights only is faster and takes up less space than saving the whole model.\n",
        "\n",
        "Time to fit the model.\n",
        "\n",
        "Because we're going to be fine-tuning it later, we'll create a variable `initial_epoch` and set it to 5.\n"
      ]
    },
    {
      "cell_type": "code",
      "execution_count": null,
      "metadata": {
        "colab": {
          "base_uri": "https://localhost:8080/"
        },
        "id": "XVI6nwxZHk5v",
        "outputId": "badc2d7e-c8f9-441e-a03f-fe5dd5300825"
      },
      "outputs": [
        {
          "name": "stdout",
          "output_type": "stream",
          "text": [
            "Saving Tensorboard log files to: transfer_learning/10_percent_data_aug/20230102-050758\n",
            "Epoch 1/5\n",
            "24/24 [==============================] - ETA: 0s - loss: 1.9368 - accuracy: 0.3693\n",
            "Epoch 1: saving model to 10_percent_model_checkpoints_weights/checkpoint.cpkt\n",
            "24/24 [==============================] - 23s 633ms/step - loss: 1.9368 - accuracy: 0.3693 - val_loss: 1.4189 - val_accuracy: 0.6859\n",
            "Epoch 2/5\n",
            "24/24 [==============================] - ETA: 0s - loss: 1.2793 - accuracy: 0.7053\n",
            "Epoch 2: saving model to 10_percent_model_checkpoints_weights/checkpoint.cpkt\n",
            "24/24 [==============================] - 13s 527ms/step - loss: 1.2793 - accuracy: 0.7053 - val_loss: 0.9952 - val_accuracy: 0.7697\n",
            "Epoch 3/5\n",
            "24/24 [==============================] - ETA: 0s - loss: 0.9705 - accuracy: 0.7667\n",
            "Epoch 3: saving model to 10_percent_model_checkpoints_weights/checkpoint.cpkt\n",
            "24/24 [==============================] - 11s 428ms/step - loss: 0.9705 - accuracy: 0.7667 - val_loss: 0.8043 - val_accuracy: 0.8158\n",
            "Epoch 4/5\n",
            "24/24 [==============================] - ETA: 0s - loss: 0.8349 - accuracy: 0.7907\n",
            "Epoch 4: saving model to 10_percent_model_checkpoints_weights/checkpoint.cpkt\n",
            "24/24 [==============================] - 10s 423ms/step - loss: 0.8349 - accuracy: 0.7907 - val_loss: 0.7084 - val_accuracy: 0.8322\n",
            "Epoch 5/5\n",
            "24/24 [==============================] - ETA: 0s - loss: 0.7335 - accuracy: 0.8213\n",
            "Epoch 5: saving model to 10_percent_model_checkpoints_weights/checkpoint.cpkt\n",
            "24/24 [==============================] - 14s 547ms/step - loss: 0.7335 - accuracy: 0.8213 - val_loss: 0.6663 - val_accuracy: 0.8289\n"
          ]
        }
      ],
      "source": [
        "# fit the model saving checkpoints every epoch\n",
        "initial_epochs = 5\n",
        "history_10_percent_data_aug = model_2.fit(train_data_10_percent,\n",
        "                                          epochs=initial_epochs,\n",
        "                                          validation_data=test_data,\n",
        "                                          validation_steps=int(0.25*len(test_data)),\n",
        "                                          callbacks=[create_tensorboard_callback(\"transfer_learning\",\n",
        "                                                                                 \"10_percent_data_aug\"),\n",
        "                                                     checkpoint_callback])"
      ]
    },
    {
      "cell_type": "markdown",
      "metadata": {
        "id": "ZIFA9cvDISxM"
      },
      "source": [
        "Looks like our `ModelCheckpoint` worked and our model saved its weights every epoch without too much overhead (saving the whole model takes longer than just the weights)\n",
        "\n",
        "Let's evaluate our model and check its loss curves."
      ]
    },
    {
      "cell_type": "code",
      "execution_count": null,
      "metadata": {
        "colab": {
          "base_uri": "https://localhost:8080/"
        },
        "id": "V9UgHITxIy__",
        "outputId": "7f9fca1c-7bc5-4336-823f-544bad7d6d1d"
      },
      "outputs": [
        {
          "name": "stdout",
          "output_type": "stream",
          "text": [
            "79/79 [==============================] - 9s 103ms/step - loss: 0.6234 - accuracy: 0.8408\n"
          ]
        },
        {
          "data": {
            "text/plain": [
              "[0.6234309673309326, 0.8407999873161316]"
            ]
          },
          "execution_count": 33,
          "metadata": {},
          "output_type": "execute_result"
        }
      ],
      "source": [
        "results_10_percent_data_aug = model_2.evaluate(test_data)\n",
        "results_10_percent_data_aug"
      ]
    },
    {
      "cell_type": "code",
      "execution_count": null,
      "metadata": {
        "colab": {
          "base_uri": "https://localhost:8080/",
          "height": 545
        },
        "id": "LPyNwNjgI5iC",
        "outputId": "b3bb5b59-3c74-4061-8b1e-bb7d4e733be4"
      },
      "outputs": [
        {
          "data": {
            "image/png": "[encoded data removed]",
            "text/plain": [
              "<Figure size 432x288 with 1 Axes>"
            ]
          },
          "metadata": {
            "needs_background": "light"
          },
          "output_type": "display_data"
        },
        {
          "data": {
            "image/png": "[encoded data removed]",
            "text/plain": [
              "<Figure size 432x288 with 1 Axes>"
            ]
          },
          "metadata": {
            "needs_background": "light"
          },
          "output_type": "display_data"
        }
      ],
      "source": [
        "# Plot the loss curves\n",
        "plot_loss_curves(history_10_percent_data_aug)"
      ]
    },
    {
      "cell_type": "markdown",
      "metadata": {
        "id": "HNdCzwlXJAhC"
      },
      "source": [
        "To load saved weights you can use the `load_weights()` method, passing it the path where your saved weights are stored."
      ]
    },
    {
      "cell_type": "code",
      "execution_count": null,
      "metadata": {
        "colab": {
          "base_uri": "https://localhost:8080/"
        },
        "id": "7MMCHD_VJffj",
        "outputId": "24b195a6-8555-47fd-c97a-8b5f9be0a7c0"
      },
      "outputs": [
        {
          "name": "stdout",
          "output_type": "stream",
          "text": [
            "79/79 [==============================] - 9s 110ms/step - loss: 0.6234 - accuracy: 0.8408\n"
          ]
        }
      ],
      "source": [
        "model_2.load_weights(checkpoint_path)\n",
        "loaded_weights_model_results = model_2.evaluate(test_data)"
      ]
    },
    {
      "cell_type": "code",
      "execution_count": null,
      "metadata": {
        "colab": {
          "base_uri": "https://localhost:8080/"
        },
        "id": "wfime1IwJnmS",
        "outputId": "8b383890-3501-4bb0-893a-64fe3261525e"
      },
      "outputs": [
        {
          "data": {
            "text/plain": [
              "[0.6234309673309326, 0.8407999873161316]"
            ]
          },
          "execution_count": 36,
          "metadata": {},
          "output_type": "execute_result"
        }
      ],
      "source": [
        "results_10_percent_data_aug"
      ]
    },
    {
      "cell_type": "markdown",
      "metadata": {
        "id": "HkEruhhoJu2v"
      },
      "source": [
        "If we compare both the results,"
      ]
    },
    {
      "cell_type": "code",
      "execution_count": null,
      "metadata": {
        "colab": {
          "base_uri": "https://localhost:8080/"
        },
        "id": "iCffQXORJz4_",
        "outputId": "edd2affa-aeac-421b-894a-df8016d2851f"
      },
      "outputs": [
        {
          "data": {
            "text/plain": [
              "False"
            ]
          },
          "execution_count": 37,
          "metadata": {},
          "output_type": "execute_result"
        }
      ],
      "source": [
        "results_10_percent_data_aug == loaded_weights_model_results"
      ]
    },
    {
      "cell_type": "markdown",
      "metadata": {
        "id": "xvTVp9qgJ3xT"
      },
      "source": [
        "It's showing False because of the decimal precision but if use a function called `np.isclose` which compare based on tolerence, we can verify that,"
      ]
    },
    {
      "cell_type": "code",
      "execution_count": null,
      "metadata": {
        "colab": {
          "base_uri": "https://localhost:8080/"
        },
        "id": "9obtpcUlKGGW",
        "outputId": "71fbdd9f-0fad-40d1-bd2d-a2644d4cd51d"
      },
      "outputs": [
        {
          "data": {
            "text/plain": [
              "array([ True,  True])"
            ]
          },
          "execution_count": 38,
          "metadata": {},
          "output_type": "execute_result"
        }
      ],
      "source": [
        "import numpy as np\n",
        "np.isclose(np.array(results_10_percent_data_aug), np.array(loaded_weights_model_results))"
      ]
    },
    {
      "cell_type": "code",
      "execution_count": null,
      "metadata": {
        "colab": {
          "base_uri": "https://localhost:8080/"
        },
        "id": "wWJTan9kKOIf",
        "outputId": "e4afdc75-8c8d-4031-e09d-3e4186947eee"
      },
      "outputs": [
        {
          "name": "stdout",
          "output_type": "stream",
          "text": [
            "[-2.98023224e-07  0.00000000e+00]\n"
          ]
        }
      ],
      "source": [
        "# Check the difference between the two results\n",
        "print(np.array(results_10_percent_data_aug) - np.array(loaded_weights_model_results))"
      ]
    },
    {
      "cell_type": "markdown",
      "metadata": {
        "id": "11mu0vsYKVyj"
      },
      "source": [
        "### Model 3: Fine-Tuning an existing model on 10% of the data\n",
        "\n",
        "*High-level example of fine-tuning an EfficientNet model. Bottom Layers(layers closer to input data) stay frozen where as top layers(layers closer to the output data) are updated during training.*\n",
        "\n",
        "So far our saved model has been trained using feature extraction transfer learning for 5 epochs on 10% of the training data and data augmentation.\n",
        "\n",
        "This means all of the layers of Base Model (EfficientNetB0) were frozen during training.\n",
        "\n",
        "For our next experiment we're going to switch to fine-tuning transfer learning. This means we'll be using the same base model except we'll be unfreezing some of its layers (ones closest to the top) and running the model for a few more epochs.\n",
        "\n",
        "The idea with fine-tuning is to start customizing the pre-trained model more to our own data.\n",
        "\n",
        "> 🔑 **Note**: Fine tuning usually works best after training a feature extraction model for a few epochs and with large amounts of data. For more on this, check out [Keras guide on Transfer Leanrning & fine-tuning](https://keras.io/guides/transfer_learning/)\n",
        "\n",
        "We've verified our loaded model's performance, let's check out its layers."
      ]
    },
    {
      "cell_type": "code",
      "execution_count": null,
      "metadata": {
        "colab": {
          "base_uri": "https://localhost:8080/"
        },
        "id": "JKLYN7SsN3g0",
        "outputId": "08fe6cb5-e041-4aba-e297-05bdb8ed16e6"
      },
      "outputs": [
        {
          "data": {
            "text/plain": [
              "[<keras.engine.input_layer.InputLayer at 0x7fb51777c8b0>,\n",
              " <keras.engine.sequential.Sequential at 0x7fb5175c43d0>,\n",
              " <keras.engine.functional.Functional at 0x7fb5173b58e0>,\n",
              " <keras.layers.pooling.global_average_pooling2d.GlobalAveragePooling2D at 0x7fb5175cc5e0>,\n",
              " <keras.layers.core.dense.Dense at 0x7fb51735f160>]"
            ]
          },
          "execution_count": 40,
          "metadata": {},
          "output_type": "execute_result"
        }
      ],
      "source": [
        "# Layers in loaded model\n",
        "model_2.layers"
      ]
    },
    {
      "cell_type": "markdown",
      "metadata": {
        "id": "6S_3UhyBN-nr"
      },
      "source": [
        "So we can see have 5 main layers, which are in order as,\n",
        "- Input Layer which have the input shape\n",
        "- Sequential Layer, responsible for data augmentation with our inputs\n",
        "- Functional API Layer, contains the base model\n",
        "- GlobalAveragePooling2D layer for feature extraction, it extracted the features from the base model\n",
        "- Dense layer is our output layer"
      ]
    },
    {
      "cell_type": "markdown",
      "metadata": {
        "id": "j7lUO7ULOkbH"
      },
      "source": [
        "If we see which layer is trainable and which not"
      ]
    },
    {
      "cell_type": "code",
      "execution_count": null,
      "metadata": {
        "colab": {
          "base_uri": "https://localhost:8080/"
        },
        "id": "NeyVVNl1Os1X",
        "outputId": "4199dd9b-7bbd-47ac-fa97-ef7de80a8b5e"
      },
      "outputs": [
        {
          "name": "stdout",
          "output_type": "stream",
          "text": [
            "True\n",
            "True\n",
            "False\n",
            "True\n",
            "True\n"
          ]
        }
      ],
      "source": [
        "for layer in model_2.layers:\n",
        "  print(layer.trainable)"
      ]
    },
    {
      "cell_type": "markdown",
      "metadata": {
        "id": "8bsgHKvsOv4N"
      },
      "source": [
        "How about the summary?"
      ]
    },
    {
      "cell_type": "code",
      "execution_count": null,
      "metadata": {
        "colab": {
          "base_uri": "https://localhost:8080/"
        },
        "id": "7YMn6DJRPG6J",
        "outputId": "ea1ac140-41dc-4283-c6a4-f375ae161970"
      },
      "outputs": [
        {
          "name": "stdout",
          "output_type": "stream",
          "text": [
            "Model: \"model_2\"\n",
            "_________________________________________________________________\n",
            " Layer (type)                Output Shape              Param #   \n",
            "=================================================================\n",
            " input_layer (InputLayer)    [(None, 224, 224, 3)]     0         \n",
            "                                                                 \n",
            " data_augmentation_model_2 (  (None, 224, 224, 3)      0         \n",
            " Sequential)                                                     \n",
            "                                                                 \n",
            " efficientnetb0 (Functional)  (None, None, None, 1280)  4049571  \n",
            "                                                                 \n",
            " global_average_pooling_laye  (None, 1280)             0         \n",
            " r (GlobalAveragePooling2D)                                      \n",
            "                                                                 \n",
            " output_layer (Dense)        (None, 10)                12810     \n",
            "                                                                 \n",
            "=================================================================\n",
            "Total params: 4,062,381\n",
            "Trainable params: 12,810\n",
            "Non-trainable params: 4,049,571\n",
            "_________________________________________________________________\n"
          ]
        }
      ],
      "source": [
        "model_2.summary()"
      ]
    },
    {
      "cell_type": "markdown",
      "metadata": {
        "id": "OBZhbE4LPIT2"
      },
      "source": [
        "It looks like all the layers in the `efficientnetb0` layer are frozen. We can confirm this using the `trainable_variables` attribute."
      ]
    },
    {
      "cell_type": "code",
      "execution_count": null,
      "metadata": {
        "colab": {
          "base_uri": "https://localhost:8080/"
        },
        "id": "ujA8sstyQGQx",
        "outputId": "c27cb06b-2606-45a9-ba4c-005e67306d26"
      },
      "outputs": [
        {
          "name": "stdout",
          "output_type": "stream",
          "text": [
            "0\n"
          ]
        }
      ],
      "source": [
        "print(len(base_model.trainable_variables))"
      ]
    },
    {
      "cell_type": "markdown",
      "metadata": {
        "id": "Kcgx7t6pQO_P"
      },
      "source": [
        "We can even check layer by layer to see if they're trainable."
      ]
    },
    {
      "cell_type": "code",
      "execution_count": null,
      "metadata": {
        "colab": {
          "base_uri": "https://localhost:8080/"
        },
        "id": "ViBYmAu7Qcae",
        "outputId": "76afe2f7-f795-49b9-f9f8-434829453931"
      },
      "outputs": [
        {
          "name": "stdout",
          "output_type": "stream",
          "text": [
            "0 input_3 False\n",
            "1 rescaling_2 False\n",
            "2 normalization_2 False\n",
            "3 tf.math.truediv_2 False\n",
            "4 stem_conv_pad False\n",
            "5 stem_conv False\n",
            "6 stem_bn False\n",
            "7 stem_activation False\n",
            "8 block1a_dwconv False\n",
            "9 block1a_bn False\n",
            "10 block1a_activation False\n",
            "11 block1a_se_squeeze False\n",
            "12 block1a_se_reshape False\n",
            "13 block1a_se_reduce False\n",
            "14 block1a_se_expand False\n",
            "15 block1a_se_excite False\n",
            "16 block1a_project_conv False\n",
            "17 block1a_project_bn False\n",
            "18 block2a_expand_conv False\n",
            "19 block2a_expand_bn False\n",
            "20 block2a_expand_activation False\n",
            "21 block2a_dwconv_pad False\n",
            "22 block2a_dwconv False\n",
            "23 block2a_bn False\n",
            "24 block2a_activation False\n",
            "25 block2a_se_squeeze False\n",
            "26 block2a_se_reshape False\n",
            "27 block2a_se_reduce False\n",
            "28 block2a_se_expand False\n",
            "29 block2a_se_excite False\n",
            "30 block2a_project_conv False\n",
            "31 block2a_project_bn False\n",
            "32 block2b_expand_conv False\n",
            "33 block2b_expand_bn False\n",
            "34 block2b_expand_activation False\n",
            "35 block2b_dwconv False\n",
            "36 block2b_bn False\n",
            "37 block2b_activation False\n",
            "38 block2b_se_squeeze False\n",
            "39 block2b_se_reshape False\n",
            "40 block2b_se_reduce False\n",
            "41 block2b_se_expand False\n",
            "42 block2b_se_excite False\n",
            "43 block2b_project_conv False\n",
            "44 block2b_project_bn False\n",
            "45 block2b_drop False\n",
            "46 block2b_add False\n",
            "47 block3a_expand_conv False\n",
            "48 block3a_expand_bn False\n",
            "49 block3a_expand_activation False\n",
            "50 block3a_dwconv_pad False\n",
            "51 block3a_dwconv False\n",
            "52 block3a_bn False\n",
            "53 block3a_activation False\n",
            "54 block3a_se_squeeze False\n",
            "55 block3a_se_reshape False\n",
            "56 block3a_se_reduce False\n",
            "57 block3a_se_expand False\n",
            "58 block3a_se_excite False\n",
            "59 block3a_project_conv False\n",
            "60 block3a_project_bn False\n",
            "61 block3b_expand_conv False\n",
            "62 block3b_expand_bn False\n",
            "63 block3b_expand_activation False\n",
            "64 block3b_dwconv False\n",
            "65 block3b_bn False\n",
            "66 block3b_activation False\n",
            "67 block3b_se_squeeze False\n",
            "68 block3b_se_reshape False\n",
            "69 block3b_se_reduce False\n",
            "70 block3b_se_expand False\n",
            "71 block3b_se_excite False\n",
            "72 block3b_project_conv False\n",
            "73 block3b_project_bn False\n",
            "74 block3b_drop False\n",
            "75 block3b_add False\n",
            "76 block4a_expand_conv False\n",
            "77 block4a_expand_bn False\n",
            "78 block4a_expand_activation False\n",
            "79 block4a_dwconv_pad False\n",
            "80 block4a_dwconv False\n",
            "81 block4a_bn False\n",
            "82 block4a_activation False\n",
            "83 block4a_se_squeeze False\n",
            "84 block4a_se_reshape False\n",
            "85 block4a_se_reduce False\n",
            "86 block4a_se_expand False\n",
            "87 block4a_se_excite False\n",
            "88 block4a_project_conv False\n",
            "89 block4a_project_bn False\n",
            "90 block4b_expand_conv False\n",
            "91 block4b_expand_bn False\n",
            "92 block4b_expand_activation False\n",
            "93 block4b_dwconv False\n",
            "94 block4b_bn False\n",
            "95 block4b_activation False\n",
            "96 block4b_se_squeeze False\n",
            "97 block4b_se_reshape False\n",
            "98 block4b_se_reduce False\n",
            "99 block4b_se_expand False\n",
            "100 block4b_se_excite False\n",
            "101 block4b_project_conv False\n",
            "102 block4b_project_bn False\n",
            "103 block4b_drop False\n",
            "104 block4b_add False\n",
            "105 block4c_expand_conv False\n",
            "106 block4c_expand_bn False\n",
            "107 block4c_expand_activation False\n",
            "108 block4c_dwconv False\n",
            "109 block4c_bn False\n",
            "110 block4c_activation False\n",
            "111 block4c_se_squeeze False\n",
            "112 block4c_se_reshape False\n",
            "113 block4c_se_reduce False\n",
            "114 block4c_se_expand False\n",
            "115 block4c_se_excite False\n",
            "116 block4c_project_conv False\n",
            "117 block4c_project_bn False\n",
            "118 block4c_drop False\n",
            "119 block4c_add False\n",
            "120 block5a_expand_conv False\n",
            "121 block5a_expand_bn False\n",
            "122 block5a_expand_activation False\n",
            "123 block5a_dwconv False\n",
            "124 block5a_bn False\n",
            "125 block5a_activation False\n",
            "126 block5a_se_squeeze False\n",
            "127 block5a_se_reshape False\n",
            "128 block5a_se_reduce False\n",
            "129 block5a_se_expand False\n",
            "130 block5a_se_excite False\n",
            "131 block5a_project_conv False\n",
            "132 block5a_project_bn False\n",
            "133 block5b_expand_conv False\n",
            "134 block5b_expand_bn False\n",
            "135 block5b_expand_activation False\n",
            "136 block5b_dwconv False\n",
            "137 block5b_bn False\n",
            "138 block5b_activation False\n",
            "139 block5b_se_squeeze False\n",
            "140 block5b_se_reshape False\n",
            "141 block5b_se_reduce False\n",
            "142 block5b_se_expand False\n",
            "143 block5b_se_excite False\n",
            "144 block5b_project_conv False\n",
            "145 block5b_project_bn False\n",
            "146 block5b_drop False\n",
            "147 block5b_add False\n",
            "148 block5c_expand_conv False\n",
            "149 block5c_expand_bn False\n",
            "150 block5c_expand_activation False\n",
            "151 block5c_dwconv False\n",
            "152 block5c_bn False\n",
            "153 block5c_activation False\n",
            "154 block5c_se_squeeze False\n",
            "155 block5c_se_reshape False\n",
            "156 block5c_se_reduce False\n",
            "157 block5c_se_expand False\n",
            "158 block5c_se_excite False\n",
            "159 block5c_project_conv False\n",
            "160 block5c_project_bn False\n",
            "161 block5c_drop False\n",
            "162 block5c_add False\n",
            "163 block6a_expand_conv False\n",
            "164 block6a_expand_bn False\n",
            "165 block6a_expand_activation False\n",
            "166 block6a_dwconv_pad False\n",
            "167 block6a_dwconv False\n",
            "168 block6a_bn False\n",
            "169 block6a_activation False\n",
            "170 block6a_se_squeeze False\n",
            "171 block6a_se_reshape False\n",
            "172 block6a_se_reduce False\n",
            "173 block6a_se_expand False\n",
            "174 block6a_se_excite False\n",
            "175 block6a_project_conv False\n",
            "176 block6a_project_bn False\n",
            "177 block6b_expand_conv False\n",
            "178 block6b_expand_bn False\n",
            "179 block6b_expand_activation False\n",
            "180 block6b_dwconv False\n",
            "181 block6b_bn False\n",
            "182 block6b_activation False\n",
            "183 block6b_se_squeeze False\n",
            "184 block6b_se_reshape False\n",
            "185 block6b_se_reduce False\n",
            "186 block6b_se_expand False\n",
            "187 block6b_se_excite False\n",
            "188 block6b_project_conv False\n",
            "189 block6b_project_bn False\n",
            "190 block6b_drop False\n",
            "191 block6b_add False\n",
            "192 block6c_expand_conv False\n",
            "193 block6c_expand_bn False\n",
            "194 block6c_expand_activation False\n",
            "195 block6c_dwconv False\n",
            "196 block6c_bn False\n",
            "197 block6c_activation False\n",
            "198 block6c_se_squeeze False\n",
            "199 block6c_se_reshape False\n",
            "200 block6c_se_reduce False\n",
            "201 block6c_se_expand False\n",
            "202 block6c_se_excite False\n",
            "203 block6c_project_conv False\n",
            "204 block6c_project_bn False\n",
            "205 block6c_drop False\n",
            "206 block6c_add False\n",
            "207 block6d_expand_conv False\n",
            "208 block6d_expand_bn False\n",
            "209 block6d_expand_activation False\n",
            "210 block6d_dwconv False\n",
            "211 block6d_bn False\n",
            "212 block6d_activation False\n",
            "213 block6d_se_squeeze False\n",
            "214 block6d_se_reshape False\n",
            "215 block6d_se_reduce False\n",
            "216 block6d_se_expand False\n",
            "217 block6d_se_excite False\n",
            "218 block6d_project_conv False\n",
            "219 block6d_project_bn False\n",
            "220 block6d_drop False\n",
            "221 block6d_add False\n",
            "222 block7a_expand_conv False\n",
            "223 block7a_expand_bn False\n",
            "224 block7a_expand_activation False\n",
            "225 block7a_dwconv False\n",
            "226 block7a_bn False\n",
            "227 block7a_activation False\n",
            "228 block7a_se_squeeze False\n",
            "229 block7a_se_reshape False\n",
            "230 block7a_se_reduce False\n",
            "231 block7a_se_expand False\n",
            "232 block7a_se_excite False\n",
            "233 block7a_project_conv False\n",
            "234 block7a_project_bn False\n",
            "235 top_conv False\n",
            "236 top_bn False\n",
            "237 top_activation False\n"
          ]
        }
      ],
      "source": [
        "for layer_number, layer in enumerate(base_model.layers):\n",
        "  print(layer_number, layer.name, layer.trainable)"
      ]
    },
    {
      "cell_type": "markdown",
      "metadata": {
        "id": "a2p22t5sQj7h"
      },
      "source": [
        "Now, to fine-tune the base model to our own data, we're going to unfreeze the top 10 layers and continue training our model for another 5 epochs.\n",
        "\n",
        "This means all of the base model's layers except for the last 10 will remain frozen and untrainable. And the weights in the remaining unfrozen layers will be updated during training.\n",
        "\n",
        "Ideally, we should see the model's performance improve.\n",
        "\n",
        "> **Question**: How many layers should you unfreeze when training?\n",
        "\n",
        "There's no set rule for this. You could unfreeze every layer in the pretrained model or you could try unfreezing one layer at a time. Best to experiment with different amounts of unfreezing and fine-tuning to see what happens. Generally, the less data you have, the less layers you want to unfreeze and the more gradually you want to fine-tune.\n",
        "\n",
        "> 📖 **Resource**: The [ULMFiT (Universal Language Model Fine-tuning](https://arxiv.org/abs/1801.06146) for Text Classification) paper has a great series of experiments on fine-tuning models.\n",
        "\n",
        "To begin fine-tuning, we'll unfreeze the entire base model by setting its `trainable` attribute to `True`. Then we'll refreeze every layer in the base model except for the last 10 by looping through them and setting their `trainable` attribute to `False`. Finally, we'll recompile the model."
      ]
    },
    {
      "cell_type": "code",
      "execution_count": null,
      "metadata": {
        "id": "JHMMJQgAR1yz"
      },
      "outputs": [],
      "source": [
        "base_model.trainable = True\n",
        "\n",
        "# Freeze all layers except for the top 10\n",
        "for layer in base_model.layers[:-10]:\n",
        "  layer.trainable=False\n",
        "\n",
        "# Recompile the model (always recompile after any adjustments to a model)\n",
        "model_2.compile(loss='categorical_crossentropy',\n",
        "                metrics=['accuracy'],\n",
        "                optimizer=tf.keras.optimizers.Adam(learning_rate=0.0001)) # lr is 10x lower than before for fine-tuning"
      ]
    },
    {
      "cell_type": "markdown",
      "metadata": {
        "id": "jMU2FuheS051"
      },
      "source": [
        "Now, let's check which layers of the pretrained model are trainable."
      ]
    },
    {
      "cell_type": "code",
      "execution_count": null,
      "metadata": {
        "colab": {
          "base_uri": "https://localhost:8080/"
        },
        "id": "o9MHx704S8b4",
        "outputId": "69a434c3-6403-4895-8bb6-8607e0d97743"
      },
      "outputs": [
        {
          "name": "stdout",
          "output_type": "stream",
          "text": [
            "0 input_3 False\n",
            "1 rescaling_2 False\n",
            "2 normalization_2 False\n",
            "3 tf.math.truediv_2 False\n",
            "4 stem_conv_pad False\n",
            "5 stem_conv False\n",
            "6 stem_bn False\n",
            "7 stem_activation False\n",
            "8 block1a_dwconv False\n",
            "9 block1a_bn False\n",
            "10 block1a_activation False\n",
            "11 block1a_se_squeeze False\n",
            "12 block1a_se_reshape False\n",
            "13 block1a_se_reduce False\n",
            "14 block1a_se_expand False\n",
            "15 block1a_se_excite False\n",
            "16 block1a_project_conv False\n",
            "17 block1a_project_bn False\n",
            "18 block2a_expand_conv False\n",
            "19 block2a_expand_bn False\n",
            "20 block2a_expand_activation False\n",
            "21 block2a_dwconv_pad False\n",
            "22 block2a_dwconv False\n",
            "23 block2a_bn False\n",
            "24 block2a_activation False\n",
            "25 block2a_se_squeeze False\n",
            "26 block2a_se_reshape False\n",
            "27 block2a_se_reduce False\n",
            "28 block2a_se_expand False\n",
            "29 block2a_se_excite False\n",
            "30 block2a_project_conv False\n",
            "31 block2a_project_bn False\n",
            "32 block2b_expand_conv False\n",
            "33 block2b_expand_bn False\n",
            "34 block2b_expand_activation False\n",
            "35 block2b_dwconv False\n",
            "36 block2b_bn False\n",
            "37 block2b_activation False\n",
            "38 block2b_se_squeeze False\n",
            "39 block2b_se_reshape False\n",
            "40 block2b_se_reduce False\n",
            "41 block2b_se_expand False\n",
            "42 block2b_se_excite False\n",
            "43 block2b_project_conv False\n",
            "44 block2b_project_bn False\n",
            "45 block2b_drop False\n",
            "46 block2b_add False\n",
            "47 block3a_expand_conv False\n",
            "48 block3a_expand_bn False\n",
            "49 block3a_expand_activation False\n",
            "50 block3a_dwconv_pad False\n",
            "51 block3a_dwconv False\n",
            "52 block3a_bn False\n",
            "53 block3a_activation False\n",
            "54 block3a_se_squeeze False\n",
            "55 block3a_se_reshape False\n",
            "56 block3a_se_reduce False\n",
            "57 block3a_se_expand False\n",
            "58 block3a_se_excite False\n",
            "59 block3a_project_conv False\n",
            "60 block3a_project_bn False\n",
            "61 block3b_expand_conv False\n",
            "62 block3b_expand_bn False\n",
            "63 block3b_expand_activation False\n",
            "64 block3b_dwconv False\n",
            "65 block3b_bn False\n",
            "66 block3b_activation False\n",
            "67 block3b_se_squeeze False\n",
            "68 block3b_se_reshape False\n",
            "69 block3b_se_reduce False\n",
            "70 block3b_se_expand False\n",
            "71 block3b_se_excite False\n",
            "72 block3b_project_conv False\n",
            "73 block3b_project_bn False\n",
            "74 block3b_drop False\n",
            "75 block3b_add False\n",
            "76 block4a_expand_conv False\n",
            "77 block4a_expand_bn False\n",
            "78 block4a_expand_activation False\n",
            "79 block4a_dwconv_pad False\n",
            "80 block4a_dwconv False\n",
            "81 block4a_bn False\n",
            "82 block4a_activation False\n",
            "83 block4a_se_squeeze False\n",
            "84 block4a_se_reshape False\n",
            "85 block4a_se_reduce False\n",
            "86 block4a_se_expand False\n",
            "87 block4a_se_excite False\n",
            "88 block4a_project_conv False\n",
            "89 block4a_project_bn False\n",
            "90 block4b_expand_conv False\n",
            "91 block4b_expand_bn False\n",
            "92 block4b_expand_activation False\n",
            "93 block4b_dwconv False\n",
            "94 block4b_bn False\n",
            "95 block4b_activation False\n",
            "96 block4b_se_squeeze False\n",
            "97 block4b_se_reshape False\n",
            "98 block4b_se_reduce False\n",
            "99 block4b_se_expand False\n",
            "100 block4b_se_excite False\n",
            "101 block4b_project_conv False\n",
            "102 block4b_project_bn False\n",
            "103 block4b_drop False\n",
            "104 block4b_add False\n",
            "105 block4c_expand_conv False\n",
            "106 block4c_expand_bn False\n",
            "107 block4c_expand_activation False\n",
            "108 block4c_dwconv False\n",
            "109 block4c_bn False\n",
            "110 block4c_activation False\n",
            "111 block4c_se_squeeze False\n",
            "112 block4c_se_reshape False\n",
            "113 block4c_se_reduce False\n",
            "114 block4c_se_expand False\n",
            "115 block4c_se_excite False\n",
            "116 block4c_project_conv False\n",
            "117 block4c_project_bn False\n",
            "118 block4c_drop False\n",
            "119 block4c_add False\n",
            "120 block5a_expand_conv False\n",
            "121 block5a_expand_bn False\n",
            "122 block5a_expand_activation False\n",
            "123 block5a_dwconv False\n",
            "124 block5a_bn False\n",
            "125 block5a_activation False\n",
            "126 block5a_se_squeeze False\n",
            "127 block5a_se_reshape False\n",
            "128 block5a_se_reduce False\n",
            "129 block5a_se_expand False\n",
            "130 block5a_se_excite False\n",
            "131 block5a_project_conv False\n",
            "132 block5a_project_bn False\n",
            "133 block5b_expand_conv False\n",
            "134 block5b_expand_bn False\n",
            "135 block5b_expand_activation False\n",
            "136 block5b_dwconv False\n",
            "137 block5b_bn False\n",
            "138 block5b_activation False\n",
            "139 block5b_se_squeeze False\n",
            "140 block5b_se_reshape False\n",
            "141 block5b_se_reduce False\n",
            "142 block5b_se_expand False\n",
            "143 block5b_se_excite False\n",
            "144 block5b_project_conv False\n",
            "145 block5b_project_bn False\n",
            "146 block5b_drop False\n",
            "147 block5b_add False\n",
            "148 block5c_expand_conv False\n",
            "149 block5c_expand_bn False\n",
            "150 block5c_expand_activation False\n",
            "151 block5c_dwconv False\n",
            "152 block5c_bn False\n",
            "153 block5c_activation False\n",
            "154 block5c_se_squeeze False\n",
            "155 block5c_se_reshape False\n",
            "156 block5c_se_reduce False\n",
            "157 block5c_se_expand False\n",
            "158 block5c_se_excite False\n",
            "159 block5c_project_conv False\n",
            "160 block5c_project_bn False\n",
            "161 block5c_drop False\n",
            "162 block5c_add False\n",
            "163 block6a_expand_conv False\n",
            "164 block6a_expand_bn False\n",
            "165 block6a_expand_activation False\n",
            "166 block6a_dwconv_pad False\n",
            "167 block6a_dwconv False\n",
            "168 block6a_bn False\n",
            "169 block6a_activation False\n",
            "170 block6a_se_squeeze False\n",
            "171 block6a_se_reshape False\n",
            "172 block6a_se_reduce False\n",
            "173 block6a_se_expand False\n",
            "174 block6a_se_excite False\n",
            "175 block6a_project_conv False\n",
            "176 block6a_project_bn False\n",
            "177 block6b_expand_conv False\n",
            "178 block6b_expand_bn False\n",
            "179 block6b_expand_activation False\n",
            "180 block6b_dwconv False\n",
            "181 block6b_bn False\n",
            "182 block6b_activation False\n",
            "183 block6b_se_squeeze False\n",
            "184 block6b_se_reshape False\n",
            "185 block6b_se_reduce False\n",
            "186 block6b_se_expand False\n",
            "187 block6b_se_excite False\n",
            "188 block6b_project_conv False\n",
            "189 block6b_project_bn False\n",
            "190 block6b_drop False\n",
            "191 block6b_add False\n",
            "192 block6c_expand_conv False\n",
            "193 block6c_expand_bn False\n",
            "194 block6c_expand_activation False\n",
            "195 block6c_dwconv False\n",
            "196 block6c_bn False\n",
            "197 block6c_activation False\n",
            "198 block6c_se_squeeze False\n",
            "199 block6c_se_reshape False\n",
            "200 block6c_se_reduce False\n",
            "201 block6c_se_expand False\n",
            "202 block6c_se_excite False\n",
            "203 block6c_project_conv False\n",
            "204 block6c_project_bn False\n",
            "205 block6c_drop False\n",
            "206 block6c_add False\n",
            "207 block6d_expand_conv False\n",
            "208 block6d_expand_bn False\n",
            "209 block6d_expand_activation False\n",
            "210 block6d_dwconv False\n",
            "211 block6d_bn False\n",
            "212 block6d_activation False\n",
            "213 block6d_se_squeeze False\n",
            "214 block6d_se_reshape False\n",
            "215 block6d_se_reduce False\n",
            "216 block6d_se_expand False\n",
            "217 block6d_se_excite False\n",
            "218 block6d_project_conv False\n",
            "219 block6d_project_bn False\n",
            "220 block6d_drop False\n",
            "221 block6d_add False\n",
            "222 block7a_expand_conv False\n",
            "223 block7a_expand_bn False\n",
            "224 block7a_expand_activation False\n",
            "225 block7a_dwconv False\n",
            "226 block7a_bn False\n",
            "227 block7a_activation False\n",
            "228 block7a_se_squeeze True\n",
            "229 block7a_se_reshape True\n",
            "230 block7a_se_reduce True\n",
            "231 block7a_se_expand True\n",
            "232 block7a_se_excite True\n",
            "233 block7a_project_conv True\n",
            "234 block7a_project_bn True\n",
            "235 top_conv True\n",
            "236 top_bn True\n",
            "237 top_activation True\n"
          ]
        }
      ],
      "source": [
        "for layer_number, layer in enumerate(base_model.layers):\n",
        "  print(layer_number, layer.name, layer.trainable)"
      ]
    },
    {
      "cell_type": "markdown",
      "metadata": {
        "id": "5Vgj4t8HTFQD"
      },
      "source": [
        "Nice it seems all layers except for the last 10 are frozen and untrainable. This means only the last 10 layers of the base model along with the output layer will have their weights updated during training.\n",
        "\n",
        "> **Question**: Why did we recompile the model ?\n",
        "\n",
        "Every time you make a change to your models, you need to recompile them.\n",
        "\n",
        "In our case, we're using the exact same loss, optimizer and metrics as before, except this time the learning rate for our optimizer will be 10x smaller than before(0.0001 instead of Adam's default 0.001)\n",
        "\n",
        "We do this so the model doesn't try to overwrite the existing weights in the pretrained model too fast. In other words, we want learning to be more gradual.\n",
        "\n",
        "> 🔑 Note: There's no set standard for setting the learning rate during fine-tuning, though reductions of [2.6x-10x+](https://arxiv.org/abs/1801.06146) seem to work well in practice.\n",
        "\n"
      ]
    },
    {
      "cell_type": "code",
      "execution_count": null,
      "metadata": {
        "colab": {
          "base_uri": "https://localhost:8080/"
        },
        "id": "hHSskW0gUDC-",
        "outputId": "bc56451e-0402-4f25-b863-ee09d93c25ba"
      },
      "outputs": [
        {
          "name": "stdout",
          "output_type": "stream",
          "text": [
            "12\n"
          ]
        }
      ],
      "source": [
        "# how many trainable variable we have now?\n",
        "print(len(model_2.trainable_variables))"
      ]
    },
    {
      "cell_type": "markdown",
      "metadata": {
        "id": "W0iyM4eKUFtl"
      },
      "source": [
        "Wonderful, it looks like our model has a total of 10 trainable variable, the 10 layers of the base model and the weight and bias parameters of dense output layer.\n",
        "\n",
        "Time to fine-tune !\n",
        "\n",
        "We're going to continue training on from where our previous model finished. Since it trained for 5 epochs, our fine-tuning will begin on the epoch 5 and continue for another epochs.\n",
        "\n",
        "To do this, we can use `initial_epoch` paramter of the `fit()` method."
      ]
    },
    {
      "cell_type": "code",
      "execution_count": null,
      "metadata": {
        "colab": {
          "base_uri": "https://localhost:8080/"
        },
        "id": "w6EgfJWoUqI6",
        "outputId": "57e67dcf-0b6f-4990-c66e-92d099af7ee2"
      },
      "outputs": [
        {
          "name": "stdout",
          "output_type": "stream",
          "text": [
            "Saving Tensorboard log files to: transfer_learning/10_percent_fine_tune_last_10/20230102-050954\n",
            "Epoch 5/10\n",
            "24/24 [==============================] - 26s 659ms/step - loss: 0.6144 - accuracy: 0.8387 - val_loss: 0.5116 - val_accuracy: 0.8454\n",
            "Epoch 6/10\n",
            "24/24 [==============================] - 11s 446ms/step - loss: 0.4801 - accuracy: 0.8493 - val_loss: 0.5031 - val_accuracy: 0.8355\n",
            "Epoch 7/10\n",
            "24/24 [==============================] - 10s 406ms/step - loss: 0.4133 - accuracy: 0.8787 - val_loss: 0.4482 - val_accuracy: 0.8520\n",
            "Epoch 8/10\n",
            "24/24 [==============================] - 10s 394ms/step - loss: 0.4009 - accuracy: 0.8787 - val_loss: 0.4565 - val_accuracy: 0.8487\n",
            "Epoch 9/10\n",
            "24/24 [==============================] - 10s 398ms/step - loss: 0.3471 - accuracy: 0.9027 - val_loss: 0.4330 - val_accuracy: 0.8586\n",
            "Epoch 10/10\n",
            "24/24 [==============================] - 12s 466ms/step - loss: 0.2958 - accuracy: 0.9107 - val_loss: 0.4746 - val_accuracy: 0.8520\n"
          ]
        }
      ],
      "source": [
        "# fine tune for another 5 epochs\n",
        "fine_tune_epochs = initial_epochs + 5\n",
        "\n",
        "# refit the model\n",
        "history_fine_10_percent_data_aug = model_2.fit(train_data_10_percent,\n",
        "                                               epochs = fine_tune_epochs,\n",
        "                                               validation_data=test_data,\n",
        "                                               initial_epoch=history_10_percent_data_aug.epoch[-1],\n",
        "                                               validation_steps = int(0.25* len(test_data)),\n",
        "                                               callbacks=[create_tensorboard_callback(\"transfer_learning\", \"10_percent_fine_tune_last_10\")])"
      ]
    },
    {
      "cell_type": "markdown",
      "metadata": {
        "id": "3Bhl43qYUwSa"
      },
      "source": [
        "Great ! We achieved the highest training accuracy percentage after fine-tuning our model.\n",
        "\n",
        "Let's evaluate with all test data,"
      ]
    },
    {
      "cell_type": "code",
      "execution_count": null,
      "metadata": {
        "colab": {
          "base_uri": "https://localhost:8080/"
        },
        "id": "o2Sz8Xv2WTW7",
        "outputId": "8b4024e1-3dfe-49c9-9847-4123a50398c0"
      },
      "outputs": [
        {
          "name": "stdout",
          "output_type": "stream",
          "text": [
            "79/79 [==============================] - 8s 91ms/step - loss: 0.4202 - accuracy: 0.8608\n"
          ]
        }
      ],
      "source": [
        "results_fine_tune_10_percent = model_2.evaluate(test_data)"
      ]
    },
    {
      "cell_type": "markdown",
      "metadata": {
        "id": "rx2-t3CsWaMT"
      },
      "source": [
        "Alright, we need a way to evaluate our model's performance before and after fine-tuning. How about we write a function to compare before and after ?\n"
      ]
    },
    {
      "cell_type": "code",
      "execution_count": null,
      "metadata": {
        "id": "CNIA74e8Wo7L"
      },
      "outputs": [],
      "source": [
        "import matplotlib.pyplot as plt\n",
        "\n",
        "def compare_histories(original_history, new_history, initial_epochs=5):\n",
        "  \"\"\"\n",
        "  Compares two histories objects of a model\n",
        "  \"\"\"\n",
        "\n",
        "  # get the original history measurements\n",
        "  acc = original_history.history['accuracy']\n",
        "  loss = original_history.history['loss']\n",
        "\n",
        "  val_acc = original_history.history['val_accuracy']\n",
        "  val_loss = original_history.history['val_loss']\n",
        "\n",
        "  # Combine original history with new history\n",
        "  total_acc = acc + new_history.history['accuracy']\n",
        "  total_loss = loss + new_history.history['loss']\n",
        "\n",
        "  total_val_acc = val_acc + new_history.history['val_accuracy']\n",
        "  total_val_loss = val_loss + new_history.history['val_loss']\n",
        "\n",
        "\n",
        "  # Make plot for accuracy\n",
        "  plt.figure(figsize=(8,8))\n",
        "  plt.subplot(2, 1, 1)\n",
        "  plt.plot(total_acc, label=\"Training Accuracy\")\n",
        "  plt.plot(total_val_acc, label=\"Validation Accuracy\")\n",
        "  plt.plot([initial_epochs-1, initial_epochs-1], plt.ylim(), label=\"Start Fine Tuning\") # reshift plot around epochs\n",
        "  plt.legend(loc='lower right')\n",
        "  plt.title('Training and Validation Accuracy')\n",
        "\n",
        "\n",
        "  # Make plot for loss\n",
        "  plt.subplot(2, 1, 2)\n",
        "  plt.plot(total_loss, label=\"Training Loss\")\n",
        "  plt.plot(total_val_loss, label=\"Validation Loss\")\n",
        "  plt.plot([initial_epochs-1, initial_epochs-1], plt.ylim(), label=\"Start Fine Tuning\") # reshift plot around epochs\n",
        "  plt.legend(loc='upper right')\n",
        "  plt.title('Training and Validation Loss')\n",
        "\n",
        "  plt.xlabel('epoch')\n",
        "  plt.show();"
      ]
    },
    {
      "cell_type": "code",
      "execution_count": null,
      "metadata": {
        "colab": {
          "base_uri": "https://localhost:8080/",
          "height": 513
        },
        "id": "gW5ValRaYPCK",
        "outputId": "83321829-e0f7-41a4-9f6c-cba14e0aeb47"
      },
      "outputs": [
        {
          "data": {
            "image/png": "[encoded data removed]",
            "text/plain": [
              "<Figure size 576x576 with 2 Axes>"
            ]
          },
          "metadata": {
            "needs_background": "light"
          },
          "output_type": "display_data"
        }
      ],
      "source": [
        "compare_histories(original_history = history_10_percent_data_aug,\n",
        "                  new_history = history_fine_10_percent_data_aug,\n",
        "                  initial_epochs=5)"
      ]
    },
    {
      "cell_type": "markdown",
      "metadata": {
        "id": "diZYaOjxYe_M"
      },
      "source": [
        "Alright, seems like the curves are heading into the right direction after fine-tuning, But remember, it should be noted that **fine-tuning usually works best with larger amount of data and feature extraction works lesser amount of data**."
      ]
    },
    {
      "cell_type": "markdown",
      "metadata": {
        "id": "hTjkEvQj3q9z"
      },
      "source": [
        "### Model 4 : Fine-Tuning an existing model all of the data\n",
        "\n",
        "We'll start by downloading the full version of our 10 food classes dataset."
      ]
    },
    {
      "cell_type": "code",
      "execution_count": null,
      "metadata": {
        "colab": {
          "base_uri": "https://localhost:8080/"
        },
        "id": "Iu2Gz4PM37-i",
        "outputId": "5f684d1e-4d1e-4c28-f494-c849cf87ca08"
      },
      "outputs": [
        {
          "name": "stdout",
          "output_type": "stream",
          "text": [
            "--2023-01-02 05:11:43--  https://storage.googleapis.com/ztm_tf_course/food_vision/10_food_classes_all_data.zip\n",
            "Resolving storage.googleapis.com (storage.googleapis.com)... 142.250.4.128, 142.251.10.128, 142.251.12.128, ...\n",
            "Connecting to storage.googleapis.com (storage.googleapis.com)|142.250.4.128|:443... connected.\n",
            "HTTP request sent, awaiting response... 200 OK\n",
            "Length: 519183241 (495M) [application/zip]\n",
            "Saving to: ‘10_food_classes_all_data.zip’\n",
            "\n",
            "10_food_classes_all 100%[===================>] 495.13M  22.6MB/s    in 23s     \n",
            "\n",
            "2023-01-02 05:12:06 (21.2 MB/s) - ‘10_food_classes_all_data.zip’ saved [519183241/519183241]\n",
            "\n"
          ]
        }
      ],
      "source": [
        "# Download and unzip 10 classes of data of all images\n",
        "!wget https://storage.googleapis.com/ztm_tf_course/food_vision/10_food_classes_all_data.zip\n",
        "\n",
        "unzip_data(\"10_food_classes_all_data.zip\")\n",
        "\n",
        "# Setup data directories\n",
        "train_dir = \"10_food_classes_all_data/train/\"\n",
        "test_dir = \"10_food_classes_all_data/test/\""
      ]
    },
    {
      "cell_type": "code",
      "execution_count": null,
      "metadata": {
        "colab": {
          "base_uri": "https://localhost:8080/"
        },
        "id": "23Ygywh64TTt",
        "outputId": "39130aab-3a2e-4a9c-c865-bd3a5232cba0"
      },
      "outputs": [
        {
          "name": "stdout",
          "output_type": "stream",
          "text": [
            "There are 2 directories and 0 files in '10_food_classes_all_data'\n",
            "There are 10 directories and 0 files in '10_food_classes_all_data/test'\n",
            "There are 0 directories and 250 files in '10_food_classes_all_data/test/steak'\n",
            "There are 0 directories and 250 files in '10_food_classes_all_data/test/ice_cream'\n",
            "There are 0 directories and 250 files in '10_food_classes_all_data/test/hamburger'\n",
            "There are 0 directories and 250 files in '10_food_classes_all_data/test/chicken_wings'\n",
            "There are 0 directories and 250 files in '10_food_classes_all_data/test/chicken_curry'\n",
            "There are 0 directories and 250 files in '10_food_classes_all_data/test/pizza'\n",
            "There are 0 directories and 250 files in '10_food_classes_all_data/test/grilled_salmon'\n",
            "There are 0 directories and 250 files in '10_food_classes_all_data/test/ramen'\n",
            "There are 0 directories and 250 files in '10_food_classes_all_data/test/sushi'\n",
            "There are 0 directories and 250 files in '10_food_classes_all_data/test/fried_rice'\n",
            "There are 10 directories and 0 files in '10_food_classes_all_data/train'\n",
            "There are 0 directories and 750 files in '10_food_classes_all_data/train/steak'\n",
            "There are 0 directories and 750 files in '10_food_classes_all_data/train/ice_cream'\n",
            "There are 0 directories and 750 files in '10_food_classes_all_data/train/hamburger'\n",
            "There are 0 directories and 750 files in '10_food_classes_all_data/train/chicken_wings'\n",
            "There are 0 directories and 750 files in '10_food_classes_all_data/train/chicken_curry'\n",
            "There are 0 directories and 750 files in '10_food_classes_all_data/train/pizza'\n",
            "There are 0 directories and 750 files in '10_food_classes_all_data/train/grilled_salmon'\n",
            "There are 0 directories and 750 files in '10_food_classes_all_data/train/ramen'\n",
            "There are 0 directories and 750 files in '10_food_classes_all_data/train/sushi'\n",
            "There are 0 directories and 750 files in '10_food_classes_all_data/train/fried_rice'\n"
          ]
        }
      ],
      "source": [
        "# How many images are we working with now ?\n",
        "walk_through_dir(\"10_food_classes_all_data\")"
      ]
    },
    {
      "cell_type": "markdown",
      "metadata": {
        "id": "tKG9e-a74aSm"
      },
      "source": [
        "And now we'll turn the images into tensors datasets."
      ]
    },
    {
      "cell_type": "code",
      "execution_count": null,
      "metadata": {
        "colab": {
          "base_uri": "https://localhost:8080/"
        },
        "id": "PoEtlCPx4f-T",
        "outputId": "fb03ac8d-bf61-4149-b362-7f355750445e"
      },
      "outputs": [
        {
          "name": "stdout",
          "output_type": "stream",
          "text": [
            "Found 7500 files belonging to 10 classes.\n",
            "Found 2500 files belonging to 10 classes.\n"
          ]
        }
      ],
      "source": [
        "import tensorflow as tf\n",
        "\n",
        "IMG_SIZE = (224, 224)\n",
        "\n",
        "train_data_10_classes_full = tf.keras.preprocessing.image_dataset_from_directory(train_dir,\n",
        "                                                                                 label_mode=\"categorical\",\n",
        "                                                                                 image_size=IMG_SIZE)\n",
        "\n",
        "test_data = tf.keras.preprocessing.image_dataset_from_directory(test_dir,\n",
        "                                                                label_mode=\"categorical\",\n",
        "                                                                image_size=IMG_SIZE)"
      ]
    },
    {
      "cell_type": "markdown",
      "metadata": {
        "id": "NETnMIwB5YJU"
      },
      "source": [
        "We've got 10x more images on training classes to work with.\n",
        "\n",
        "The **test dataset is the same** we've been using for our previous experiment.\n",
        "\n",
        "As it is now, our `model_2` has been fine-tuned on 10 percent of the data, so to begin fine-tuning on all of the data and keep our experiments consistent, we need to revert it back to the weights we checkpointed after 5 epochs of feature-extraction.\n",
        "\n",
        "To demonstrate this, we'll first evaluate the current `model_2`."
      ]
    },
    {
      "cell_type": "code",
      "execution_count": null,
      "metadata": {
        "colab": {
          "base_uri": "https://localhost:8080/"
        },
        "id": "ErMUaeb78SIT",
        "outputId": "e1891241-722b-415b-c6ed-112e0e369f04"
      },
      "outputs": [
        {
          "name": "stdout",
          "output_type": "stream",
          "text": [
            "79/79 [==============================] - 8s 93ms/step - loss: 0.4202 - accuracy: 0.8608\n"
          ]
        },
        {
          "data": {
            "text/plain": [
              "[0.4201902747154236, 0.86080002784729]"
            ]
          },
          "execution_count": 55,
          "metadata": {},
          "output_type": "execute_result"
        }
      ],
      "source": [
        "# evaluate model (this is the fine-tuned 10 percent of data version)\n",
        "model_2.evaluate(test_data)"
      ]
    },
    {
      "cell_type": "markdown",
      "metadata": {
        "id": "n4-kP2au8mdY"
      },
      "source": [
        "These are the same values as `results_fine_tune_10_percent`"
      ]
    },
    {
      "cell_type": "code",
      "execution_count": null,
      "metadata": {
        "colab": {
          "base_uri": "https://localhost:8080/"
        },
        "id": "gMV11F358Vok",
        "outputId": "4e9e04ff-d81d-44d0-b079-d108ad2a980d"
      },
      "outputs": [
        {
          "data": {
            "text/plain": [
              "[0.4201902449131012, 0.86080002784729]"
            ]
          },
          "execution_count": 57,
          "metadata": {},
          "output_type": "execute_result"
        }
      ],
      "source": [
        "results_fine_tune_10_percent"
      ]
    },
    {
      "cell_type": "markdown",
      "metadata": {
        "id": "mOXKN9q68d_O"
      },
      "source": [
        "Now we'll revert the model back to the saved weights"
      ]
    },
    {
      "cell_type": "code",
      "execution_count": null,
      "metadata": {
        "colab": {
          "base_uri": "https://localhost:8080/"
        },
        "id": "QOoVipHY8uSj",
        "outputId": "d4ee6494-5f86-4448-9240-50cd2eed8351"
      },
      "outputs": [
        {
          "data": {
            "text/plain": [
              "<tensorflow.python.training.tracking.util.CheckpointLoadStatus at 0x7fb4357f5790>"
            ]
          },
          "execution_count": 58,
          "metadata": {},
          "output_type": "execute_result"
        }
      ],
      "source": [
        "# load model from checkpoint, that way we can fine-tune from the same stafe the 10 percent data model was fine-tuned from\n",
        "model_2.load_weights(checkpoint_path) # revert model back to saved weights"
      ]
    },
    {
      "cell_type": "markdown",
      "metadata": {
        "id": "H3gz5Zrr9h_c"
      },
      "source": [
        "And the results should be the same as `results_10_percent_data_aug`"
      ]
    },
    {
      "cell_type": "code",
      "execution_count": null,
      "metadata": {
        "colab": {
          "base_uri": "https://localhost:8080/"
        },
        "id": "V3hRrinf9pV6",
        "outputId": "f05446b8-452e-48f7-ecd7-5ab97a4c2ea2"
      },
      "outputs": [
        {
          "name": "stdout",
          "output_type": "stream",
          "text": [
            "79/79 [==============================] - 7s 81ms/step - loss: 0.6234 - accuracy: 0.8408\n"
          ]
        },
        {
          "data": {
            "text/plain": [
              "[0.6234313249588013, 0.8407999873161316]"
            ]
          },
          "execution_count": 59,
          "metadata": {},
          "output_type": "execute_result"
        }
      ],
      "source": [
        "model_2.evaluate(test_data)"
      ]
    },
    {
      "cell_type": "code",
      "execution_count": null,
      "metadata": {
        "colab": {
          "base_uri": "https://localhost:8080/"
        },
        "id": "LhdMjjhQ9rpp",
        "outputId": "10a79f25-5fc8-4a22-f3bc-4364db7662c9"
      },
      "outputs": [
        {
          "data": {
            "text/plain": [
              "[0.6234309673309326, 0.8407999873161316]"
            ]
          },
          "execution_count": 60,
          "metadata": {},
          "output_type": "execute_result"
        }
      ],
      "source": [
        "results_10_percent_data_aug"
      ]
    },
    {
      "cell_type": "markdown",
      "metadata": {
        "id": "BbLM1Lgc9v0r"
      },
      "source": [
        "Hence, we have reverted the fine-tuned model on 10% data to feature extracted stage.\n",
        "\n",
        "So far we've done is:\n",
        "\n",
        "1. Trained a feature extraction transfer learning model for 5 epochs on 10% of the data (with all base model layers frozen) and saved the weights using `ModelCheckpoint`\n",
        "2. Fine-tuned the same model on the same 10% of the data for a further 5 epochs with the top 10 layers of the base model unfrozen.\n",
        "3. Saved the results and training logs each time.\n",
        "4. Reloaded the model from 1 to do the same steps as 2 but with all of the data.\n",
        "\n",
        "The same steps as 2 ?\n",
        "\n",
        "Yeah, we're going to fine-tune the last 10 layers of the base model with the full dataset for another 5 epochs but first let's remind ourselves which layers are trainable."
      ]
    },
    {
      "cell_type": "code",
      "execution_count": null,
      "metadata": {
        "colab": {
          "base_uri": "https://localhost:8080/"
        },
        "id": "i1yPOZbb_UBb",
        "outputId": "917f0c0e-0d7d-4c68-c52a-a4ebe8b3e101"
      },
      "outputs": [
        {
          "name": "stdout",
          "output_type": "stream",
          "text": [
            "0 input_layer True\n",
            "1 data_augmentation_model_2 True\n",
            "2 efficientnetb0 True\n",
            "3 global_average_pooling_layer True\n",
            "4 output_layer True\n"
          ]
        }
      ],
      "source": [
        "# Check which layers are trainable in the whole model\n",
        "for layer_number, layer in enumerate(model_2.layers):\n",
        "  print(layer_number, layer.name, layer.trainable)"
      ]
    },
    {
      "cell_type": "markdown",
      "metadata": {
        "id": "FEeApLRG_uuS"
      },
      "source": [
        "Can we get a little more specific ?\n"
      ]
    },
    {
      "cell_type": "code",
      "execution_count": null,
      "metadata": {
        "colab": {
          "base_uri": "https://localhost:8080/"
        },
        "id": "-8aqK6nr_ydD",
        "outputId": "01be3195-c0b7-46da-91a9-c476b111a337"
      },
      "outputs": [
        {
          "name": "stdout",
          "output_type": "stream",
          "text": [
            "0 input_3 False\n",
            "1 rescaling_2 False\n",
            "2 normalization_2 False\n",
            "3 tf.math.truediv_2 False\n",
            "4 stem_conv_pad False\n",
            "5 stem_conv False\n",
            "6 stem_bn False\n",
            "7 stem_activation False\n",
            "8 block1a_dwconv False\n",
            "9 block1a_bn False\n",
            "10 block1a_activation False\n",
            "11 block1a_se_squeeze False\n",
            "12 block1a_se_reshape False\n",
            "13 block1a_se_reduce False\n",
            "14 block1a_se_expand False\n",
            "15 block1a_se_excite False\n",
            "16 block1a_project_conv False\n",
            "17 block1a_project_bn False\n",
            "18 block2a_expand_conv False\n",
            "19 block2a_expand_bn False\n",
            "20 block2a_expand_activation False\n",
            "21 block2a_dwconv_pad False\n",
            "22 block2a_dwconv False\n",
            "23 block2a_bn False\n",
            "24 block2a_activation False\n",
            "25 block2a_se_squeeze False\n",
            "26 block2a_se_reshape False\n",
            "27 block2a_se_reduce False\n",
            "28 block2a_se_expand False\n",
            "29 block2a_se_excite False\n",
            "30 block2a_project_conv False\n",
            "31 block2a_project_bn False\n",
            "32 block2b_expand_conv False\n",
            "33 block2b_expand_bn False\n",
            "34 block2b_expand_activation False\n",
            "35 block2b_dwconv False\n",
            "36 block2b_bn False\n",
            "37 block2b_activation False\n",
            "38 block2b_se_squeeze False\n",
            "39 block2b_se_reshape False\n",
            "40 block2b_se_reduce False\n",
            "41 block2b_se_expand False\n",
            "42 block2b_se_excite False\n",
            "43 block2b_project_conv False\n",
            "44 block2b_project_bn False\n",
            "45 block2b_drop False\n",
            "46 block2b_add False\n",
            "47 block3a_expand_conv False\n",
            "48 block3a_expand_bn False\n",
            "49 block3a_expand_activation False\n",
            "50 block3a_dwconv_pad False\n",
            "51 block3a_dwconv False\n",
            "52 block3a_bn False\n",
            "53 block3a_activation False\n",
            "54 block3a_se_squeeze False\n",
            "55 block3a_se_reshape False\n",
            "56 block3a_se_reduce False\n",
            "57 block3a_se_expand False\n",
            "58 block3a_se_excite False\n",
            "59 block3a_project_conv False\n",
            "60 block3a_project_bn False\n",
            "61 block3b_expand_conv False\n",
            "62 block3b_expand_bn False\n",
            "63 block3b_expand_activation False\n",
            "64 block3b_dwconv False\n",
            "65 block3b_bn False\n",
            "66 block3b_activation False\n",
            "67 block3b_se_squeeze False\n",
            "68 block3b_se_reshape False\n",
            "69 block3b_se_reduce False\n",
            "70 block3b_se_expand False\n",
            "71 block3b_se_excite False\n",
            "72 block3b_project_conv False\n",
            "73 block3b_project_bn False\n",
            "74 block3b_drop False\n",
            "75 block3b_add False\n",
            "76 block4a_expand_conv False\n",
            "77 block4a_expand_bn False\n",
            "78 block4a_expand_activation False\n",
            "79 block4a_dwconv_pad False\n",
            "80 block4a_dwconv False\n",
            "81 block4a_bn False\n",
            "82 block4a_activation False\n",
            "83 block4a_se_squeeze False\n",
            "84 block4a_se_reshape False\n",
            "85 block4a_se_reduce False\n",
            "86 block4a_se_expand False\n",
            "87 block4a_se_excite False\n",
            "88 block4a_project_conv False\n",
            "89 block4a_project_bn False\n",
            "90 block4b_expand_conv False\n",
            "91 block4b_expand_bn False\n",
            "92 block4b_expand_activation False\n",
            "93 block4b_dwconv False\n",
            "94 block4b_bn False\n",
            "95 block4b_activation False\n",
            "96 block4b_se_squeeze False\n",
            "97 block4b_se_reshape False\n",
            "98 block4b_se_reduce False\n",
            "99 block4b_se_expand False\n",
            "100 block4b_se_excite False\n",
            "101 block4b_project_conv False\n",
            "102 block4b_project_bn False\n",
            "103 block4b_drop False\n",
            "104 block4b_add False\n",
            "105 block4c_expand_conv False\n",
            "106 block4c_expand_bn False\n",
            "107 block4c_expand_activation False\n",
            "108 block4c_dwconv False\n",
            "109 block4c_bn False\n",
            "110 block4c_activation False\n",
            "111 block4c_se_squeeze False\n",
            "112 block4c_se_reshape False\n",
            "113 block4c_se_reduce False\n",
            "114 block4c_se_expand False\n",
            "115 block4c_se_excite False\n",
            "116 block4c_project_conv False\n",
            "117 block4c_project_bn False\n",
            "118 block4c_drop False\n",
            "119 block4c_add False\n",
            "120 block5a_expand_conv False\n",
            "121 block5a_expand_bn False\n",
            "122 block5a_expand_activation False\n",
            "123 block5a_dwconv False\n",
            "124 block5a_bn False\n",
            "125 block5a_activation False\n",
            "126 block5a_se_squeeze False\n",
            "127 block5a_se_reshape False\n",
            "128 block5a_se_reduce False\n",
            "129 block5a_se_expand False\n",
            "130 block5a_se_excite False\n",
            "131 block5a_project_conv False\n",
            "132 block5a_project_bn False\n",
            "133 block5b_expand_conv False\n",
            "134 block5b_expand_bn False\n",
            "135 block5b_expand_activation False\n",
            "136 block5b_dwconv False\n",
            "137 block5b_bn False\n",
            "138 block5b_activation False\n",
            "139 block5b_se_squeeze False\n",
            "140 block5b_se_reshape False\n",
            "141 block5b_se_reduce False\n",
            "142 block5b_se_expand False\n",
            "143 block5b_se_excite False\n",
            "144 block5b_project_conv False\n",
            "145 block5b_project_bn False\n",
            "146 block5b_drop False\n",
            "147 block5b_add False\n",
            "148 block5c_expand_conv False\n",
            "149 block5c_expand_bn False\n",
            "150 block5c_expand_activation False\n",
            "151 block5c_dwconv False\n",
            "152 block5c_bn False\n",
            "153 block5c_activation False\n",
            "154 block5c_se_squeeze False\n",
            "155 block5c_se_reshape False\n",
            "156 block5c_se_reduce False\n",
            "157 block5c_se_expand False\n",
            "158 block5c_se_excite False\n",
            "159 block5c_project_conv False\n",
            "160 block5c_project_bn False\n",
            "161 block5c_drop False\n",
            "162 block5c_add False\n",
            "163 block6a_expand_conv False\n",
            "164 block6a_expand_bn False\n",
            "165 block6a_expand_activation False\n",
            "166 block6a_dwconv_pad False\n",
            "167 block6a_dwconv False\n",
            "168 block6a_bn False\n",
            "169 block6a_activation False\n",
            "170 block6a_se_squeeze False\n",
            "171 block6a_se_reshape False\n",
            "172 block6a_se_reduce False\n",
            "173 block6a_se_expand False\n",
            "174 block6a_se_excite False\n",
            "175 block6a_project_conv False\n",
            "176 block6a_project_bn False\n",
            "177 block6b_expand_conv False\n",
            "178 block6b_expand_bn False\n",
            "179 block6b_expand_activation False\n",
            "180 block6b_dwconv False\n",
            "181 block6b_bn False\n",
            "182 block6b_activation False\n",
            "183 block6b_se_squeeze False\n",
            "184 block6b_se_reshape False\n",
            "185 block6b_se_reduce False\n",
            "186 block6b_se_expand False\n",
            "187 block6b_se_excite False\n",
            "188 block6b_project_conv False\n",
            "189 block6b_project_bn False\n",
            "190 block6b_drop False\n",
            "191 block6b_add False\n",
            "192 block6c_expand_conv False\n",
            "193 block6c_expand_bn False\n",
            "194 block6c_expand_activation False\n",
            "195 block6c_dwconv False\n",
            "196 block6c_bn False\n",
            "197 block6c_activation False\n",
            "198 block6c_se_squeeze False\n",
            "199 block6c_se_reshape False\n",
            "200 block6c_se_reduce False\n",
            "201 block6c_se_expand False\n",
            "202 block6c_se_excite False\n",
            "203 block6c_project_conv False\n",
            "204 block6c_project_bn False\n",
            "205 block6c_drop False\n",
            "206 block6c_add False\n",
            "207 block6d_expand_conv False\n",
            "208 block6d_expand_bn False\n",
            "209 block6d_expand_activation False\n",
            "210 block6d_dwconv False\n",
            "211 block6d_bn False\n",
            "212 block6d_activation False\n",
            "213 block6d_se_squeeze False\n",
            "214 block6d_se_reshape False\n",
            "215 block6d_se_reduce False\n",
            "216 block6d_se_expand False\n",
            "217 block6d_se_excite False\n",
            "218 block6d_project_conv False\n",
            "219 block6d_project_bn False\n",
            "220 block6d_drop False\n",
            "221 block6d_add False\n",
            "222 block7a_expand_conv False\n",
            "223 block7a_expand_bn False\n",
            "224 block7a_expand_activation False\n",
            "225 block7a_dwconv False\n",
            "226 block7a_bn False\n",
            "227 block7a_activation False\n",
            "228 block7a_se_squeeze True\n",
            "229 block7a_se_reshape True\n",
            "230 block7a_se_reduce True\n",
            "231 block7a_se_expand True\n",
            "232 block7a_se_excite True\n",
            "233 block7a_project_conv True\n",
            "234 block7a_project_bn True\n",
            "235 top_conv True\n",
            "236 top_bn True\n",
            "237 top_activation True\n"
          ]
        }
      ],
      "source": [
        "for layer_number, layer in enumerate(base_model.layers):\n",
        "  print(layer_number, layer.name, layer.trainable)"
      ]
    },
    {
      "cell_type": "markdown",
      "metadata": {
        "id": "Mx3BaAv5_6ua"
      },
      "source": [
        "The last 10 layers are trainable (unfrozen)\n",
        "\n",
        "We need re-compile the model because we Reloaded the weights."
      ]
    },
    {
      "cell_type": "code",
      "execution_count": null,
      "metadata": {
        "colab": {
          "base_uri": "https://localhost:8080/"
        },
        "id": "djSkkhHgAcMx",
        "outputId": "d1717ab6-8c2e-4232-ded6-63f64f8aa16d"
      },
      "outputs": [
        {
          "name": "stderr",
          "output_type": "stream",
          "text": [
            "/usr/local/lib/python3.8/dist-packages/keras/optimizers/optimizer_v2/adam.py:110: UserWarning: The `lr` argument is deprecated, use `learning_rate` instead.\n",
            "  super(Adam, self).__init__(name, **kwargs)\n"
          ]
        }
      ],
      "source": [
        "model_2.compile(loss='categorical_crossentropy',\n",
        "                optimizer=tf.keras.optimizers.Adam(lr=0.0001),\n",
        "                metrics=['accuracy'])"
      ]
    },
    {
      "cell_type": "markdown",
      "metadata": {
        "id": "Aqh5UFIyAl4g"
      },
      "source": [
        "Alright, time to fine-tune on all of the data!"
      ]
    },
    {
      "cell_type": "code",
      "execution_count": null,
      "metadata": {
        "colab": {
          "base_uri": "https://localhost:8080/"
        },
        "id": "9q3xOcJcArZF",
        "outputId": "00c848f5-e791-4d73-d42f-52c5c13553fb"
      },
      "outputs": [
        {
          "name": "stdout",
          "output_type": "stream",
          "text": [
            "Saving Tensorboard log files to: transfer_learning/full_10_classes_fine_tune_last_10/20230102-054748\n",
            "Epoch 5/10\n",
            "235/235 [==============================] - 74s 285ms/step - loss: 0.6451 - accuracy: 0.7927 - val_loss: 0.3496 - val_accuracy: 0.9030\n",
            "Epoch 6/10\n",
            "235/235 [==============================] - 54s 229ms/step - loss: 0.5219 - accuracy: 0.8333 - val_loss: 0.2918 - val_accuracy: 0.9030\n",
            "Epoch 7/10\n",
            "235/235 [==============================] - 50s 213ms/step - loss: 0.4565 - accuracy: 0.8540 - val_loss: 0.3240 - val_accuracy: 0.8997\n",
            "Epoch 8/10\n",
            "235/235 [==============================] - 47s 198ms/step - loss: 0.4214 - accuracy: 0.8613 - val_loss: 0.2441 - val_accuracy: 0.9276\n",
            "Epoch 9/10\n",
            "235/235 [==============================] - 45s 190ms/step - loss: 0.3904 - accuracy: 0.8721 - val_loss: 0.2571 - val_accuracy: 0.9128\n",
            "Epoch 10/10\n",
            "235/235 [==============================] - 43s 182ms/step - loss: 0.3630 - accuracy: 0.8808 - val_loss: 0.2752 - val_accuracy: 0.9112\n"
          ]
        }
      ],
      "source": [
        "fine_tune_epochs = initial_epochs + 5\n",
        "\n",
        "history_fine_tune_full_data =  model_2.fit(train_data_10_classes_full,\n",
        "                                           epochs=fine_tune_epochs,\n",
        "                                           initial_epoch=history_10_percent_data_aug.epoch[-1],\n",
        "                                           validation_data=test_data,\n",
        "                                           validation_steps=int(0.25 * len(test_data)),\n",
        "                                           callbacks=[create_tensorboard_callback(\"transfer_learning\",\n",
        "                                                                                  \"full_10_classes_fine_tune_last_10\")])"
      ]
    },
    {
      "cell_type": "markdown",
      "metadata": {
        "id": "xh68B5-jBVtp"
      },
      "source": [
        "Let's evaluate on all of the test data."
      ]
    },
    {
      "cell_type": "code",
      "execution_count": null,
      "metadata": {
        "colab": {
          "base_uri": "https://localhost:8080/"
        },
        "id": "_MMxPpjpBezU",
        "outputId": "d0664098-337b-4676-eae9-63513c8bec26"
      },
      "outputs": [
        {
          "name": "stdout",
          "output_type": "stream",
          "text": [
            "79/79 [==============================] - 6s 74ms/step - loss: 0.2684 - accuracy: 0.9136\n"
          ]
        },
        {
          "data": {
            "text/plain": [
              "[0.2683623433113098, 0.9136000275611877]"
            ]
          },
          "execution_count": 68,
          "metadata": {},
          "output_type": "execute_result"
        }
      ],
      "source": [
        "results_fine_tune_full_data = model_2.evaluate(test_data)\n",
        "results_fine_tune_full_data"
      ]
    },
    {
      "cell_type": "markdown",
      "metadata": {
        "id": "jihA0yWdBk1H"
      },
      "source": [
        "Nice! It looks like fine-tuning with all of the data has given our model a boost, how do the training curves look like ?\n"
      ]
    },
    {
      "cell_type": "code",
      "execution_count": null,
      "metadata": {
        "colab": {
          "base_uri": "https://localhost:8080/",
          "height": 513
        },
        "id": "KtMNjJwdDKPP",
        "outputId": "3c68699f-d540-4bfd-9cbc-521898370e79"
      },
      "outputs": [
        {
          "data": {
            "image/png": "[encoded data removed]",
            "text/plain": [
              "<Figure size 576x576 with 2 Axes>"
            ]
          },
          "metadata": {
            "needs_background": "light"
          },
          "output_type": "display_data"
        }
      ],
      "source": [
        "compare_histories(original_history=history_10_percent_data_aug,\n",
        "                  new_history=history_fine_tune_full_data,\n",
        "                  initial_epochs=5)"
      ]
    },
    {
      "cell_type": "markdown",
      "metadata": {
        "id": "GwUjYM4ODXUG"
      },
      "source": [
        "## Viewing our experiment data on TensorBoard"
      ]
    },
    {
      "cell_type": "code",
      "execution_count": null,
      "metadata": {
        "id": "hSoscQdQDhHe"
      },
      "outputs": [],
      "source": [
        "!tensorboard dev upload --logdir ./transfer_learning \\\n",
        "  --name \"Transfer Learning experiments\" \\\n",
        "  --description \"A series of different transfer learning experiments with varying amounts of data and fine-tuning\" \\\n",
        "  --one_shot"
      ]
    },
    {
      "cell_type": "markdown",
      "metadata": {
        "id": "vGi9RAqTD05O"
      },
      "source": [
        "Experiment URL : https://tensorboard.dev/experiment/3uRZ8fzaRVO7rkr4GR0t0g/"
      ]
    },
    {
      "cell_type": "code",
      "execution_count": null,
      "metadata": {
        "id": "KGNouSc3EF22"
      },
      "outputs": [],
      "source": [
        "# To delete an experiment,\n",
        "# !tensorboard dev delete --experiment_id 3uRZ8fzaRVO7rkr4GR0t0g"
      ]
    }
  ],
  "metadata": {
    "accelerator": "GPU",
    "colab": {
      "provenance": [],
      "toc_visible": true
    },
    "gpuClass": "standard",
    "kernelspec": {
      "display_name": "Python 3.10.7 64-bit",
      "language": "python",
      "name": "python3"
    },
    "language_info": {
      "name": "python",
      "version": "3.10.7"
    },
    "vscode": {
      "interpreter": {
        "hash": "aee8b7b246df8f9039afb4144a1f6fd8d2ca17a180786b69acc140d282b71a49"
      }
    }
  },
  "nbformat": 4,
  "nbformat_minor": 0
}
